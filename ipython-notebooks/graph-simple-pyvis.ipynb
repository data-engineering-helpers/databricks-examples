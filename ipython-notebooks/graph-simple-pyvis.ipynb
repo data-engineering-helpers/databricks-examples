{
 "cells": [
  {
   "cell_type": "code",
   "execution_count": 3,
   "id": "47b9c1ae-1758-4ea8-bcfa-d8aa981d27cf",
   "metadata": {},
   "outputs": [
    {
     "data": {
      "text/markdown": [
       "\n",
       "### GitHub\n",
       "* This GitHub repository: https://github.com/data-engineering-helpers/databricks-examples\n",
       "  + This Jupyter notebook: https://github.com/data-engineering-helpers/databricks-examples/tree/main/ipython-notebooks/graph-simple-pyvis.ipynb\n",
       "\n",
       "### Articles\n",
       "* [Medium - Graphs with Python - Overview and best libraries](https://towardsdatascience.com/graphs-with-python-overview-and-best-libraries-a92aa485c2f8)\n",
       "  + [NetworkX](https://networkx.org/) for general graph analysis;\n",
       "  + [PyVis](https://pyvis.readthedocs.io/en/latest/) for interactive graph visualizations right in your browser;\n",
       "  + [PyG](https://www.pyg.org/) and [DGL](https://www.dgl.ai/) for solving various graph machine learning tasks.\n",
       "\n",
       "### Spark\n",
       "* [Spark GraphX](https://spark.apache.org/docs/latest/graphx-programming-guide.html)\n",
       "* [Spark - GraphFrames](https://graphframes.github.io/graphframes/docs/_site/index.html)\n",
       "  + Included in DataBricks Machine Learning (ML) clusters, _i.e._, clusters named like `datalead-ds-`\n",
       "  + Latest open source version for Spark 3.2: `graphframes/graphframes:0.8.2-spark3.2-s_2.12`\n",
       "  + Open source library: `pyspark --packages graphframes:graphframes:0.8.2-spark3.2-s_2.12`\n",
       "* [StackOverflow - Spark GraphFrame](https://stackoverflow.com/a/36968166/798053)\n",
       "\n",
       "#### GraphFrames\n",
       "* [GraphFrames - Quick Start](https://graphframes.github.io/graphframes/docs/_site/quick-start.html)\n",
       "* [StackOverflow - GraphFrame from edges only](https://stackoverflow.com/a/57791091/798053)\n",
       "* [StackOverflow - GraphFrame to networkx](https://stackoverflow.com/questions/74636063/pyspark-graphframe-and-networkx-for-graphs-with-hierarchy)\n",
       "> `import networkx as nx; employee_graph_nx = nx.from_pandas_edgelist(employee_graph.edges.toPandas(),'src','dst')`\n",
       "In order to visualize GraphFrames, one may export GraphFrames into NetworkX graphs and,\n",
       "from there, import them into PyVis grahs.\n",
       "\n",
       "### NetworkX\n",
       "* [NetworkX - Tutorial](https://networkx.org/documentation/stable/tutorial.html)\n",
       "* [NetworkX - Reference documentation](https://networkx.org/documentation/stable/reference/index.html)\n",
       "  + [NetworkX - Documenttion - `Graph.add_node()`](https://networkx.org/documentation/stable/reference/classes/generated/networkx.Graph.add_node.html)\n",
       "  + [NetworkX - Documenttion - `Graph.add_nodes_from()`](https://networkx.org/documentation/stable/reference/classes/generated/networkx.Graph.add_nodes_from.html)\n",
       "\n",
       "### PyVis\n",
       "* PyVis: https://pyvis.readthedocs.io/en/latest/\n",
       "  + [PyVis - Integration with NetworkX](https://pyvis.readthedocs.io/en/latest/tutorial.html#networkx-integration)\n",
       "* [DataBricks community - Displaying HTML output](https://community.databricks.com/s/question/0D53f00001HKHnuCAH/displaying-html-output)\n",
       "> `graph_html = open(\"/dbfs/tmp/graph.html\", 'r').read(); displayHTML(graph_html)`\n",
       "* [GitHub - Holoviz - Use PyViz on Azure Databricks](https://github.com/holoviz/holoviz/issues/170):\n",
       "> run `write_html()` function and use `display_html(Network.html)`\n"
      ],
      "text/plain": [
       "<IPython.core.display.Markdown object>"
      ]
     },
     "metadata": {},
     "output_type": "display_data"
    }
   ],
   "source": [
    "%%markdown\n",
    "\n",
    "### GitHub\n",
    "* This GitHub repository: https://github.com/data-engineering-helpers/databricks-examples\n",
    "  + This Jupyter notebook: https://github.com/data-engineering-helpers/databricks-examples/tree/main/ipython-notebooks/graph-simple-pyvis.ipynb\n",
    "\n",
    "### Articles\n",
    "* [Medium - Graphs with Python - Overview and best libraries](https://towardsdatascience.com/graphs-with-python-overview-and-best-libraries-a92aa485c2f8)\n",
    "  + [NetworkX](https://networkx.org/) for general graph analysis;\n",
    "  + [PyVis](https://pyvis.readthedocs.io/en/latest/) for interactive graph visualizations right in your browser;\n",
    "  + [PyG](https://www.pyg.org/) and [DGL](https://www.dgl.ai/) for solving various graph machine learning tasks.\n",
    "\n",
    "### Spark\n",
    "* [Spark GraphX](https://spark.apache.org/docs/latest/graphx-programming-guide.html)\n",
    "* [Spark - GraphFrames](https://graphframes.github.io/graphframes/docs/_site/index.html)\n",
    "  + Included in DataBricks Machine Learning (ML) clusters, _i.e._, clusters named like `datalead-ds-`\n",
    "  + Latest open source version for Spark 3.2: `graphframes/graphframes:0.8.2-spark3.2-s_2.12`\n",
    "  + Open source library: `pyspark --packages graphframes:graphframes:0.8.2-spark3.2-s_2.12`\n",
    "* [StackOverflow - Spark GraphFrame](https://stackoverflow.com/a/36968166/798053)\n",
    "\n",
    "#### GraphFrames\n",
    "* [GraphFrames - Quick Start](https://graphframes.github.io/graphframes/docs/_site/quick-start.html)\n",
    "* [StackOverflow - GraphFrame from edges only](https://stackoverflow.com/a/57791091/798053)\n",
    "* [StackOverflow - GraphFrame to networkx](https://stackoverflow.com/questions/74636063/pyspark-graphframe-and-networkx-for-graphs-with-hierarchy)\n",
    "> `import networkx as nx; employee_graph_nx = nx.from_pandas_edgelist(employee_graph.edges.toPandas(),'src','dst')`\n",
    "In order to visualize GraphFrames, one may export GraphFrames into NetworkX graphs and,\n",
    "from there, import them into PyVis grahs.\n",
    "\n",
    "### NetworkX\n",
    "* [NetworkX - Tutorial](https://networkx.org/documentation/stable/tutorial.html)\n",
    "* [NetworkX - Reference documentation](https://networkx.org/documentation/stable/reference/index.html)\n",
    "  + [NetworkX - Documenttion - `Graph.add_node()`](https://networkx.org/documentation/stable/reference/classes/generated/networkx.Graph.add_node.html)\n",
    "  + [NetworkX - Documenttion - `Graph.add_nodes_from()`](https://networkx.org/documentation/stable/reference/classes/generated/networkx.Graph.add_nodes_from.html)\n",
    "\n",
    "### PyVis\n",
    "* PyVis: https://pyvis.readthedocs.io/en/latest/\n",
    "  + [PyVis - Integration with NetworkX](https://pyvis.readthedocs.io/en/latest/tutorial.html#networkx-integration)\n",
    "* [DataBricks community - Displaying HTML output](https://community.databricks.com/s/question/0D53f00001HKHnuCAH/displaying-html-output)\n",
    "> `graph_html = open(\"/dbfs/tmp/graph.html\", 'r').read(); displayHTML(graph_html)`\n",
    "* [GitHub - Holoviz - Use PyViz on Azure Databricks](https://github.com/holoviz/holoviz/issues/170):\n",
    "> run `write_html()` function and use `display_html(Network.html)`\n"
   ]
  },
  {
   "cell_type": "code",
   "execution_count": 1,
   "id": "70d1e370-9a3e-4d62-84b8-ed2ecbd70952",
   "metadata": {},
   "outputs": [
    {
     "name": "stdout",
     "output_type": "stream",
     "text": [
      "graph-simple-pyvis-sample-graph.html\n"
     ]
    },
    {
     "data": {
      "text/html": [
       "\n",
       "        <iframe\n",
       "            width=\"100%\"\n",
       "            height=\"600px\"\n",
       "            src=\"graph-simple-pyvis-sample-graph.html\"\n",
       "            frameborder=\"0\"\n",
       "            allowfullscreen\n",
       "            \n",
       "        ></iframe>\n",
       "        "
      ],
      "text/plain": [
       "<IPython.lib.display.IFrame at 0x12753f2e0>"
      ]
     },
     "execution_count": 1,
     "metadata": {},
     "output_type": "execute_result"
    }
   ],
   "source": [
    "from pyvis.network import Network\n",
    "\n",
    "sample_graph = Network(notebook=True, cdn_resources=\"remote\")  # create graph object\n",
    "\n",
    "# add nodes\n",
    "sample_graph.add_nodes(\n",
    "    [1, 2, 3, 4, 5],  # node ids\n",
    "    label=['Node #1', 'Node #2', 'Node #3', 'Node #4', 'Node #5'],  # node labels\n",
    "    # node titles (display on mouse hover)\n",
    "    title=['Main node', 'Just node', 'Just node', 'Just node', 'Node with self-loop'],\n",
    "    color=['#d47415', '#22b512', '#42adf5', '#4a21b0', '#e627a3']  # node colors (HEX)\n",
    ")\n",
    "# add list of edges, same as in the previous example\n",
    "sample_graph.add_edges([(1, 2), (1, 3), (2, 3), (2, 4), (3, 5), (5, 5)])\n",
    "\n",
    "sample_graph_filepath: str = \"graph-simple-pyvis-sample-graph.html\"\n",
    "sample_graph.write_html(name=sample_graph_filepath) #, local=False, notebook=True)\n",
    "sample_graph.show(sample_graph_filepath)"
   ]
  },
  {
   "cell_type": "code",
   "execution_count": 2,
   "id": "d74b555e-1870-480b-9093-faee32e49507",
   "metadata": {},
   "outputs": [
    {
     "data": {
      "text/html": [
       "<div>\n",
       "<style scoped>\n",
       "    .dataframe tbody tr th:only-of-type {\n",
       "        vertical-align: middle;\n",
       "    }\n",
       "\n",
       "    .dataframe tbody tr th {\n",
       "        vertical-align: top;\n",
       "    }\n",
       "\n",
       "    .dataframe thead th {\n",
       "        text-align: right;\n",
       "    }\n",
       "</style>\n",
       "<table border=\"1\" class=\"dataframe\">\n",
       "  <thead>\n",
       "    <tr style=\"text-align: right;\">\n",
       "      <th></th>\n",
       "      <th>source</th>\n",
       "      <th>target</th>\n",
       "      <th>weight</th>\n",
       "      <th>title</th>\n",
       "      <th>color</th>\n",
       "    </tr>\n",
       "  </thead>\n",
       "  <tbody>\n",
       "    <tr>\n",
       "      <th>0</th>\n",
       "      <td>0</td>\n",
       "      <td>2</td>\n",
       "      <td>3</td>\n",
       "      <td>1</td>\n",
       "      <td>red</td>\n",
       "    </tr>\n",
       "    <tr>\n",
       "      <th>1</th>\n",
       "      <td>1</td>\n",
       "      <td>2</td>\n",
       "      <td>4</td>\n",
       "      <td>2</td>\n",
       "      <td>blue</td>\n",
       "    </tr>\n",
       "    <tr>\n",
       "      <th>2</th>\n",
       "      <td>2</td>\n",
       "      <td>3</td>\n",
       "      <td>5</td>\n",
       "      <td>3</td>\n",
       "      <td>blue</td>\n",
       "    </tr>\n",
       "  </tbody>\n",
       "</table>\n",
       "</div>"
      ],
      "text/plain": [
       "   source  target  weight title color\n",
       "0       0       2       3     1   red\n",
       "1       1       2       4     2  blue\n",
       "2       2       3       5     3  blue"
      ]
     },
     "metadata": {},
     "output_type": "display_data"
    },
    {
     "name": "stdout",
     "output_type": "stream",
     "text": [
      "graph-simple-pyvis-simple-graph.html\n"
     ]
    },
    {
     "data": {
      "text/html": [
       "\n",
       "        <iframe\n",
       "            width=\"100%\"\n",
       "            height=\"600px\"\n",
       "            src=\"graph-simple-pyvis-simple-graph.html\"\n",
       "            frameborder=\"0\"\n",
       "            allowfullscreen\n",
       "            \n",
       "        ></iframe>\n",
       "        "
      ],
      "text/plain": [
       "<IPython.lib.display.IFrame at 0x127b8e500>"
      ]
     },
     "execution_count": 2,
     "metadata": {},
     "output_type": "execute_result"
    }
   ],
   "source": [
    "#import pyspark.pandas as pd\n",
    "import pandas as pd\n",
    "import networkx as nx\n",
    "\n",
    "edge_pdf: pd.DataFrame = pd.DataFrame(\n",
    "    {\n",
    "        \"source\": [0, 1, 2],\n",
    "        \"target\": [2, 2, 3],\n",
    "        \"weight\": [3, 4, 5],\n",
    "        \"title\": [\"1\", \"2\", \"3\"],\n",
    "        \"color\": [\"red\", \"blue\", \"blue\"],\n",
    "    }\n",
    ")\n",
    "display(edge_pdf)\n",
    "\n",
    "node_list = [\n",
    "    (0, {\"title\": \"zero\", \"label\": \"Zero\"}),\n",
    "    (1, {\"title\": \"one\", \"label\": \"One\"}),\n",
    "    (2, {\"title\": \"two\", \"label\": \"Two\"}),\n",
    "    (3, {\"title\": \"three\", \"label\": \"Three\"}),\n",
    "]\n",
    "\n",
    "simple_nx = nx.from_pandas_edgelist(df=edge_pdf, source=\"source\", target=\"target\", edge_attr=True)\n",
    "simple_nx.add_nodes_from(node_list)\n",
    "simple_nx[0][2][\"color\"]\n",
    "\n",
    "# Create PyVis graph object\n",
    "simple_net = Network(notebook=True, cdn_resources=\"remote\")\n",
    "simple_net.from_nx(simple_nx)\n",
    "\n",
    "# Render as embedded HTML\n",
    "simple_graph_filepath: str = \"graph-simple-pyvis-simple-graph.html\"\n",
    "simple_net.write_html(name=simple_graph_filepath) #, local=False, notebook=True)\n",
    "simple_net.show(simple_graph_filepath)"
   ]
  },
  {
   "cell_type": "code",
   "execution_count": null,
   "id": "c639f1f4-efca-458f-beee-3a90b4815c62",
   "metadata": {},
   "outputs": [],
   "source": []
  }
 ],
 "metadata": {
  "kernelspec": {
   "display_name": "Python 3 (ipykernel)",
   "language": "python",
   "name": "python3"
  },
  "language_info": {
   "codemirror_mode": {
    "name": "ipython",
    "version": 3
   },
   "file_extension": ".py",
   "mimetype": "text/x-python",
   "name": "python",
   "nbconvert_exporter": "python",
   "pygments_lexer": "ipython3",
   "version": "3.10.12"
  }
 },
 "nbformat": 4,
 "nbformat_minor": 5
}
