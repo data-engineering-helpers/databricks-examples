{
 "cells": [
  {
   "cell_type": "markdown",
   "metadata": {
    "application/vnd.databricks.v1+cell": {
     "cellMetadata": {},
     "inputWidgets": {},
     "nuid": "0fc175f2-b1e7-4cdd-832a-88d0d3b666ca",
     "showTitle": false,
     "title": ""
    }
   },
   "source": [
    "\n",
    "Demos - Geo - GeoPandas - NYC taxi trips\n",
    "========================================"
   ]
  },
  {
   "cell_type": "markdown",
   "metadata": {
    "application/vnd.databricks.v1+cell": {
     "cellMetadata": {},
     "inputWidgets": {},
     "nuid": "b6b276f1-caa9-477f-a600-aa015091c64c",
     "showTitle": false,
     "title": ""
    }
   },
   "source": [
    "\n",
    "# References\n",
    "* [Notebook - Geo - Demos - GeoPandas - NYC taxi trips (this notebook)](https://github.com/data-engineering-helpers/databricks-example/blob/main/ipython-notebooks/demos-geo-geopandas-nyc-taxi-trips.ipynb)\n",
    "* See [Notebook - Geo - Demos - prep-nyc-taxi-geospatial-data](https://github.com/data-engineering-helpers/databricks-example/blob/main/ipython-notebooks/demos-geo-prep-nyc-taxi-geospatial-data.ipynb)\n",
    "  for details on how to retrieve the data files, and why this notebook cannot work as is\n",
    "  (mainly because the geo-coordinates are no longer available in the original data files from the\n",
    "  NYC autorithies)\n",
    "\n",
    "## GeoPandas\n",
    "* GeoPandas home page: http://geopandas.org/\n",
    "\n",
    "## Data\n",
    "* https://www.databricks.com/notebooks/prep-nyc-taxi-geospatial-data.html\n",
    "  + => [Notebook - Geo - Demos - prep-nyc-taxi-geospatial-data](https://github.com/data-engineering-helpers/databricks-example/blob/main/ipython-notebooks/demos-geo-prep-nyc-taxi-geospatial-data.ipynb) (forked notebook to adapt with new format of data)\n",
    "\n",
    "## GeoPandas\n",
    "__Option-1: Using [DBUtils Library Import](https://docs.databricks.com/dev-tools/databricks-utils.html#library-utilities) within Notebook (see cell #2).__\n",
    "\n",
    "__Option-2: Using [Databricks ML Runtime](https://docs.databricks.com/runtime/mlruntime.html#mlruntime) which includes Anaconda (not used).__\n",
    "\n",
    "* [Install Cluster Libraries](https://docs.databricks.com/libraries.html#install-a-library-on-a-cluster):\n",
    " * geopandas PyPI Coordinates: `geopandas`\n",
    " * shapely PyPI Coordinates: `shapely`"
   ]
  },
  {
   "cell_type": "code",
   "execution_count": 0,
   "metadata": {
    "application/vnd.databricks.v1+cell": {
     "cellMetadata": {
      "byteLimit": 2048000,
      "rowLimit": 10000
     },
     "inputWidgets": {},
     "nuid": "febe8992-89ad-48ef-94c6-1b82d482eea2",
     "showTitle": false,
     "title": ""
    }
   },
   "outputs": [
    {
     "output_type": "display_data",
     "data": {
      "text/html": [
       "<style scoped>\n",
       "  .table-result-container {\n",
       "    max-height: 300px;\n",
       "    overflow: auto;\n",
       "  }\n",
       "  table, th, td {\n",
       "    border: 1px solid black;\n",
       "    border-collapse: collapse;\n",
       "  }\n",
       "  th, td {\n",
       "    padding: 5px;\n",
       "  }\n",
       "  th {\n",
       "    text-align: left;\n",
       "  }\n",
       "</style><div class='table-result-container'><table class='table-result'><thead style='background-color: white'><tr><th>path</th><th>name</th><th>size</th><th>modificationTime</th></tr></thead><tbody><tr><td>dbfs:/tmp/nyc-taxi/taxi-zones/csv/taxi_zone_lookup.csv</td><td>taxi_zone_lookup.csv</td><td>12322</td><td>1699131546000</td></tr><tr><td>dbfs:/tmp/nyc-taxi/taxi-zones/csv/taxi_zones.csv</td><td>taxi_zones.csv</td><td>3755058</td><td>1699132695000</td></tr></tbody></table></div>"
      ]
     },
     "metadata": {
      "application/vnd.databricks.v1+output": {
       "addedWidgets": {},
       "aggData": [],
       "aggError": "",
       "aggOverflow": false,
       "aggSchema": [],
       "aggSeriesLimitReached": false,
       "aggType": "",
       "arguments": {},
       "columnCustomDisplayInfos": {},
       "data": [
        [
         "dbfs:/tmp/nyc-taxi/taxi-zones/csv/taxi_zone_lookup.csv",
         "taxi_zone_lookup.csv",
         12322,
         1699131546000
        ],
        [
         "dbfs:/tmp/nyc-taxi/taxi-zones/csv/taxi_zones.csv",
         "taxi_zones.csv",
         3755058,
         1699132695000
        ]
       ],
       "datasetInfos": [],
       "dbfsResultPath": null,
       "isJsonSchema": true,
       "metadata": {
        "isDbfsCommandResult": false
       },
       "overflow": false,
       "plotOptions": {
        "customPlotOptions": {},
        "displayType": "table",
        "pivotAggregation": null,
        "pivotColumns": null,
        "xColumns": null,
        "yColumns": null
       },
       "removedWidgets": [],
       "schema": [
        {
         "metadata": "{}",
         "name": "path",
         "type": "\"string\""
        },
        {
         "metadata": "{}",
         "name": "name",
         "type": "\"string\""
        },
        {
         "metadata": "{}",
         "name": "size",
         "type": "\"long\""
        },
        {
         "metadata": "{}",
         "name": "modificationTime",
         "type": "\"long\""
        }
       ],
       "type": "table"
      }
     },
     "output_type": "display_data"
    }
   ],
   "source": [
    "%fs ls /tmp/nyc-taxi/taxi-zones/csv/"
   ]
  },
  {
   "cell_type": "code",
   "execution_count": 0,
   "metadata": {
    "application/vnd.databricks.v1+cell": {
     "cellMetadata": {
      "byteLimit": 2048000,
      "rowLimit": 10000
     },
     "inputWidgets": {},
     "nuid": "55c783ed-1adf-4be4-9cc5-760b109eba41",
     "showTitle": false,
     "title": ""
    },
    "jupyter": {
     "outputs_hidden": true
    }
   },
   "outputs": [
    {
     "output_type": "stream",
     "name": "stdout",
     "output_type": "stream",
     "text": [
      "\u001B[43mNote: you may need to restart the kernel using dbutils.library.restartPython() to use updated packages.\u001B[0m\nCollecting geopandas\n  Downloading geopandas-0.14.0-py3-none-any.whl (1.1 MB)\n     ━━━━━━━━━━━━━━━━━━━━━━━━━━━━━━━━━━━━━━━━ 1.1/1.1 MB 9.0 MB/s eta 0:00:00\nRequirement already satisfied: packaging in /databricks/python3/lib/python3.10/site-packages (from geopandas) (21.3)\nCollecting fiona>=1.8.21\n  Downloading fiona-1.9.5-cp310-cp310-manylinux2014_x86_64.whl (15.7 MB)\n     ━━━━━━━━━━━━━━━━━━━━━━━━━━━━━━━━━━━━━━━━ 15.7/15.7 MB 22.8 MB/s eta 0:00:00\nCollecting pyproj>=3.3.0\n  Downloading pyproj-3.6.1-cp310-cp310-manylinux_2_17_x86_64.manylinux2014_x86_64.whl (8.3 MB)\n     ━━━━━━━━━━━━━━━━━━━━━━━━━━━━━━━━━━━━━━━━ 8.3/8.3 MB 24.2 MB/s eta 0:00:00\nRequirement already satisfied: pandas>=1.4.0 in /databricks/python3/lib/python3.10/site-packages (from geopandas) (1.4.4)\nCollecting shapely>=1.8.0\n  Downloading shapely-2.0.2-cp310-cp310-manylinux_2_17_x86_64.manylinux2014_x86_64.whl (2.5 MB)\n     ━━━━━━━━━━━━━━━━━━━━━━━━━━━━━━━━━━━━━━━━ 2.5/2.5 MB 19.9 MB/s eta 0:00:00\nRequirement already satisfied: certifi in /databricks/python3/lib/python3.10/site-packages (from fiona>=1.8.21->geopandas) (2022.9.14)\nRequirement already satisfied: setuptools in /databricks/python3/lib/python3.10/site-packages (from fiona>=1.8.21->geopandas) (63.4.1)\nRequirement already satisfied: attrs>=19.2.0 in /databricks/python3/lib/python3.10/site-packages (from fiona>=1.8.21->geopandas) (21.4.0)\nCollecting click-plugins>=1.0\n  Downloading click_plugins-1.1.1-py2.py3-none-any.whl (7.5 kB)\nRequirement already satisfied: click~=8.0 in /databricks/python3/lib/python3.10/site-packages (from fiona>=1.8.21->geopandas) (8.0.4)\nRequirement already satisfied: six in /usr/lib/python3/dist-packages (from fiona>=1.8.21->geopandas) (1.16.0)\nCollecting cligj>=0.5\n  Downloading cligj-0.7.2-py3-none-any.whl (7.1 kB)\nRequirement already satisfied: numpy>=1.21.0 in /databricks/python3/lib/python3.10/site-packages (from pandas>=1.4.0->geopandas) (1.21.5)\nRequirement already satisfied: pytz>=2020.1 in /databricks/python3/lib/python3.10/site-packages (from pandas>=1.4.0->geopandas) (2022.1)\nRequirement already satisfied: python-dateutil>=2.8.1 in /databricks/python3/lib/python3.10/site-packages (from pandas>=1.4.0->geopandas) (2.8.2)\nRequirement already satisfied: pyparsing!=3.0.5,>=2.0.2 in /databricks/python3/lib/python3.10/site-packages (from packaging->geopandas) (3.0.9)\nInstalling collected packages: shapely, pyproj, cligj, click-plugins, fiona, geopandas\nSuccessfully installed click-plugins-1.1.1 cligj-0.7.2 fiona-1.9.5 geopandas-0.14.0 pyproj-3.6.1 shapely-2.0.2\n\u001B[43mNote: you may need to restart the kernel using dbutils.library.restartPython() to use updated packages.\u001B[0m\n"
     ]
    }
   ],
   "source": [
    "%pip install geopandas"
   ]
  },
  {
   "cell_type": "code",
   "execution_count": 0,
   "metadata": {
    "application/vnd.databricks.v1+cell": {
     "cellMetadata": {
      "byteLimit": 2048000,
      "rowLimit": 10000
     },
     "inputWidgets": {},
     "nuid": "971b97a8-e61f-4e4a-9cae-96ce271a7e00",
     "showTitle": false,
     "title": ""
    }
   },
   "outputs": [
    {
     "output_type": "display_data",
     "data": {
      "application/vnd.databricks.v1+h3_hint": "",
      "text/plain": []
     },
     "metadata": {},
     "output_type": "display_data"
    }
   ],
   "source": [
    "import pandas as pd\n",
    "import geopandas as gpd\n",
    "from shapely.geometry import Point, Polygon, shape\n",
    "from shapely import wkb, wkt\n",
    "from pyspark.sql.functions import *\n",
    "from pyspark.sql.types import StringType, IntegerType, FloatType, DoubleType,DecimalType\n",
    "from pyspark.sql.functions import pandas_udf, PandasUDFType\n",
    "import shapely.speedups\n",
    "#shapely.speedups.enable() # this makes some spatial queries run faster"
   ]
  },
  {
   "cell_type": "code",
   "execution_count": 0,
   "metadata": {
    "application/vnd.databricks.v1+cell": {
     "cellMetadata": {
      "byteLimit": 2048000,
      "rowLimit": 10000
     },
     "inputWidgets": {},
     "nuid": "68bce56f-87c6-4a43-8384-381edea121c1",
     "showTitle": false,
     "title": ""
    }
   },
   "outputs": [],
   "source": [
    "df_csv = pd.read_csv(\"/dbfs/tmp/nyc-taxi/taxi-zones/csv/taxi_zones.csv\")\n",
    "df_csv['the_geom'] = df_csv['the_geom'].apply(wkt.loads)\n",
    "gdf  = gpd.GeoDataFrame(df_csv, geometry='the_geom')\n",
    "sc.broadcast(gdf)\n",
    "def find_borough(latitude, longitude): \n",
    "    mgdf = gdf.apply(lambda x: x['borough'] if x['the_geom'].intersects(Point(longitude,latitude)) else None, axis=1)\n",
    "    idx = mgdf.first_valid_index()\n",
    "    first_valid_value = mgdf.loc[idx] if idx is not None else None\n",
    "    return first_valid_value\n",
    "find_borough_udf = udf(find_borough, StringType())"
   ]
  },
  {
   "cell_type": "code",
   "execution_count": 0,
   "metadata": {
    "application/vnd.databricks.v1+cell": {
     "cellMetadata": {
      "byteLimit": 2048000,
      "rowLimit": 10000
     },
     "inputWidgets": {},
     "nuid": "fb66e13e-188e-4cfa-9fd9-23a391e8d7ec",
     "showTitle": false,
     "title": ""
    }
   },
   "outputs": [
    {
     "output_type": "execute_result",
     "data": {
      "text/plain": [
       "'Brooklyn'"
      ]
     },
     "execution_count": 6,
     "metadata": {},
     "output_type": "execute_result"
    }
   ],
   "source": [
    "# test the function\n",
    "find_borough( 40.69943618774414,-73.9920883178711)"
   ]
  },
  {
   "cell_type": "code",
   "execution_count": 0,
   "metadata": {
    "application/vnd.databricks.v1+cell": {
     "cellMetadata": {
      "byteLimit": 2048000,
      "rowLimit": 10000
     },
     "inputWidgets": {},
     "nuid": "46bbbcad-ef90-4f13-a083-b2b50ddae11e",
     "showTitle": false,
     "title": ""
    }
   },
   "outputs": [
    {
     "output_type": "display_data",
     "data": {
      "text/plain": [
       "\u001B[0;31m---------------------------------------------------------------------------\u001B[0m\n",
       "\u001B[0;31mAnalysisException\u001B[0m                         Traceback (most recent call last)\n",
       "File \u001B[0;32m<command-1373382088444214>, line 3\u001B[0m\n",
       "\u001B[1;32m      1\u001B[0m df_raw \u001B[38;5;241m=\u001B[39m spark\u001B[38;5;241m.\u001B[39mread\u001B[38;5;241m.\u001B[39mparquet(\u001B[38;5;124m\"\u001B[39m\u001B[38;5;124m/tmp/nyc-taxi/parquet/green_tripdata_*.parquet\u001B[39m\u001B[38;5;124m\"\u001B[39m)\n",
       "\u001B[1;32m      2\u001B[0m \u001B[38;5;66;03m#df_raw = spark.read.format(\"delta\").load(\"/ml/blogs/geospatial/delta/nyc-green\")\u001B[39;00m\n",
       "\u001B[0;32m----> 3\u001B[0m df_raw_borough \u001B[38;5;241m=\u001B[39m df_raw\u001B[38;5;241m.\u001B[39msample(\u001B[38;5;28;01mFalse\u001B[39;00m, \u001B[38;5;241m0.01\u001B[39m)\u001B[38;5;241m.\u001B[39mwithColumn(\u001B[38;5;124m\"\u001B[39m\u001B[38;5;124mpickup_borough\u001B[39m\u001B[38;5;124m\"\u001B[39m, find_borough_udf(col(\u001B[38;5;124m\"\u001B[39m\u001B[38;5;124mpickup_latitude\u001B[39m\u001B[38;5;124m\"\u001B[39m),col(\u001B[38;5;124m\"\u001B[39m\u001B[38;5;124mpickup_longitude\u001B[39m\u001B[38;5;124m\"\u001B[39m)))\n",
       "\n",
       "File \u001B[0;32m/databricks/spark/python/pyspark/instrumentation_utils.py:48\u001B[0m, in \u001B[0;36m_wrap_function.<locals>.wrapper\u001B[0;34m(*args, **kwargs)\u001B[0m\n",
       "\u001B[1;32m     46\u001B[0m start \u001B[38;5;241m=\u001B[39m time\u001B[38;5;241m.\u001B[39mperf_counter()\n",
       "\u001B[1;32m     47\u001B[0m \u001B[38;5;28;01mtry\u001B[39;00m:\n",
       "\u001B[0;32m---> 48\u001B[0m     res \u001B[38;5;241m=\u001B[39m \u001B[43mfunc\u001B[49m\u001B[43m(\u001B[49m\u001B[38;5;241;43m*\u001B[39;49m\u001B[43margs\u001B[49m\u001B[43m,\u001B[49m\u001B[43m \u001B[49m\u001B[38;5;241;43m*\u001B[39;49m\u001B[38;5;241;43m*\u001B[39;49m\u001B[43mkwargs\u001B[49m\u001B[43m)\u001B[49m\n",
       "\u001B[1;32m     49\u001B[0m     logger\u001B[38;5;241m.\u001B[39mlog_success(\n",
       "\u001B[1;32m     50\u001B[0m         module_name, class_name, function_name, time\u001B[38;5;241m.\u001B[39mperf_counter() \u001B[38;5;241m-\u001B[39m start, signature\n",
       "\u001B[1;32m     51\u001B[0m     )\n",
       "\u001B[1;32m     52\u001B[0m     \u001B[38;5;28;01mreturn\u001B[39;00m res\n",
       "\n",
       "File \u001B[0;32m/databricks/spark/python/pyspark/sql/dataframe.py:5033\u001B[0m, in \u001B[0;36mDataFrame.withColumn\u001B[0;34m(self, colName, col)\u001B[0m\n",
       "\u001B[1;32m   5028\u001B[0m \u001B[38;5;28;01mif\u001B[39;00m \u001B[38;5;129;01mnot\u001B[39;00m \u001B[38;5;28misinstance\u001B[39m(col, Column):\n",
       "\u001B[1;32m   5029\u001B[0m     \u001B[38;5;28;01mraise\u001B[39;00m PySparkTypeError(\n",
       "\u001B[1;32m   5030\u001B[0m         error_class\u001B[38;5;241m=\u001B[39m\u001B[38;5;124m\"\u001B[39m\u001B[38;5;124mNOT_COLUMN\u001B[39m\u001B[38;5;124m\"\u001B[39m,\n",
       "\u001B[1;32m   5031\u001B[0m         message_parameters\u001B[38;5;241m=\u001B[39m{\u001B[38;5;124m\"\u001B[39m\u001B[38;5;124marg_name\u001B[39m\u001B[38;5;124m\"\u001B[39m: \u001B[38;5;124m\"\u001B[39m\u001B[38;5;124mcol\u001B[39m\u001B[38;5;124m\"\u001B[39m, \u001B[38;5;124m\"\u001B[39m\u001B[38;5;124marg_type\u001B[39m\u001B[38;5;124m\"\u001B[39m: \u001B[38;5;28mtype\u001B[39m(col)\u001B[38;5;241m.\u001B[39m\u001B[38;5;18m__name__\u001B[39m},\n",
       "\u001B[1;32m   5032\u001B[0m     )\n",
       "\u001B[0;32m-> 5033\u001B[0m \u001B[38;5;28;01mreturn\u001B[39;00m DataFrame(\u001B[38;5;28;43mself\u001B[39;49m\u001B[38;5;241;43m.\u001B[39;49m\u001B[43m_jdf\u001B[49m\u001B[38;5;241;43m.\u001B[39;49m\u001B[43mwithColumn\u001B[49m\u001B[43m(\u001B[49m\u001B[43mcolName\u001B[49m\u001B[43m,\u001B[49m\u001B[43m \u001B[49m\u001B[43mcol\u001B[49m\u001B[38;5;241;43m.\u001B[39;49m\u001B[43m_jc\u001B[49m\u001B[43m)\u001B[49m, \u001B[38;5;28mself\u001B[39m\u001B[38;5;241m.\u001B[39msparkSession)\n",
       "\n",
       "File \u001B[0;32m/databricks/spark/python/lib/py4j-0.10.9.7-src.zip/py4j/java_gateway.py:1322\u001B[0m, in \u001B[0;36mJavaMember.__call__\u001B[0;34m(self, *args)\u001B[0m\n",
       "\u001B[1;32m   1316\u001B[0m command \u001B[38;5;241m=\u001B[39m proto\u001B[38;5;241m.\u001B[39mCALL_COMMAND_NAME \u001B[38;5;241m+\u001B[39m\\\n",
       "\u001B[1;32m   1317\u001B[0m     \u001B[38;5;28mself\u001B[39m\u001B[38;5;241m.\u001B[39mcommand_header \u001B[38;5;241m+\u001B[39m\\\n",
       "\u001B[1;32m   1318\u001B[0m     args_command \u001B[38;5;241m+\u001B[39m\\\n",
       "\u001B[1;32m   1319\u001B[0m     proto\u001B[38;5;241m.\u001B[39mEND_COMMAND_PART\n",
       "\u001B[1;32m   1321\u001B[0m answer \u001B[38;5;241m=\u001B[39m \u001B[38;5;28mself\u001B[39m\u001B[38;5;241m.\u001B[39mgateway_client\u001B[38;5;241m.\u001B[39msend_command(command)\n",
       "\u001B[0;32m-> 1322\u001B[0m return_value \u001B[38;5;241m=\u001B[39m \u001B[43mget_return_value\u001B[49m\u001B[43m(\u001B[49m\n",
       "\u001B[1;32m   1323\u001B[0m \u001B[43m    \u001B[49m\u001B[43manswer\u001B[49m\u001B[43m,\u001B[49m\u001B[43m \u001B[49m\u001B[38;5;28;43mself\u001B[39;49m\u001B[38;5;241;43m.\u001B[39;49m\u001B[43mgateway_client\u001B[49m\u001B[43m,\u001B[49m\u001B[43m \u001B[49m\u001B[38;5;28;43mself\u001B[39;49m\u001B[38;5;241;43m.\u001B[39;49m\u001B[43mtarget_id\u001B[49m\u001B[43m,\u001B[49m\u001B[43m \u001B[49m\u001B[38;5;28;43mself\u001B[39;49m\u001B[38;5;241;43m.\u001B[39;49m\u001B[43mname\u001B[49m\u001B[43m)\u001B[49m\n",
       "\u001B[1;32m   1325\u001B[0m \u001B[38;5;28;01mfor\u001B[39;00m temp_arg \u001B[38;5;129;01min\u001B[39;00m temp_args:\n",
       "\u001B[1;32m   1326\u001B[0m     \u001B[38;5;28;01mif\u001B[39;00m \u001B[38;5;28mhasattr\u001B[39m(temp_arg, \u001B[38;5;124m\"\u001B[39m\u001B[38;5;124m_detach\u001B[39m\u001B[38;5;124m\"\u001B[39m):\n",
       "\n",
       "File \u001B[0;32m/databricks/spark/python/pyspark/errors/exceptions/captured.py:194\u001B[0m, in \u001B[0;36mcapture_sql_exception.<locals>.deco\u001B[0;34m(*a, **kw)\u001B[0m\n",
       "\u001B[1;32m    190\u001B[0m converted \u001B[38;5;241m=\u001B[39m convert_exception(e\u001B[38;5;241m.\u001B[39mjava_exception)\n",
       "\u001B[1;32m    191\u001B[0m \u001B[38;5;28;01mif\u001B[39;00m \u001B[38;5;129;01mnot\u001B[39;00m \u001B[38;5;28misinstance\u001B[39m(converted, UnknownException):\n",
       "\u001B[1;32m    192\u001B[0m     \u001B[38;5;66;03m# Hide where the exception came from that shows a non-Pythonic\u001B[39;00m\n",
       "\u001B[1;32m    193\u001B[0m     \u001B[38;5;66;03m# JVM exception message.\u001B[39;00m\n",
       "\u001B[0;32m--> 194\u001B[0m     \u001B[38;5;28;01mraise\u001B[39;00m converted \u001B[38;5;28;01mfrom\u001B[39;00m \u001B[38;5;28mNone\u001B[39m\n",
       "\u001B[1;32m    195\u001B[0m \u001B[38;5;28;01melse\u001B[39;00m:\n",
       "\u001B[1;32m    196\u001B[0m     \u001B[38;5;28;01mraise\u001B[39;00m\n",
       "\n",
       "\u001B[0;31mAnalysisException\u001B[0m: [UNRESOLVED_COLUMN.WITH_SUGGESTION] A column or function parameter with name `pickup_latitude` cannot be resolved. Did you mean one of the following? [`lpep_pickup_datetime`, `tip_amount`, `trip_type`, `DOLocationID`, `PULocationID`].;\n",
       "'Project [VendorID#16978L, lpep_pickup_datetime#16979, lpep_dropoff_datetime#16980, store_and_fwd_flag#16981, RatecodeID#16982L, PULocationID#16983L, DOLocationID#16984L, passenger_count#16985L, trip_distance#16986, fare_amount#16987, extra#16988, mta_tax#16989, tip_amount#16990, tolls_amount#16991, ehail_fee#16992, improvement_surcharge#16993, total_amount#16994, payment_type#16995L, trip_type#16996, congestion_surcharge#16997, find_borough('pickup_latitude, 'pickup_longitude)#17018 AS pickup_borough#17019]\n",
       "+- Sample 0.0, 0.01, false, -5934519776954367835\n",
       "   +- Relation [VendorID#16978L,lpep_pickup_datetime#16979,lpep_dropoff_datetime#16980,store_and_fwd_flag#16981,RatecodeID#16982L,PULocationID#16983L,DOLocationID#16984L,passenger_count#16985L,trip_distance#16986,fare_amount#16987,extra#16988,mta_tax#16989,tip_amount#16990,tolls_amount#16991,ehail_fee#16992,improvement_surcharge#16993,total_amount#16994,payment_type#16995L,trip_type#16996,congestion_surcharge#16997] parquet\n"
      ]
     },
     "metadata": {
      "application/vnd.databricks.v1+output": {
       "arguments": {},
       "data": "\u001B[0;31m---------------------------------------------------------------------------\u001B[0m\n\u001B[0;31mAnalysisException\u001B[0m                         Traceback (most recent call last)\nFile \u001B[0;32m<command-1373382088444214>, line 3\u001B[0m\n\u001B[1;32m      1\u001B[0m df_raw \u001B[38;5;241m=\u001B[39m spark\u001B[38;5;241m.\u001B[39mread\u001B[38;5;241m.\u001B[39mparquet(\u001B[38;5;124m\"\u001B[39m\u001B[38;5;124m/tmp/nyc-taxi/parquet/green_tripdata_*.parquet\u001B[39m\u001B[38;5;124m\"\u001B[39m)\n\u001B[1;32m      2\u001B[0m \u001B[38;5;66;03m#df_raw = spark.read.format(\"delta\").load(\"/ml/blogs/geospatial/delta/nyc-green\")\u001B[39;00m\n\u001B[0;32m----> 3\u001B[0m df_raw_borough \u001B[38;5;241m=\u001B[39m df_raw\u001B[38;5;241m.\u001B[39msample(\u001B[38;5;28;01mFalse\u001B[39;00m, \u001B[38;5;241m0.01\u001B[39m)\u001B[38;5;241m.\u001B[39mwithColumn(\u001B[38;5;124m\"\u001B[39m\u001B[38;5;124mpickup_borough\u001B[39m\u001B[38;5;124m\"\u001B[39m, find_borough_udf(col(\u001B[38;5;124m\"\u001B[39m\u001B[38;5;124mpickup_latitude\u001B[39m\u001B[38;5;124m\"\u001B[39m),col(\u001B[38;5;124m\"\u001B[39m\u001B[38;5;124mpickup_longitude\u001B[39m\u001B[38;5;124m\"\u001B[39m)))\n\nFile \u001B[0;32m/databricks/spark/python/pyspark/instrumentation_utils.py:48\u001B[0m, in \u001B[0;36m_wrap_function.<locals>.wrapper\u001B[0;34m(*args, **kwargs)\u001B[0m\n\u001B[1;32m     46\u001B[0m start \u001B[38;5;241m=\u001B[39m time\u001B[38;5;241m.\u001B[39mperf_counter()\n\u001B[1;32m     47\u001B[0m \u001B[38;5;28;01mtry\u001B[39;00m:\n\u001B[0;32m---> 48\u001B[0m     res \u001B[38;5;241m=\u001B[39m \u001B[43mfunc\u001B[49m\u001B[43m(\u001B[49m\u001B[38;5;241;43m*\u001B[39;49m\u001B[43margs\u001B[49m\u001B[43m,\u001B[49m\u001B[43m \u001B[49m\u001B[38;5;241;43m*\u001B[39;49m\u001B[38;5;241;43m*\u001B[39;49m\u001B[43mkwargs\u001B[49m\u001B[43m)\u001B[49m\n\u001B[1;32m     49\u001B[0m     logger\u001B[38;5;241m.\u001B[39mlog_success(\n\u001B[1;32m     50\u001B[0m         module_name, class_name, function_name, time\u001B[38;5;241m.\u001B[39mperf_counter() \u001B[38;5;241m-\u001B[39m start, signature\n\u001B[1;32m     51\u001B[0m     )\n\u001B[1;32m     52\u001B[0m     \u001B[38;5;28;01mreturn\u001B[39;00m res\n\nFile \u001B[0;32m/databricks/spark/python/pyspark/sql/dataframe.py:5033\u001B[0m, in \u001B[0;36mDataFrame.withColumn\u001B[0;34m(self, colName, col)\u001B[0m\n\u001B[1;32m   5028\u001B[0m \u001B[38;5;28;01mif\u001B[39;00m \u001B[38;5;129;01mnot\u001B[39;00m \u001B[38;5;28misinstance\u001B[39m(col, Column):\n\u001B[1;32m   5029\u001B[0m     \u001B[38;5;28;01mraise\u001B[39;00m PySparkTypeError(\n\u001B[1;32m   5030\u001B[0m         error_class\u001B[38;5;241m=\u001B[39m\u001B[38;5;124m\"\u001B[39m\u001B[38;5;124mNOT_COLUMN\u001B[39m\u001B[38;5;124m\"\u001B[39m,\n\u001B[1;32m   5031\u001B[0m         message_parameters\u001B[38;5;241m=\u001B[39m{\u001B[38;5;124m\"\u001B[39m\u001B[38;5;124marg_name\u001B[39m\u001B[38;5;124m\"\u001B[39m: \u001B[38;5;124m\"\u001B[39m\u001B[38;5;124mcol\u001B[39m\u001B[38;5;124m\"\u001B[39m, \u001B[38;5;124m\"\u001B[39m\u001B[38;5;124marg_type\u001B[39m\u001B[38;5;124m\"\u001B[39m: \u001B[38;5;28mtype\u001B[39m(col)\u001B[38;5;241m.\u001B[39m\u001B[38;5;18m__name__\u001B[39m},\n\u001B[1;32m   5032\u001B[0m     )\n\u001B[0;32m-> 5033\u001B[0m \u001B[38;5;28;01mreturn\u001B[39;00m DataFrame(\u001B[38;5;28;43mself\u001B[39;49m\u001B[38;5;241;43m.\u001B[39;49m\u001B[43m_jdf\u001B[49m\u001B[38;5;241;43m.\u001B[39;49m\u001B[43mwithColumn\u001B[49m\u001B[43m(\u001B[49m\u001B[43mcolName\u001B[49m\u001B[43m,\u001B[49m\u001B[43m \u001B[49m\u001B[43mcol\u001B[49m\u001B[38;5;241;43m.\u001B[39;49m\u001B[43m_jc\u001B[49m\u001B[43m)\u001B[49m, \u001B[38;5;28mself\u001B[39m\u001B[38;5;241m.\u001B[39msparkSession)\n\nFile \u001B[0;32m/databricks/spark/python/lib/py4j-0.10.9.7-src.zip/py4j/java_gateway.py:1322\u001B[0m, in \u001B[0;36mJavaMember.__call__\u001B[0;34m(self, *args)\u001B[0m\n\u001B[1;32m   1316\u001B[0m command \u001B[38;5;241m=\u001B[39m proto\u001B[38;5;241m.\u001B[39mCALL_COMMAND_NAME \u001B[38;5;241m+\u001B[39m\\\n\u001B[1;32m   1317\u001B[0m     \u001B[38;5;28mself\u001B[39m\u001B[38;5;241m.\u001B[39mcommand_header \u001B[38;5;241m+\u001B[39m\\\n\u001B[1;32m   1318\u001B[0m     args_command \u001B[38;5;241m+\u001B[39m\\\n\u001B[1;32m   1319\u001B[0m     proto\u001B[38;5;241m.\u001B[39mEND_COMMAND_PART\n\u001B[1;32m   1321\u001B[0m answer \u001B[38;5;241m=\u001B[39m \u001B[38;5;28mself\u001B[39m\u001B[38;5;241m.\u001B[39mgateway_client\u001B[38;5;241m.\u001B[39msend_command(command)\n\u001B[0;32m-> 1322\u001B[0m return_value \u001B[38;5;241m=\u001B[39m \u001B[43mget_return_value\u001B[49m\u001B[43m(\u001B[49m\n\u001B[1;32m   1323\u001B[0m \u001B[43m    \u001B[49m\u001B[43manswer\u001B[49m\u001B[43m,\u001B[49m\u001B[43m \u001B[49m\u001B[38;5;28;43mself\u001B[39;49m\u001B[38;5;241;43m.\u001B[39;49m\u001B[43mgateway_client\u001B[49m\u001B[43m,\u001B[49m\u001B[43m \u001B[49m\u001B[38;5;28;43mself\u001B[39;49m\u001B[38;5;241;43m.\u001B[39;49m\u001B[43mtarget_id\u001B[49m\u001B[43m,\u001B[49m\u001B[43m \u001B[49m\u001B[38;5;28;43mself\u001B[39;49m\u001B[38;5;241;43m.\u001B[39;49m\u001B[43mname\u001B[49m\u001B[43m)\u001B[49m\n\u001B[1;32m   1325\u001B[0m \u001B[38;5;28;01mfor\u001B[39;00m temp_arg \u001B[38;5;129;01min\u001B[39;00m temp_args:\n\u001B[1;32m   1326\u001B[0m     \u001B[38;5;28;01mif\u001B[39;00m \u001B[38;5;28mhasattr\u001B[39m(temp_arg, \u001B[38;5;124m\"\u001B[39m\u001B[38;5;124m_detach\u001B[39m\u001B[38;5;124m\"\u001B[39m):\n\nFile \u001B[0;32m/databricks/spark/python/pyspark/errors/exceptions/captured.py:194\u001B[0m, in \u001B[0;36mcapture_sql_exception.<locals>.deco\u001B[0;34m(*a, **kw)\u001B[0m\n\u001B[1;32m    190\u001B[0m converted \u001B[38;5;241m=\u001B[39m convert_exception(e\u001B[38;5;241m.\u001B[39mjava_exception)\n\u001B[1;32m    191\u001B[0m \u001B[38;5;28;01mif\u001B[39;00m \u001B[38;5;129;01mnot\u001B[39;00m \u001B[38;5;28misinstance\u001B[39m(converted, UnknownException):\n\u001B[1;32m    192\u001B[0m     \u001B[38;5;66;03m# Hide where the exception came from that shows a non-Pythonic\u001B[39;00m\n\u001B[1;32m    193\u001B[0m     \u001B[38;5;66;03m# JVM exception message.\u001B[39;00m\n\u001B[0;32m--> 194\u001B[0m     \u001B[38;5;28;01mraise\u001B[39;00m converted \u001B[38;5;28;01mfrom\u001B[39;00m \u001B[38;5;28mNone\u001B[39m\n\u001B[1;32m    195\u001B[0m \u001B[38;5;28;01melse\u001B[39;00m:\n\u001B[1;32m    196\u001B[0m     \u001B[38;5;28;01mraise\u001B[39;00m\n\n\u001B[0;31mAnalysisException\u001B[0m: [UNRESOLVED_COLUMN.WITH_SUGGESTION] A column or function parameter with name `pickup_latitude` cannot be resolved. Did you mean one of the following? [`lpep_pickup_datetime`, `tip_amount`, `trip_type`, `DOLocationID`, `PULocationID`].;\n'Project [VendorID#16978L, lpep_pickup_datetime#16979, lpep_dropoff_datetime#16980, store_and_fwd_flag#16981, RatecodeID#16982L, PULocationID#16983L, DOLocationID#16984L, passenger_count#16985L, trip_distance#16986, fare_amount#16987, extra#16988, mta_tax#16989, tip_amount#16990, tolls_amount#16991, ehail_fee#16992, improvement_surcharge#16993, total_amount#16994, payment_type#16995L, trip_type#16996, congestion_surcharge#16997, find_borough('pickup_latitude, 'pickup_longitude)#17018 AS pickup_borough#17019]\n+- Sample 0.0, 0.01, false, -5934519776954367835\n   +- Relation [VendorID#16978L,lpep_pickup_datetime#16979,lpep_dropoff_datetime#16980,store_and_fwd_flag#16981,RatecodeID#16982L,PULocationID#16983L,DOLocationID#16984L,passenger_count#16985L,trip_distance#16986,fare_amount#16987,extra#16988,mta_tax#16989,tip_amount#16990,tolls_amount#16991,ehail_fee#16992,improvement_surcharge#16993,total_amount#16994,payment_type#16995L,trip_type#16996,congestion_surcharge#16997] parquet\n",
       "errorSummary": "<span class='ansi-red-fg'>AnalysisException</span>: [UNRESOLVED_COLUMN.WITH_SUGGESTION] A column or function parameter with name `pickup_latitude` cannot be resolved. Did you mean one of the following? [`lpep_pickup_datetime`, `tip_amount`, `trip_type`, `DOLocationID`, `PULocationID`].;\n'Project [VendorID#16978L, lpep_pickup_datetime#16979, lpep_dropoff_datetime#16980, store_and_fwd_flag#16981, RatecodeID#16982L, PULocationID#16983L, DOLocationID#16984L, passenger_count#16985L, trip_distance#16986, fare_amount#16987, extra#16988, mta_tax#16989, tip_amount#16990, tolls_amount#16991, ehail_fee#16992, improvement_surcharge#16993, total_amount#16994, payment_type#16995L, trip_type#16996, congestion_surcharge#16997, find_borough('pickup_latitude, 'pickup_longitude)#17018 AS pickup_borough#17019]\n+- Sample 0.0, 0.01, false, -5934519776954367835\n   +- Relation [VendorID#16978L,lpep_pickup_datetime#16979,lpep_dropoff_datetime#16980,store_and_fwd_flag#16981,RatecodeID#16982L,PULocationID#16983L,DOLocationID#16984L,passenger_count#16985L,trip_distance#16986,fare_amount#16987,extra#16988,mta_tax#16989,tip_amount#16990,tolls_amount#16991,ehail_fee#16992,improvement_surcharge#16993,total_amount#16994,payment_type#16995L,trip_type#16996,congestion_surcharge#16997] parquet\n",
       "errorTraceType": "ansi",
       "metadata": {},
       "type": "ipynbError"
      }
     },
     "output_type": "display_data"
    }
   ],
   "source": [
    "df_raw = spark.read.parquet(\"/tmp/nyc-taxi/parquet/green_tripdata_*.parquet\")\n",
    "#df_raw = spark.read.format(\"delta\").load(\"/ml/blogs/geospatial/delta/nyc-green\")\n",
    "df_raw_borough = df_raw.sample(False, 0.01).withColumn(\"pickup_borough\", find_borough_udf(col(\"pickup_latitude\"),col(\"pickup_longitude\")))"
   ]
  },
  {
   "cell_type": "code",
   "execution_count": 0,
   "metadata": {
    "application/vnd.databricks.v1+cell": {
     "cellMetadata": {},
     "inputWidgets": {},
     "nuid": "5b434a46-1b7e-4749-bdd0-afb0693d72ba",
     "showTitle": false,
     "title": ""
    }
   },
   "outputs": [
    {
     "output_type": "display_data",
     "data": {
      "text/html": [
       "<style scoped>\n",
       "  .table-result-container {\n",
       "    max-height: 300px;\n",
       "    overflow: auto;\n",
       "  }\n",
       "  table, th, td {\n",
       "    border: 1px solid black;\n",
       "    border-collapse: collapse;\n",
       "  }\n",
       "  th, td {\n",
       "    padding: 5px;\n",
       "  }\n",
       "  th {\n",
       "    text-align: left;\n",
       "  }\n",
       "</style><div class='table-result-container'><table class='table-result'><thead style='background-color: white'><tr><th>pickup_borough</th><th>pickup_datetime</th><th>pickup_latitude</th><th>pickup_longitude</th></tr></thead><tbody><tr><td>Brooklyn</td><td>2014-04-10 21:39:08</td><td>40.68616485595703</td><td>-73.99085235595703</td></tr><tr><td>Manhattan</td><td>2014-04-10 21:40:00</td><td>40.8574104309082</td><td>-73.93215942382812</td></tr><tr><td>Brooklyn</td><td>2014-04-10 21:40:19</td><td>40.681095123291016</td><td>-73.95547485351562</td></tr><tr><td>Brooklyn</td><td>2014-04-10 21:46:54</td><td>40.679954528808594</td><td>-73.94032287597656</td></tr><tr><td>Queens</td><td>2014-04-10 21:48:25</td><td>40.72090530395508</td><td>-73.84422302246094</td></tr><tr><td>Brooklyn</td><td>2014-04-10 21:49:10</td><td>40.70438003540039</td><td>-73.98664093017578</td></tr><tr><td>Brooklyn</td><td>2014-04-10 21:49:43</td><td>40.68617248535156</td><td>-73.97416687011719</td></tr><tr><td>Queens</td><td>2014-04-10 21:50:50</td><td>40.75352096557617</td><td>-73.91926574707031</td></tr><tr><td>Queens</td><td>2014-04-10 21:53:11</td><td>40.72126007080078</td><td>-73.84423828125</td></tr><tr><td>Brooklyn</td><td>2014-04-10 21:53:21</td><td>40.654842376708984</td><td>-73.92778015136719</td></tr><tr><td>Brooklyn</td><td>2014-04-10 21:55:15</td><td>40.68479537963867</td><td>-73.97791290283203</td></tr><tr><td>Queens</td><td>2014-04-10 21:57:48</td><td>40.74650573730469</td><td>-73.89091491699219</td></tr><tr><td>Manhattan</td><td>2014-04-10 21:59:52</td><td>40.78993606567383</td><td>-73.9519271850586</td></tr><tr><td>Brooklyn</td><td>2014-04-10 22:00:17</td><td>40.71430969238281</td><td>-73.95659637451172</td></tr><tr><td>Brooklyn</td><td>2014-04-10 22:05:59</td><td>40.683162689208984</td><td>-73.97459411621094</td></tr><tr><td>Brooklyn</td><td>2014-04-10 22:07:36</td><td>40.71405792236328</td><td>-73.95962524414062</td></tr><tr><td>Manhattan</td><td>2014-04-10 22:11:11</td><td>40.84480285644531</td><td>-73.93511962890625</td></tr><tr><td>Brooklyn</td><td>2014-04-10 22:12:29</td><td>40.67552185058594</td><td>-73.96336364746094</td></tr><tr><td>Manhattan</td><td>2014-04-10 22:16:33</td><td>40.80434799194336</td><td>-73.93757629394531</td></tr><tr><td>Manhattan</td><td>2014-04-10 22:19:24</td><td>40.81023025512695</td><td>-73.95144653320312</td></tr><tr><td>Manhattan</td><td>2014-04-10 22:19:48</td><td>40.82326889038086</td><td>-73.95269012451172</td></tr><tr><td>Queens</td><td>2014-04-10 22:20:46</td><td>40.7458381652832</td><td>-73.90234375</td></tr><tr><td>Brooklyn</td><td>2014-04-10 22:21:22</td><td>40.691993713378906</td><td>-73.99132537841797</td></tr><tr><td>Brooklyn</td><td>2014-04-10 22:23:38</td><td>40.6871337890625</td><td>-73.9596176147461</td></tr><tr><td>Manhattan</td><td>2014-04-10 22:23:54</td><td>40.80698013305664</td><td>-73.95344543457031</td></tr><tr><td>Queens</td><td>2014-04-10 22:24:38</td><td>40.77024841308594</td><td>-73.91879272460938</td></tr><tr><td>Brooklyn</td><td>2014-04-10 22:25:02</td><td>40.7182731628418</td><td>-73.95721435546875</td></tr><tr><td>Queens</td><td>2014-04-10 22:27:08</td><td>40.74726104736328</td><td>-73.9561767578125</td></tr><tr><td>Brooklyn</td><td>2014-04-10 22:27:29</td><td>40.68767166137695</td><td>-73.98640441894531</td></tr><tr><td>Manhattan</td><td>2014-04-10 22:34:28</td><td>40.815940856933594</td><td>-73.94329833984375</td></tr><tr><td>Manhattan</td><td>2014-04-10 22:34:48</td><td>40.78987503051758</td><td>-73.95195007324219</td></tr><tr><td>Manhattan</td><td>2014-04-10 22:41:02</td><td>40.807186126708984</td><td>-73.96442413330078</td></tr><tr><td>Queens</td><td>2014-04-10 22:42:05</td><td>40.74656295776367</td><td>-73.89144134521484</td></tr><tr><td>Manhattan</td><td>2014-04-10 22:46:34</td><td>40.83838653564453</td><td>-73.94510650634766</td></tr><tr><td>Brooklyn</td><td>2014-04-10 22:48:49</td><td>40.71392059326172</td><td>-73.95149993896484</td></tr><tr><td>Manhattan</td><td>2014-04-10 22:49:33</td><td>40.81894302368164</td><td>-73.93744659423828</td></tr><tr><td>Bronx</td><td>2014-04-10 22:57:40</td><td>40.83549499511719</td><td>-73.927978515625</td></tr><tr><td>Brooklyn</td><td>2014-04-10 22:59:36</td><td>40.725502014160156</td><td>-73.95176696777344</td></tr><tr><td>Manhattan</td><td>2014-04-10 22:59:43</td><td>40.8130989074707</td><td>-73.95616149902344</td></tr><tr><td>Manhattan</td><td>2014-04-10 23:01:13</td><td>40.81283950805664</td><td>-73.93771362304688</td></tr><tr><td>Brooklyn</td><td>2014-04-10 23:03:33</td><td>40.68536376953125</td><td>-73.99141693115234</td></tr><tr><td>Bronx</td><td>2014-04-10 23:07:33</td><td>40.87887191772461</td><td>-73.90478515625</td></tr><tr><td>Brooklyn</td><td>2014-04-10 23:10:43</td><td>40.66548156738281</td><td>-73.95697021484375</td></tr><tr><td>Queens</td><td>2014-04-10 23:13:56</td><td>40.72114181518555</td><td>-73.84416198730469</td></tr><tr><td>Brooklyn</td><td>2014-04-10 23:14:25</td><td>40.677764892578125</td><td>-73.99810028076172</td></tr><tr><td>Bronx</td><td>2014-04-10 23:14:36</td><td>40.86115646362305</td><td>-73.89767456054688</td></tr><tr><td>Queens</td><td>2014-04-10 23:14:58</td><td>40.74985885620117</td><td>-73.93912506103516</td></tr><tr><td>Queens</td><td>2014-04-10 23:18:19</td><td>40.713722229003906</td><td>-73.83018493652344</td></tr><tr><td>Brooklyn</td><td>2014-04-10 23:21:16</td><td>40.737648010253906</td><td>-73.95611572265625</td></tr><tr><td>Brooklyn</td><td>2014-04-10 23:23:36</td><td>40.689781188964844</td><td>-73.98794555664062</td></tr><tr><td>null</td><td>2014-04-10 23:23:52</td><td>40.8140754699707</td><td>-73.93331146240234</td></tr><tr><td>Brooklyn</td><td>2014-04-10 23:24:20</td><td>40.68528366088867</td><td>-73.92635345458984</td></tr><tr><td>Brooklyn</td><td>2014-04-10 23:26:06</td><td>40.71408462524414</td><td>-73.95543670654297</td></tr><tr><td>Brooklyn</td><td>2014-04-10 23:26:20</td><td>40.58735275268555</td><td>-73.95437622070312</td></tr><tr><td>Brooklyn</td><td>2014-04-10 23:28:17</td><td>40.71544647216797</td><td>-73.96035766601562</td></tr><tr><td>Queens</td><td>2014-04-10 23:29:41</td><td>40.77015686035156</td><td>-73.91775512695312</td></tr><tr><td>Brooklyn</td><td>2014-04-10 23:32:50</td><td>40.72093200683594</td><td>-73.95686340332031</td></tr><tr><td>Queens</td><td>2014-04-10 23:33:33</td><td>40.74674606323242</td><td>-73.89086151123047</td></tr><tr><td>Manhattan</td><td>2014-04-10 23:36:55</td><td>40.806907653808594</td><td>-73.95353698730469</td></tr><tr><td>Brooklyn</td><td>2014-04-10 23:37:59</td><td>40.72473907470703</td><td>-73.95150756835938</td></tr><tr><td>Brooklyn</td><td>2014-04-10 23:38:05</td><td>40.713966369628906</td><td>-73.9516372680664</td></tr><tr><td>Brooklyn</td><td>2014-04-10 23:43:14</td><td>40.7216682434082</td><td>-73.95814514160156</td></tr><tr><td>Queens</td><td>2014-04-10 23:54:35</td><td>40.7435302734375</td><td>-73.92035675048828</td></tr><tr><td>Brooklyn</td><td>2014-04-10 23:58:10</td><td>40.70011901855469</td><td>-73.92463684082031</td></tr><tr><td>Brooklyn</td><td>2014-04-10 23:58:31</td><td>40.70317459106445</td><td>-73.9327163696289</td></tr><tr><td>Bronx</td><td>2014-04-11 00:11:07</td><td>40.88223648071289</td><td>-73.88040161132812</td></tr><tr><td>Brooklyn</td><td>2014-04-11 00:13:13</td><td>40.716407775878906</td><td>-73.9592056274414</td></tr><tr><td>Manhattan</td><td>2014-04-11 00:17:20</td><td>40.80679702758789</td><td>-73.94609832763672</td></tr><tr><td>null</td><td>2014-04-11 00:22:30</td><td>40.712825775146484</td><td>-73.96985626220703</td></tr><tr><td>Manhattan</td><td>2014-04-11 00:24:20</td><td>40.82559585571289</td><td>-73.94727325439453</td></tr><tr><td>Brooklyn</td><td>2014-04-11 00:25:17</td><td>40.68977355957031</td><td>-73.99230194091797</td></tr><tr><td>Manhattan</td><td>2014-04-11 00:27:58</td><td>40.80424880981445</td><td>-73.95542907714844</td></tr><tr><td>Queens</td><td>2014-04-11 00:35:28</td><td>40.7474250793457</td><td>-73.88609313964844</td></tr><tr><td>Queens</td><td>2014-04-11 00:36:33</td><td>40.73670959472656</td><td>-73.86568450927734</td></tr><tr><td>Queens</td><td>2014-04-11 00:38:11</td><td>40.7215461730957</td><td>-73.84362030029297</td></tr><tr><td>Brooklyn</td><td>2014-04-11 00:40:13</td><td>40.71140670776367</td><td>-73.94902801513672</td></tr><tr><td>Queens</td><td>2014-04-11 00:49:14</td><td>40.749202728271484</td><td>-73.86959075927734</td></tr><tr><td>Queens</td><td>2014-04-11 00:51:43</td><td>40.74551010131836</td><td>-73.90350341796875</td></tr><tr><td>Brooklyn</td><td>2014-04-11 00:53:30</td><td>40.70698547363281</td><td>-73.92344665527344</td></tr><tr><td>Brooklyn</td><td>2014-04-11 00:55:39</td><td>40.69114685058594</td><td>-73.9915542602539</td></tr><tr><td>Queens</td><td>2014-04-11 00:57:23</td><td>40.757320404052734</td><td>-73.9156494140625</td></tr><tr><td>Queens</td><td>2014-04-11 01:04:04</td><td>40.699607849121094</td><td>-73.81067657470703</td></tr><tr><td>Manhattan</td><td>2014-04-11 01:05:50</td><td>40.83973693847656</td><td>-73.94078063964844</td></tr><tr><td>Bronx</td><td>2014-04-11 01:09:50</td><td>40.8653450012207</td><td>-73.87095642089844</td></tr><tr><td>Manhattan</td><td>2014-04-11 01:15:05</td><td>40.804893493652344</td><td>-73.93885803222656</td></tr><tr><td>Queens</td><td>2014-04-11 01:16:50</td><td>40.74757766723633</td><td>-73.88459014892578</td></tr><tr><td>Queens</td><td>2014-04-11 01:22:29</td><td>40.74984359741211</td><td>-73.86266326904297</td></tr><tr><td>Queens</td><td>2014-04-11 01:27:46</td><td>40.72107696533203</td><td>-73.8441390991211</td></tr><tr><td>Manhattan</td><td>2014-04-11 01:43:06</td><td>40.82283020019531</td><td>-73.9420166015625</td></tr><tr><td>Queens</td><td>2014-04-11 01:50:35</td><td>40.576908111572266</td><td>-73.83964538574219</td></tr><tr><td>Bronx</td><td>2014-04-11 02:03:50</td><td>40.81159210205078</td><td>-73.92609405517578</td></tr><tr><td>Brooklyn</td><td>2014-04-11 02:08:35</td><td>40.715579986572266</td><td>-73.96015167236328</td></tr><tr><td>Brooklyn</td><td>2014-04-11 02:12:05</td><td>40.6921272277832</td><td>-73.98628997802734</td></tr><tr><td>Manhattan</td><td>2014-04-11 02:20:30</td><td>40.86735153198242</td><td>-73.9209976196289</td></tr><tr><td>Brooklyn</td><td>2014-04-11 02:30:07</td><td>40.712921142578125</td><td>-73.96605682373047</td></tr><tr><td>Queens</td><td>2014-04-11 02:33:45</td><td>40.70044708251953</td><td>-73.80763244628906</td></tr><tr><td>Manhattan</td><td>2014-04-11 02:41:52</td><td>40.82191848754883</td><td>-73.94828796386719</td></tr><tr><td>Brooklyn</td><td>2014-04-11 02:51:16</td><td>40.70896530151367</td><td>-73.95925903320312</td></tr><tr><td>Brooklyn</td><td>2014-04-11 02:58:05</td><td>40.71400451660156</td><td>-73.9505844116211</td></tr><tr><td>Queens</td><td>2014-04-11 03:01:33</td><td>40.77056884765625</td><td>-73.91755676269531</td></tr><tr><td>Brooklyn</td><td>2014-04-11 03:01:49</td><td>40.70927810668945</td><td>-73.93714904785156</td></tr><tr><td>Queens</td><td>2014-04-11 03:14:46</td><td>40.7465934753418</td><td>-73.89149475097656</td></tr><tr><td>Brooklyn</td><td>2014-04-11 03:22:18</td><td>40.5872688293457</td><td>-73.95359802246094</td></tr><tr><td>Queens</td><td>2014-04-11 03:25:36</td><td>40.74631881713867</td><td>-73.89508819580078</td></tr><tr><td>Brooklyn</td><td>2014-04-11 03:25:36</td><td>40.73249053955078</td><td>-73.95465850830078</td></tr><tr><td>Brooklyn</td><td>2014-04-11 03:47:30</td><td>40.67050552368164</td><td>-73.98860931396484</td></tr><tr><td>Queens</td><td>2014-04-11 04:17:12</td><td>40.74776840209961</td><td>-73.8843002319336</td></tr><tr><td>Queens</td><td>2014-04-11 04:22:12</td><td>40.74736785888672</td><td>-73.88712310791016</td></tr><tr><td>Queens</td><td>2014-04-11 04:23:20</td><td>40.747013092041016</td><td>-73.8895492553711</td></tr><tr><td>Brooklyn</td><td>2014-04-11 04:26:27</td><td>40.70372772216797</td><td>-73.9310302734375</td></tr><tr><td>Queens</td><td>2014-04-11 04:39:15</td><td>40.7496452331543</td><td>-73.86280059814453</td></tr><tr><td>Queens</td><td>2014-04-11 04:51:21</td><td>40.74671173095703</td><td>-73.89151000976562</td></tr><tr><td>Brooklyn</td><td>2014-04-11 04:52:40</td><td>40.69117736816406</td><td>-73.9894790649414</td></tr><tr><td>Brooklyn</td><td>2014-04-11 04:53:50</td><td>40.72225570678711</td><td>-73.95753479003906</td></tr><tr><td>Manhattan</td><td>2014-04-11 05:10:40</td><td>40.79952621459961</td><td>-73.95508575439453</td></tr><tr><td>Manhattan</td><td>2014-04-11 05:22:00</td><td>40.81407928466797</td><td>-73.95683288574219</td></tr><tr><td>Queens</td><td>2014-04-11 05:27:11</td><td>40.64568328857422</td><td>-73.77631378173828</td></tr><tr><td>Brooklyn</td><td>2014-04-11 05:37:31</td><td>40.707698822021484</td><td>-73.93933868408203</td></tr><tr><td>Manhattan</td><td>2014-04-11 05:37:35</td><td>40.852169036865234</td><td>-73.94153594970703</td></tr><tr><td>Queens</td><td>2014-04-11 06:04:25</td><td>40.74769973754883</td><td>-73.88481903076172</td></tr><tr><td>Manhattan</td><td>2014-04-11 06:08:28</td><td>40.81829071044922</td><td>-73.95260620117188</td></tr><tr><td>Queens</td><td>2014-04-11 06:10:11</td><td>40.74043655395508</td><td>-73.89546966552734</td></tr><tr><td>Bronx</td><td>2014-04-11 06:17:28</td><td>40.8624382019043</td><td>-73.90519714355469</td></tr><tr><td>Brooklyn</td><td>2014-04-11 06:20:10</td><td>40.69298553466797</td><td>-73.96207427978516</td></tr><tr><td>Manhattan</td><td>2014-04-11 06:27:33</td><td>40.78516387939453</td><td>-73.9465560913086</td></tr><tr><td>Manhattan</td><td>2014-04-11 06:40:47</td><td>40.81217956542969</td><td>-73.93816375732422</td></tr><tr><td>Queens</td><td>2014-04-11 06:41:16</td><td>40.7481803894043</td><td>-73.87699127197266</td></tr><tr><td>Manhattan</td><td>2014-04-11 06:43:31</td><td>40.86430358886719</td><td>-73.92926788330078</td></tr><tr><td>Queens</td><td>2014-04-11 07:11:17</td><td>40.7294921875</td><td>-73.85175323486328</td></tr><tr><td>Queens</td><td>2014-04-11 07:11:40</td><td>40.751991271972656</td><td>-73.86918640136719</td></tr><tr><td>Bronx</td><td>2014-04-11 07:18:49</td><td>40.822364807128906</td><td>-73.8731689453125</td></tr><tr><td>Brooklyn</td><td>2014-04-11 07:20:16</td><td>40.6873893737793</td><td>-73.99201965332031</td></tr><tr><td>Brooklyn</td><td>2014-04-11 07:40:32</td><td>40.707496643066406</td><td>-73.9499282836914</td></tr><tr><td>Manhattan</td><td>2014-04-11 07:41:18</td><td>40.82509994506836</td><td>-73.95153045654297</td></tr><tr><td>Manhattan</td><td>2014-04-11 07:46:50</td><td>40.81086349487305</td><td>-73.96304321289062</td></tr><tr><td>Brooklyn</td><td>2014-04-11 07:57:16</td><td>40.587223052978516</td><td>-73.9539566040039</td></tr><tr><td>Queens</td><td>2014-04-11 07:58:26</td><td>40.75455093383789</td><td>-73.90966796875</td></tr><tr><td>Manhattan</td><td>2014-04-11 08:01:05</td><td>40.824058532714844</td><td>-73.95222473144531</td></tr><tr><td>Manhattan</td><td>2014-04-11 08:09:27</td><td>40.84233093261719</td><td>-73.939208984375</td></tr><tr><td>Queens</td><td>2014-04-11 08:11:29</td><td>40.76665115356445</td><td>-73.92129516601562</td></tr><tr><td>Bronx</td><td>2014-04-11 08:11:47</td><td>40.81425476074219</td><td>-73.92488861083984</td></tr><tr><td>Manhattan</td><td>2014-04-11 08:12:31</td><td>40.82252502441406</td><td>-73.95316314697266</td></tr><tr><td>Brooklyn</td><td>2014-04-11 08:14:04</td><td>40.67996597290039</td><td>-73.9991455078125</td></tr><tr><td>Manhattan</td><td>2014-04-11 08:18:10</td><td>40.80604934692383</td><td>-73.94261169433594</td></tr><tr><td>Queens</td><td>2014-04-11 08:19:55</td><td>40.74911117553711</td><td>-73.89043426513672</td></tr><tr><td>Manhattan</td><td>2014-04-11 08:20:04</td><td>40.812931060791016</td><td>-73.9531478881836</td></tr><tr><td>Manhattan</td><td>2014-04-11 08:21:14</td><td>40.818504333496094</td><td>-73.93789672851562</td></tr><tr><td>Manhattan</td><td>2014-04-11 08:22:26</td><td>40.83235549926758</td><td>-73.94266510009766</td></tr><tr><td>Bronx</td><td>2014-04-11 08:22:28</td><td>40.83613204956055</td><td>-73.90269470214844</td></tr><tr><td>Queens</td><td>2014-04-11 08:23:30</td><td>40.756046295166016</td><td>-73.8818130493164</td></tr><tr><td>Manhattan</td><td>2014-04-11 08:23:34</td><td>40.82725143432617</td><td>-73.9500503540039</td></tr><tr><td>Queens</td><td>2014-04-11 08:25:16</td><td>40.721397399902344</td><td>-73.84440612792969</td></tr><tr><td>Bronx</td><td>2014-04-11 08:25:22</td><td>40.8331184387207</td><td>-73.89017486572266</td></tr><tr><td>Queens</td><td>2014-04-11 08:25:24</td><td>40.76179504394531</td><td>-73.92533874511719</td></tr><tr><td>Queens</td><td>2014-04-11 08:25:32</td><td>40.74888610839844</td><td>-73.87032318115234</td></tr><tr><td>Manhattan</td><td>2014-04-11 08:25:57</td><td>40.79787826538086</td><td>-73.94839477539062</td></tr><tr><td>Manhattan</td><td>2014-04-11 08:28:45</td><td>40.81985855102539</td><td>-73.95165252685547</td></tr><tr><td>Bronx</td><td>2014-04-11 08:28:54</td><td>40.846981048583984</td><td>-73.90885162353516</td></tr><tr><td>Brooklyn</td><td>2014-04-11 08:29:44</td><td>40.693782806396484</td><td>-73.98370361328125</td></tr><tr><td>Queens</td><td>2014-04-11 08:30:59</td><td>40.72142791748047</td><td>-73.84423828125</td></tr><tr><td>null</td><td>2014-04-11 08:34:33</td><td>0.0</td><td>0.0</td></tr><tr><td>Queens</td><td>2014-04-11 08:46:46</td><td>40.749027252197266</td><td>-73.86927032470703</td></tr><tr><td>Manhattan</td><td>2014-04-11 08:48:14</td><td>40.80221939086914</td><td>-73.94979858398438</td></tr><tr><td>Queens</td><td>2014-04-11 08:50:57</td><td>40.744895935058594</td><td>-73.94856262207031</td></tr><tr><td>Brooklyn</td><td>2014-04-11 08:51:03</td><td>40.687320709228516</td><td>-73.98363494873047</td></tr><tr><td>Manhattan</td><td>2014-04-11 08:53:42</td><td>40.79154968261719</td><td>-73.94683074951172</td></tr><tr><td>Brooklyn</td><td>2014-04-11 08:56:49</td><td>40.64677810668945</td><td>-74.02285766601562</td></tr><tr><td>Bronx</td><td>2014-04-11 09:01:00</td><td>40.8089714050293</td><td>-73.92243194580078</td></tr><tr><td>Queens</td><td>2014-04-11 09:04:05</td><td>40.7669563293457</td><td>-73.92344665527344</td></tr><tr><td>Brooklyn</td><td>2014-04-11 09:07:37</td><td>40.66712188720703</td><td>-73.97505187988281</td></tr><tr><td>Queens</td><td>2014-04-11 09:12:40</td><td>40.75954055786133</td><td>-73.82972717285156</td></tr><tr><td>Manhattan</td><td>2014-04-11 09:23:10</td><td>40.80499267578125</td><td>-73.93917846679688</td></tr><tr><td>Queens</td><td>2014-04-11 09:27:05</td><td>40.745853424072266</td><td>-73.90318298339844</td></tr><tr><td>Bronx</td><td>2014-04-11 09:29:52</td><td>40.852603912353516</td><td>-73.8819808959961</td></tr><tr><td>Queens</td><td>2014-04-11 09:35:33</td><td>40.74420928955078</td><td>-73.88902282714844</td></tr><tr><td>Bronx</td><td>2014-04-11 09:37:17</td><td>40.82636642456055</td><td>-73.89672088623047</td></tr><tr><td>Manhattan</td><td>2014-04-11 09:37:24</td><td>40.83655548095703</td><td>-73.9429931640625</td></tr><tr><td>Queens</td><td>2014-04-11 09:48:33</td><td>40.76677322387695</td><td>-73.9216537475586</td></tr><tr><td>Manhattan</td><td>2014-04-11 09:50:57</td><td>40.791351318359375</td><td>-73.9446792602539</td></tr><tr><td>Queens</td><td>2014-04-11 10:03:24</td><td>40.73690414428711</td><td>-73.8533706665039</td></tr><tr><td>Manhattan</td><td>2014-04-11 10:08:51</td><td>40.80556869506836</td><td>-73.9388656616211</td></tr><tr><td>Manhattan</td><td>2014-04-11 10:09:22</td><td>40.80620193481445</td><td>-73.94397735595703</td></tr><tr><td>Queens</td><td>2014-04-11 10:12:47</td><td>40.75537872314453</td><td>-73.92744445800781</td></tr><tr><td>Brooklyn</td><td>2014-04-11 10:18:23</td><td>40.6897087097168</td><td>-73.97294616699219</td></tr><tr><td>Queens</td><td>2014-04-11 10:19:49</td><td>40.76308059692383</td><td>-73.9157485961914</td></tr><tr><td>Manhattan</td><td>2014-04-11 10:19:51</td><td>40.785831451416016</td><td>-73.9427490234375</td></tr><tr><td>Queens</td><td>2014-04-11 10:26:40</td><td>40.76748275756836</td><td>-73.91217041015625</td></tr><tr><td>Manhattan</td><td>2014-04-11 10:30:20</td><td>40.80500411987305</td><td>-73.93926239013672</td></tr><tr><td>Manhattan</td><td>2014-04-11 10:31:36</td><td>40.804771423339844</td><td>-73.93975067138672</td></tr><tr><td>Manhattan</td><td>2014-04-11 10:33:16</td><td>40.790016174316406</td><td>-73.95220947265625</td></tr><tr><td>Brooklyn</td><td>2014-04-11 10:43:00</td><td>40.7208366394043</td><td>-73.95516967773438</td></tr><tr><td>Bronx</td><td>2014-04-11 10:46:53</td><td>40.86118698120117</td><td>-73.89754486083984</td></tr><tr><td>Bronx</td><td>2014-04-11 10:48:23</td><td>40.82747268676758</td><td>-73.92412567138672</td></tr><tr><td>Bronx</td><td>2014-04-11 10:49:35</td><td>40.85579299926758</td><td>-73.90570831298828</td></tr><tr><td>Queens</td><td>2014-04-11 10:52:36</td><td>40.7454948425293</td><td>-73.88809204101562</td></tr><tr><td>Manhattan</td><td>2014-04-11 10:52:36</td><td>40.805580139160156</td><td>-73.9400405883789</td></tr><tr><td>Brooklyn</td><td>2014-04-11 10:52:53</td><td>40.71445083618164</td><td>-73.96119689941406</td></tr><tr><td>Queens</td><td>2014-04-11 10:54:36</td><td>40.76425552368164</td><td>-73.90204620361328</td></tr><tr><td>Queens</td><td>2014-04-11 10:56:10</td><td>40.76060104370117</td><td>-73.91778564453125</td></tr><tr><td>Queens</td><td>2014-04-11 11:00:20</td><td>40.766719818115234</td><td>-73.92168426513672</td></tr><tr><td>Manhattan</td><td>2014-04-11 11:02:34</td><td>40.81100082397461</td><td>-73.9432144165039</td></tr><tr><td>Brooklyn</td><td>2014-04-11 11:03:36</td><td>40.688541412353516</td><td>-73.99282836914062</td></tr><tr><td>Queens</td><td>2014-04-11 11:10:50</td><td>40.74776077270508</td><td>-73.88404083251953</td></tr><tr><td>Bronx</td><td>2014-04-11 11:16:58</td><td>40.82015609741211</td><td>-73.8674545288086</td></tr><tr><td>Queens</td><td>2014-04-11 11:18:10</td><td>40.75251770019531</td><td>-73.8861083984375</td></tr><tr><td>Bronx</td><td>2014-04-11 11:18:52</td><td>40.81619644165039</td><td>-73.9178237915039</td></tr><tr><td>Brooklyn</td><td>2014-04-11 11:19:24</td><td>40.6906623840332</td><td>-73.93787384033203</td></tr><tr><td>Brooklyn</td><td>2014-04-11 11:19:57</td><td>40.65957260131836</td><td>-73.96273803710938</td></tr><tr><td>Manhattan</td><td>2014-04-11 11:20:25</td><td>40.80677032470703</td><td>-73.96064758300781</td></tr><tr><td>Manhattan</td><td>2014-04-11 11:22:06</td><td>40.815181732177734</td><td>-73.93946838378906</td></tr><tr><td>Bronx</td><td>2014-04-11 11:30:28</td><td>40.870059967041016</td><td>-73.8852310180664</td></tr><tr><td>Queens</td><td>2014-04-11 11:31:38</td><td>40.74903106689453</td><td>-73.86990356445312</td></tr><tr><td>Queens</td><td>2014-04-11 11:38:26</td><td>40.736690521240234</td><td>-73.8653564453125</td></tr><tr><td>Manhattan</td><td>2014-04-11 11:40:11</td><td>40.81684112548828</td><td>-73.94817352294922</td></tr><tr><td>Manhattan</td><td>2014-04-11 11:53:17</td><td>40.8725700378418</td><td>-73.91282653808594</td></tr><tr><td>Queens</td><td>2014-04-11 11:55:59</td><td>40.76262664794922</td><td>-73.91824340820312</td></tr><tr><td>Bronx</td><td>2014-04-11 11:56:22</td><td>40.82286071777344</td><td>-73.92943572998047</td></tr><tr><td>Bronx</td><td>2014-04-11 11:57:04</td><td>40.843135833740234</td><td>-73.9110107421875</td></tr><tr><td>Manhattan</td><td>2014-04-11 12:06:16</td><td>40.80713653564453</td><td>-73.93382263183594</td></tr><tr><td>Manhattan</td><td>2014-04-11 12:13:48</td><td>40.81684112548828</td><td>-73.94817352294922</td></tr><tr><td>Bronx</td><td>2014-04-11 12:16:43</td><td>40.83934783935547</td><td>-73.91349792480469</td></tr><tr><td>Queens</td><td>2014-04-11 12:21:08</td><td>40.74380111694336</td><td>-73.92597961425781</td></tr><tr><td>Brooklyn</td><td>2014-04-11 12:23:16</td><td>40.69097137451172</td><td>-73.99398040771484</td></tr><tr><td>Queens</td><td>2014-04-11 12:23:56</td><td>40.75414276123047</td><td>-73.94222259521484</td></tr><tr><td>Manhattan</td><td>2014-04-11 12:25:52</td><td>40.82713317871094</td><td>-73.9501724243164</td></tr><tr><td>Queens</td><td>2014-04-11 12:40:57</td><td>40.68184280395508</td><td>-73.76615905761719</td></tr><tr><td>Manhattan</td><td>2014-04-11 12:54:39</td><td>40.83440399169922</td><td>-73.94450378417969</td></tr><tr><td>Manhattan</td><td>2014-04-11 12:57:13</td><td>40.791587829589844</td><td>-73.93861389160156</td></tr><tr><td>Manhattan</td><td>2014-04-11 13:02:07</td><td>40.75609588623047</td><td>-74.00546264648438</td></tr><tr><td>Manhattan</td><td>2014-04-11 13:07:21</td><td>40.79057693481445</td><td>-73.93933868408203</td></tr><tr><td>Manhattan</td><td>2014-04-11 13:12:04</td><td>40.82115936279297</td><td>-73.93938446044922</td></tr><tr><td>Manhattan</td><td>2014-04-11 13:13:27</td><td>40.84629440307617</td><td>-73.93856048583984</td></tr><tr><td>Manhattan</td><td>2014-04-11 13:18:00</td><td>40.78525161743164</td><td>-73.94945526123047</td></tr><tr><td>Bronx</td><td>2014-04-11 13:19:54</td><td>40.81648635864258</td><td>-73.90840911865234</td></tr><tr><td>Manhattan</td><td>2014-04-11 13:35:27</td><td>40.85418701171875</td><td>-73.93385314941406</td></tr><tr><td>Bronx</td><td>2014-04-11 13:35:47</td><td>40.84358215332031</td><td>-73.90312194824219</td></tr><tr><td>Manhattan</td><td>2014-04-11 13:36:27</td><td>40.86793899536133</td><td>-73.92069244384766</td></tr><tr><td>Bronx</td><td>2014-04-11 13:37:21</td><td>40.843196868896484</td><td>-73.9248275756836</td></tr><tr><td>Bronx</td><td>2014-04-11 13:38:09</td><td>40.840736389160156</td><td>-73.84146881103516</td></tr><tr><td>Queens</td><td>2014-04-11 13:47:14</td><td>40.700401306152344</td><td>-73.80742645263672</td></tr><tr><td>Manhattan</td><td>2014-04-11 13:49:46</td><td>40.8398323059082</td><td>-73.94042205810547</td></tr><tr><td>Queens</td><td>2014-04-11 13:51:10</td><td>40.75658416748047</td><td>-73.92100524902344</td></tr><tr><td>Brooklyn</td><td>2014-04-11 14:03:37</td><td>40.692256927490234</td><td>-73.99104309082031</td></tr><tr><td>Bronx</td><td>2014-04-11 14:14:53</td><td>40.86621856689453</td><td>-73.82646942138672</td></tr><tr><td>Bronx</td><td>2014-04-11 14:15:32</td><td>40.879791259765625</td><td>-73.87984466552734</td></tr><tr><td>Queens</td><td>2014-04-11 14:16:12</td><td>40.735111236572266</td><td>-73.87413024902344</td></tr><tr><td>Manhattan</td><td>2014-04-11 14:16:25</td><td>40.811866760253906</td><td>-73.963623046875</td></tr><tr><td>Manhattan</td><td>2014-04-11 14:20:48</td><td>40.849853515625</td><td>-73.93376922607422</td></tr><tr><td>Manhattan</td><td>2014-04-11 14:23:27</td><td>40.806846618652344</td><td>-73.96090698242188</td></tr><tr><td>Manhattan</td><td>2014-04-11 14:28:59</td><td>40.80537796020508</td><td>-73.96577453613281</td></tr><tr><td>Brooklyn</td><td>2014-04-11 14:30:33</td><td>40.68311309814453</td><td>-73.99773406982422</td></tr><tr><td>Manhattan</td><td>2014-04-11 14:30:58</td><td>40.79456329345703</td><td>-73.9447021484375</td></tr><tr><td>Brooklyn</td><td>2014-04-11 14:36:39</td><td>40.71577835083008</td><td>-73.94615936279297</td></tr><tr><td>Manhattan</td><td>2014-04-11 14:40:27</td><td>40.79838562011719</td><td>-73.93358612060547</td></tr><tr><td>Brooklyn</td><td>2014-04-11 14:40:47</td><td>40.68852615356445</td><td>-73.96585083007812</td></tr><tr><td>Queens</td><td>2014-04-11 14:42:17</td><td>40.733917236328125</td><td>-73.86956787109375</td></tr><tr><td>Queens</td><td>2014-04-11 14:47:19</td><td>40.746376037597656</td><td>-73.90303039550781</td></tr><tr><td>Brooklyn</td><td>2014-04-11 14:49:10</td><td>40.68471145629883</td><td>-73.97042846679688</td></tr><tr><td>Manhattan</td><td>2014-04-11 14:49:45</td><td>40.81682586669922</td><td>-73.95732116699219</td></tr><tr><td>Brooklyn</td><td>2014-04-11 14:51:46</td><td>40.687721252441406</td><td>-73.98700714111328</td></tr><tr><td>Queens</td><td>2014-04-11 14:52:55</td><td>40.74032974243164</td><td>-73.89747619628906</td></tr><tr><td>Bronx</td><td>2014-04-11 14:55:08</td><td>40.879371643066406</td><td>-73.9045181274414</td></tr><tr><td>Queens</td><td>2014-04-11 15:04:30</td><td>40.758323669433594</td><td>-73.93325805664062</td></tr><tr><td>Manhattan</td><td>2014-04-11 15:07:29</td><td>40.78921890258789</td><td>-73.9403305053711</td></tr><tr><td>Manhattan</td><td>2014-04-11 15:08:35</td><td>40.819820404052734</td><td>-73.96004486083984</td></tr><tr><td>Queens</td><td>2014-04-11 15:12:03</td><td>40.745853424072266</td><td>-73.88553619384766</td></tr><tr><td>Manhattan</td><td>2014-04-11 15:12:06</td><td>40.813133239746094</td><td>-73.95085906982422</td></tr><tr><td>Bronx</td><td>2014-04-11 15:15:47</td><td>40.812198638916016</td><td>-73.9038314819336</td></tr><tr><td>Manhattan</td><td>2014-04-11 15:16:47</td><td>40.80843734741211</td><td>-73.94845581054688</td></tr><tr><td>Queens</td><td>2014-04-11 15:20:40</td><td>40.75309371948242</td><td>-73.90995788574219</td></tr><tr><td>Queens</td><td>2014-04-11 15:23:19</td><td>40.75947189331055</td><td>-73.83049774169922</td></tr><tr><td>Brooklyn</td><td>2014-04-11 15:25:09</td><td>40.67294692993164</td><td>-73.95421600341797</td></tr><tr><td>Queens</td><td>2014-04-11 15:26:55</td><td>40.759376525878906</td><td>-73.91871643066406</td></tr><tr><td>Manhattan</td><td>2014-04-11 15:28:51</td><td>40.78981018066406</td><td>-73.95173645019531</td></tr><tr><td>Queens</td><td>2014-04-11 15:31:12</td><td>40.75954055786133</td><td>-73.82972717285156</td></tr><tr><td>Queens</td><td>2014-04-11 15:35:46</td><td>40.745357513427734</td><td>-73.9033203125</td></tr><tr><td>Manhattan</td><td>2014-04-11 15:38:00</td><td>40.85504150390625</td><td>-73.92951965332031</td></tr><tr><td>Brooklyn</td><td>2014-04-11 15:43:19</td><td>40.654457092285156</td><td>-74.0045394897461</td></tr><tr><td>Manhattan</td><td>2014-04-11 15:44:12</td><td>40.80125045776367</td><td>-73.95750427246094</td></tr><tr><td>Manhattan</td><td>2014-04-11 15:49:10</td><td>40.80915069580078</td><td>-73.94841766357422</td></tr><tr><td>Manhattan</td><td>2014-04-11 15:50:55</td><td>40.819881439208984</td><td>-73.9552993774414</td></tr><tr><td>Queens</td><td>2014-04-11 16:04:21</td><td>40.72134780883789</td><td>-73.84429168701172</td></tr><tr><td>Queens</td><td>2014-04-11 16:04:25</td><td>40.77193069458008</td><td>-73.92618560791016</td></tr><tr><td>Queens</td><td>2014-04-11 16:05:29</td><td>40.74445724487305</td><td>-73.8861083984375</td></tr><tr><td>Manhattan</td><td>2014-04-11 16:05:49</td><td>40.81491470336914</td><td>-73.94293212890625</td></tr><tr><td>Brooklyn</td><td>2014-04-11 16:07:57</td><td>40.688846588134766</td><td>-73.98896789550781</td></tr><tr><td>Manhattan</td><td>2014-04-11 16:08:50</td><td>40.80591583251953</td><td>-73.95433044433594</td></tr><tr><td>Manhattan</td><td>2014-04-11 16:10:36</td><td>40.78911209106445</td><td>-73.95419311523438</td></tr><tr><td>Manhattan</td><td>2014-04-11 16:11:08</td><td>40.805484771728516</td><td>-73.96189880371094</td></tr><tr><td>Manhattan</td><td>2014-04-11 16:17:22</td><td>40.80221176147461</td><td>-73.9494857788086</td></tr><tr><td>Queens</td><td>2014-04-11 16:23:21</td><td>40.700477600097656</td><td>-73.80776977539062</td></tr><tr><td>Bronx</td><td>2014-04-11 16:25:19</td><td>40.816429138183594</td><td>-73.91960906982422</td></tr><tr><td>Brooklyn</td><td>2014-04-11 16:36:51</td><td>40.686180114746094</td><td>-73.9963607788086</td></tr><tr><td>Manhattan</td><td>2014-04-11 16:38:09</td><td>40.82194137573242</td><td>-73.95368194580078</td></tr><tr><td>Brooklyn</td><td>2014-04-11 16:43:03</td><td>40.703758239746094</td><td>-73.98783874511719</td></tr><tr><td>Bronx</td><td>2014-04-11 16:43:42</td><td>40.85287857055664</td><td>-73.9046859741211</td></tr><tr><td>Manhattan</td><td>2014-04-11 16:45:21</td><td>40.83704376220703</td><td>-73.94251251220703</td></tr><tr><td>Brooklyn</td><td>2014-04-11 16:45:33</td><td>40.64307403564453</td><td>-73.99443054199219</td></tr><tr><td>Bronx</td><td>2014-04-11 16:46:35</td><td>40.859580993652344</td><td>-73.90335845947266</td></tr><tr><td>Manhattan</td><td>2014-04-11 16:46:38</td><td>40.84370422363281</td><td>-73.93778991699219</td></tr><tr><td>Manhattan</td><td>2014-04-11 16:54:21</td><td>40.81256103515625</td><td>-73.95629119873047</td></tr><tr><td>Manhattan</td><td>2014-04-11 16:55:07</td><td>40.87445068359375</td><td>-73.91018676757812</td></tr><tr><td>Manhattan</td><td>2014-04-11 16:56:08</td><td>40.84587860107422</td><td>-73.93628692626953</td></tr><tr><td>Queens</td><td>2014-04-11 16:57:41</td><td>40.745704650878906</td><td>-73.90287017822266</td></tr><tr><td>Bronx</td><td>2014-04-11 16:57:51</td><td>40.834232330322266</td><td>-73.85201263427734</td></tr><tr><td>Brooklyn</td><td>2014-04-11 16:58:37</td><td>40.58750915527344</td><td>-73.95426177978516</td></tr><tr><td>Brooklyn</td><td>2014-04-11 17:00:00</td><td>40.68596649169922</td><td>-73.99950408935547</td></tr><tr><td>Queens</td><td>2014-04-11 17:04:16</td><td>40.7658576965332</td><td>-73.91925048828125</td></tr><tr><td>Manhattan</td><td>2014-04-11 17:06:17</td><td>40.8677978515625</td><td>-73.92133331298828</td></tr><tr><td>Brooklyn</td><td>2014-04-11 17:11:38</td><td>40.68745803833008</td><td>-73.97257232666016</td></tr><tr><td>Manhattan</td><td>2014-04-11 17:13:08</td><td>40.787574768066406</td><td>-73.95403289794922</td></tr><tr><td>Manhattan</td><td>2014-04-11 17:13:12</td><td>40.802947998046875</td><td>-73.93385314941406</td></tr><tr><td>Brooklyn</td><td>2014-04-11 17:13:57</td><td>40.663673400878906</td><td>-73.9626693725586</td></tr><tr><td>Brooklyn</td><td>2014-04-11 17:15:06</td><td>40.67964553833008</td><td>-73.935546875</td></tr><tr><td>Brooklyn</td><td>2014-04-11 17:15:10</td><td>40.58723831176758</td><td>-73.95384979248047</td></tr><tr><td>Bronx</td><td>2014-04-11 17:15:33</td><td>40.84652328491211</td><td>-73.89424896240234</td></tr><tr><td>Manhattan</td><td>2014-04-11 17:24:16</td><td>40.803585052490234</td><td>-73.95333862304688</td></tr><tr><td>Brooklyn</td><td>2014-04-11 17:24:25</td><td>40.67774200439453</td><td>-73.96880340576172</td></tr><tr><td>Manhattan</td><td>2014-04-11 17:24:36</td><td>40.82624053955078</td><td>-73.95054626464844</td></tr><tr><td>Manhattan</td><td>2014-04-11 17:27:59</td><td>40.78891372680664</td><td>-73.95428466796875</td></tr><tr><td>Brooklyn</td><td>2014-04-11 17:28:53</td><td>40.71165084838867</td><td>-73.94336700439453</td></tr><tr><td>Bronx</td><td>2014-04-11 17:30:41</td><td>40.84313201904297</td><td>-73.9098892211914</td></tr><tr><td>Manhattan</td><td>2014-04-11 17:32:39</td><td>40.82977294921875</td><td>-73.94263458251953</td></tr><tr><td>Queens</td><td>2014-04-11 17:37:19</td><td>40.758052825927734</td><td>-73.91973876953125</td></tr><tr><td>Brooklyn</td><td>2014-04-11 17:37:42</td><td>40.693115234375</td><td>-73.96937561035156</td></tr><tr><td>Bronx</td><td>2014-04-11 17:40:42</td><td>40.87065124511719</td><td>-73.9044189453125</td></tr><tr><td>Brooklyn</td><td>2014-04-11 17:42:56</td><td>40.677677154541016</td><td>-73.97977447509766</td></tr><tr><td>Bronx</td><td>2014-04-11 17:43:52</td><td>40.86716079711914</td><td>-73.89634704589844</td></tr><tr><td>Queens</td><td>2014-04-11 17:44:15</td><td>40.73371887207031</td><td>-73.87029266357422</td></tr><tr><td>Queens</td><td>2014-04-11 17:45:33</td><td>40.74651336669922</td><td>-73.89122009277344</td></tr><tr><td>Manhattan</td><td>2014-04-11 17:47:10</td><td>40.789955139160156</td><td>-73.95188903808594</td></tr><tr><td>Bronx</td><td>2014-04-11 17:50:00</td><td>40.835357666015625</td><td>-73.86127471923828</td></tr><tr><td>Bronx</td><td>2014-04-11 17:53:25</td><td>40.8243522644043</td><td>-73.89183044433594</td></tr><tr><td>Bronx</td><td>2014-04-11 17:57:26</td><td>40.849300384521484</td><td>-73.91743469238281</td></tr><tr><td>Queens</td><td>2014-04-11 17:58:42</td><td>40.745704650878906</td><td>-73.90331268310547</td></tr><tr><td>Manhattan</td><td>2014-04-11 17:59:51</td><td>40.80858612060547</td><td>-73.9449234008789</td></tr><tr><td>Manhattan</td><td>2014-04-11 18:00:51</td><td>40.807315826416016</td><td>-73.96463775634766</td></tr><tr><td>Queens</td><td>2014-04-11 18:01:06</td><td>40.76659393310547</td><td>-73.92141723632812</td></tr><tr><td>Manhattan</td><td>2014-04-11 18:01:44</td><td>40.803096771240234</td><td>-73.96381378173828</td></tr><tr><td>Queens</td><td>2014-04-11 18:06:27</td><td>40.73040771484375</td><td>-73.86241149902344</td></tr><tr><td>Manhattan</td><td>2014-04-11 18:07:35</td><td>40.850093841552734</td><td>-73.9359130859375</td></tr><tr><td>Manhattan</td><td>2014-04-11 18:13:35</td><td>40.80552673339844</td><td>-73.93912506103516</td></tr><tr><td>Bronx</td><td>2014-04-11 18:14:07</td><td>40.81403350830078</td><td>-73.92168426513672</td></tr><tr><td>Queens</td><td>2014-04-11 18:16:04</td><td>40.75469207763672</td><td>-73.94158172607422</td></tr><tr><td>Manhattan</td><td>2014-04-11 18:17:49</td><td>40.86835479736328</td><td>-73.9216537475586</td></tr><tr><td>Manhattan</td><td>2014-04-11 18:21:59</td><td>40.80830383300781</td><td>-73.95965576171875</td></tr><tr><td>Brooklyn</td><td>2014-04-11 18:23:23</td><td>40.693687438964844</td><td>-73.99293518066406</td></tr><tr><td>Queens</td><td>2014-04-11 18:25:14</td><td>40.747127532958984</td><td>-73.89021301269531</td></tr><tr><td>Bronx</td><td>2014-04-11 18:36:22</td><td>40.867462158203125</td><td>-73.87980651855469</td></tr><tr><td>Brooklyn</td><td>2014-04-11 18:39:23</td><td>40.716285705566406</td><td>-73.95935821533203</td></tr><tr><td>Queens</td><td>2014-04-11 18:40:05</td><td>40.721107482910156</td><td>-73.84420013427734</td></tr><tr><td>Brooklyn</td><td>2014-04-11 18:40:38</td><td>40.717308044433594</td><td>-73.958251953125</td></tr><tr><td>Brooklyn</td><td>2014-04-11 18:40:38</td><td>40.6815071105957</td><td>-73.9655532836914</td></tr><tr><td>Bronx</td><td>2014-04-11 18:40:43</td><td>40.80787658691406</td><td>-73.91990661621094</td></tr><tr><td>Queens</td><td>2014-04-11 18:41:35</td><td>40.74911117553711</td><td>-73.8703842163086</td></tr><tr><td>Brooklyn</td><td>2014-04-11 18:46:08</td><td>40.68588638305664</td><td>-73.9735336303711</td></tr><tr><td>Queens</td><td>2014-04-11 18:47:32</td><td>40.76272964477539</td><td>-73.92703247070312</td></tr><tr><td>Manhattan</td><td>2014-04-11 18:50:51</td><td>40.84469985961914</td><td>-73.94071960449219</td></tr><tr><td>Queens</td><td>2014-04-11 18:52:43</td><td>40.755226135253906</td><td>-73.81634521484375</td></tr><tr><td>Queens</td><td>2014-04-11 18:53:15</td><td>40.74924087524414</td><td>-73.86942291259766</td></tr><tr><td>Queens</td><td>2014-04-11 18:54:55</td><td>40.75497817993164</td><td>-73.91036987304688</td></tr><tr><td>Bronx</td><td>2014-04-11 18:56:16</td><td>40.84095001220703</td><td>-73.84239959716797</td></tr><tr><td>Brooklyn</td><td>2014-04-11 18:56:21</td><td>40.6905403137207</td><td>-73.99539947509766</td></tr><tr><td>Brooklyn</td><td>2014-04-11 18:57:42</td><td>40.69313430786133</td><td>-73.98697662353516</td></tr><tr><td>Brooklyn</td><td>2014-04-11 18:57:57</td><td>40.6893424987793</td><td>-73.9813232421875</td></tr><tr><td>Brooklyn</td><td>2014-04-11 19:03:59</td><td>40.68849182128906</td><td>-73.98674774169922</td></tr><tr><td>Queens</td><td>2014-04-11 19:04:10</td><td>40.74545669555664</td><td>-73.90341186523438</td></tr><tr><td>Queens</td><td>2014-04-11 19:07:20</td><td>40.762630462646484</td><td>-73.87529754638672</td></tr><tr><td>Brooklyn</td><td>2014-04-11 19:08:05</td><td>40.719154357910156</td><td>-73.9488525390625</td></tr><tr><td>Manhattan</td><td>2014-04-11 19:09:33</td><td>40.789669036865234</td><td>-73.95188903808594</td></tr><tr><td>Manhattan</td><td>2014-04-11 19:09:38</td><td>40.8242073059082</td><td>-73.94499969482422</td></tr><tr><td>Manhattan</td><td>2014-04-11 19:11:03</td><td>40.807403564453125</td><td>-73.94451141357422</td></tr><tr><td>Brooklyn</td><td>2014-04-11 19:12:47</td><td>40.684730529785156</td><td>-73.97882843017578</td></tr><tr><td>Queens</td><td>2014-04-11 19:13:23</td><td>40.747032165527344</td><td>-73.95637512207031</td></tr><tr><td>Manhattan</td><td>2014-04-11 19:18:11</td><td>40.80793380737305</td><td>-73.96417236328125</td></tr><tr><td>Manhattan</td><td>2014-04-11 19:18:45</td><td>40.78986740112305</td><td>-73.95228576660156</td></tr><tr><td>Queens</td><td>2014-04-11 19:21:05</td><td>40.760196685791016</td><td>-73.84576416015625</td></tr><tr><td>Queens</td><td>2014-04-11 19:21:09</td><td>40.745670318603516</td><td>-73.90362548828125</td></tr><tr><td>Manhattan</td><td>2014-04-11 19:23:22</td><td>40.84272384643555</td><td>-73.9384765625</td></tr><tr><td>Bronx</td><td>2014-04-11 19:25:04</td><td>40.839019775390625</td><td>-73.83597564697266</td></tr><tr><td>Brooklyn</td><td>2014-04-11 19:27:53</td><td>40.69358444213867</td><td>-73.99270629882812</td></tr><tr><td>Queens</td><td>2014-04-11 19:29:21</td><td>40.7004508972168</td><td>-73.80738067626953</td></tr><tr><td>Manhattan</td><td>2014-04-11 19:31:50</td><td>40.858150482177734</td><td>-73.93182373046875</td></tr><tr><td>Brooklyn</td><td>2014-04-11 19:33:11</td><td>40.67526626586914</td><td>-73.9749755859375</td></tr><tr><td>Brooklyn</td><td>2014-04-11 19:33:22</td><td>40.70233154296875</td><td>-73.98651123046875</td></tr><tr><td>Queens</td><td>2014-04-11 19:36:37</td><td>40.75954055786133</td><td>-73.83036041259766</td></tr><tr><td>Queens</td><td>2014-04-11 19:36:42</td><td>40.76618576049805</td><td>-73.91991424560547</td></tr><tr><td>Manhattan</td><td>2014-04-11 19:39:41</td><td>40.853946685791016</td><td>-73.93388366699219</td></tr><tr><td>Brooklyn</td><td>2014-04-11 19:40:07</td><td>40.71428298950195</td><td>-73.9614028930664</td></tr><tr><td>Queens</td><td>2014-04-11 19:41:42</td><td>40.74360275268555</td><td>-73.953857421875</td></tr><tr><td>Queens</td><td>2014-04-11 19:43:49</td><td>40.77720260620117</td><td>-73.90937805175781</td></tr><tr><td>Brooklyn</td><td>2014-04-11 19:45:58</td><td>40.68734359741211</td><td>-73.99576568603516</td></tr><tr><td>Brooklyn</td><td>2014-04-11 19:46:39</td><td>40.693336486816406</td><td>-73.9791259765625</td></tr><tr><td>Queens</td><td>2014-04-11 19:49:21</td><td>40.746681213378906</td><td>-73.8914566040039</td></tr><tr><td>Brooklyn</td><td>2014-04-11 19:53:32</td><td>40.71548080444336</td><td>-73.95803833007812</td></tr><tr><td>Queens</td><td>2014-04-11 19:54:43</td><td>40.74849319458008</td><td>-73.93889617919922</td></tr><tr><td>Bronx</td><td>2014-04-11 19:56:34</td><td>40.820316314697266</td><td>-73.92976379394531</td></tr><tr><td>Manhattan</td><td>2014-04-11 19:59:00</td><td>40.806968688964844</td><td>-73.96099090576172</td></tr><tr><td>Brooklyn</td><td>2014-04-11 19:59:32</td><td>40.69363784790039</td><td>-73.9837875366211</td></tr><tr><td>Queens</td><td>2014-04-11 20:02:59</td><td>40.72154235839844</td><td>-73.84830474853516</td></tr><tr><td>Queens</td><td>2014-04-11 20:07:37</td><td>40.72111129760742</td><td>-73.84395599365234</td></tr><tr><td>Queens</td><td>2014-04-11 20:07:39</td><td>40.7496223449707</td><td>-73.88536071777344</td></tr><tr><td>Manhattan</td><td>2014-04-11 20:08:38</td><td>40.803218841552734</td><td>-73.96427917480469</td></tr><tr><td>Queens</td><td>2014-04-11 20:08:55</td><td>40.76144027709961</td><td>-73.91703033447266</td></tr><tr><td>Manhattan</td><td>2014-04-11 20:09:31</td><td>40.805328369140625</td><td>-73.9393081665039</td></tr><tr><td>Manhattan</td><td>2014-04-11 20:10:46</td><td>40.80326843261719</td><td>-73.93463134765625</td></tr><tr><td>Manhattan</td><td>2014-04-11 20:11:23</td><td>40.80510330200195</td><td>-73.93944549560547</td></tr><tr><td>Brooklyn</td><td>2014-04-11 20:12:22</td><td>40.71448516845703</td><td>-73.95722961425781</td></tr><tr><td>Brooklyn</td><td>2014-04-11 20:12:32</td><td>40.71458053588867</td><td>-73.94453430175781</td></tr><tr><td>Manhattan</td><td>2014-04-11 20:13:44</td><td>40.80794906616211</td><td>-73.94530487060547</td></tr><tr><td>Bronx</td><td>2014-04-11 20:17:07</td><td>40.85151672363281</td><td>-73.9087142944336</td></tr><tr><td>Manhattan</td><td>2014-04-11 20:18:08</td><td>40.79967498779297</td><td>-73.94074249267578</td></tr><tr><td>Queens</td><td>2014-04-11 20:19:18</td><td>40.733978271484375</td><td>-73.86927032470703</td></tr><tr><td>Brooklyn</td><td>2014-04-11 20:20:21</td><td>40.702327728271484</td><td>-73.98676300048828</td></tr><tr><td>Manhattan</td><td>2014-04-11 20:22:02</td><td>40.80861282348633</td><td>-73.94500732421875</td></tr><tr><td>Queens</td><td>2014-04-11 20:23:13</td><td>40.769996643066406</td><td>-73.91797637939453</td></tr><tr><td>Manhattan</td><td>2014-04-11 20:24:37</td><td>40.83740997314453</td><td>-73.94255065917969</td></tr><tr><td>Brooklyn</td><td>2014-04-11 20:25:20</td><td>40.70244598388672</td><td>-73.98670959472656</td></tr><tr><td>Queens</td><td>2014-04-11 20:26:44</td><td>40.733890533447266</td><td>-73.86920166015625</td></tr><tr><td>Manhattan</td><td>2014-04-11 20:26:50</td><td>40.80883026123047</td><td>-73.94825744628906</td></tr><tr><td>Bronx</td><td>2014-04-11 20:28:32</td><td>40.84001541137695</td><td>-73.91714477539062</td></tr><tr><td>Queens</td><td>2014-04-11 20:29:56</td><td>40.7688102722168</td><td>-73.91075897216797</td></tr><tr><td>Brooklyn</td><td>2014-04-11 20:35:44</td><td>40.6549072265625</td><td>-73.95940399169922</td></tr><tr><td>Queens</td><td>2014-04-11 20:36:03</td><td>40.75679016113281</td><td>-73.92071533203125</td></tr><tr><td>Manhattan</td><td>2014-04-11 20:37:29</td><td>40.78774642944336</td><td>-73.94951629638672</td></tr><tr><td>Queens</td><td>2014-04-11 20:40:20</td><td>40.756134033203125</td><td>-73.92424774169922</td></tr><tr><td>Manhattan</td><td>2014-04-11 20:41:17</td><td>40.788543701171875</td><td>-73.95313262939453</td></tr><tr><td>Brooklyn</td><td>2014-04-11 20:41:49</td><td>40.65259552001953</td><td>-73.92131042480469</td></tr><tr><td>Bronx</td><td>2014-04-11 20:43:03</td><td>40.83266830444336</td><td>-73.87342071533203</td></tr><tr><td>Queens</td><td>2014-04-11 20:45:10</td><td>40.73394775390625</td><td>-73.87076568603516</td></tr><tr><td>Manhattan</td><td>2014-04-11 20:45:19</td><td>40.79591369628906</td><td>-73.94772338867188</td></tr><tr><td>Manhattan</td><td>2014-04-11 20:49:59</td><td>40.802860260009766</td><td>-73.9637451171875</td></tr><tr><td>Manhattan</td><td>2014-04-11 20:51:09</td><td>40.80813980102539</td><td>-73.9451675415039</td></tr><tr><td>Manhattan</td><td>2014-04-11 20:52:24</td><td>40.8040657043457</td><td>-73.96661376953125</td></tr><tr><td>Brooklyn</td><td>2014-04-11 20:52:56</td><td>40.68663024902344</td><td>-73.99056243896484</td></tr><tr><td>Manhattan</td><td>2014-04-11 20:53:04</td><td>40.80787658691406</td><td>-73.9452896118164</td></tr><tr><td>Brooklyn</td><td>2014-04-11 20:57:15</td><td>40.71553039550781</td><td>-73.9601821899414</td></tr><tr><td>Brooklyn</td><td>2014-04-11 20:58:09</td><td>40.717987060546875</td><td>-73.95752716064453</td></tr><tr><td>Brooklyn</td><td>2014-04-11 21:03:08</td><td>40.68217086791992</td><td>-73.99357604980469</td></tr><tr><td>Brooklyn</td><td>2014-04-11 21:07:47</td><td>40.672950744628906</td><td>-73.97578430175781</td></tr><tr><td>Brooklyn</td><td>2014-04-11 21:08:39</td><td>40.72048568725586</td><td>-73.95469665527344</td></tr><tr><td>Manhattan</td><td>2014-04-11 21:12:01</td><td>40.80805587768555</td><td>-73.94536590576172</td></tr><tr><td>Brooklyn</td><td>2014-04-11 21:12:24</td><td>40.686222076416016</td><td>-73.97421264648438</td></tr><tr><td>Brooklyn</td><td>2014-04-11 21:14:02</td><td>40.68886947631836</td><td>-73.9888916015625</td></tr><tr><td>Brooklyn</td><td>2014-04-11 21:14:27</td><td>40.703880310058594</td><td>-73.9866714477539</td></tr><tr><td>Brooklyn</td><td>2014-04-11 21:15:39</td><td>40.69437026977539</td><td>-73.96112060546875</td></tr><tr><td>Queens</td><td>2014-04-11 21:17:00</td><td>40.7210807800293</td><td>-73.8441390991211</td></tr><tr><td>Queens</td><td>2014-04-11 21:17:38</td><td>40.74872589111328</td><td>-73.94223022460938</td></tr><tr><td>Manhattan</td><td>2014-04-11 21:18:30</td><td>40.80967712402344</td><td>-73.95161437988281</td></tr><tr><td>Brooklyn</td><td>2014-04-11 21:18:51</td><td>40.713314056396484</td><td>-73.96200561523438</td></tr><tr><td>Bronx</td><td>2014-04-11 21:19:27</td><td>40.828346252441406</td><td>-73.92176055908203</td></tr><tr><td>Manhattan</td><td>2014-04-11 21:20:16</td><td>40.866676330566406</td><td>-73.92061614990234</td></tr><tr><td>Brooklyn</td><td>2014-04-11 21:20:23</td><td>40.689048767089844</td><td>-73.95722961425781</td></tr><tr><td>Brooklyn</td><td>2014-04-11 21:20:24</td><td>40.71541213989258</td><td>-73.96033477783203</td></tr><tr><td>Bronx</td><td>2014-04-11 21:20:28</td><td>40.80668640136719</td><td>-73.9171142578125</td></tr><tr><td>Queens</td><td>2014-04-11 21:26:48</td><td>40.72148513793945</td><td>-73.84459686279297</td></tr><tr><td>Manhattan</td><td>2014-04-11 21:27:54</td><td>40.82713317871094</td><td>-73.94636535644531</td></tr><tr><td>Queens</td><td>2014-04-11 21:27:57</td><td>40.75779342651367</td><td>-73.85887145996094</td></tr><tr><td>Bronx</td><td>2014-04-11 21:29:08</td><td>40.851951599121094</td><td>-73.88465881347656</td></tr><tr><td>Manhattan</td><td>2014-04-11 21:31:09</td><td>40.80455780029297</td><td>-73.9377212524414</td></tr><tr><td>Brooklyn</td><td>2014-04-11 21:33:13</td><td>40.714664459228516</td><td>-73.96104431152344</td></tr><tr><td>Manhattan</td><td>2014-04-11 21:33:47</td><td>40.80290222167969</td><td>-73.9637222290039</td></tr><tr><td>Brooklyn</td><td>2014-04-11 21:35:01</td><td>40.709693908691406</td><td>-73.95873260498047</td></tr><tr><td>Manhattan</td><td>2014-04-11 21:35:56</td><td>40.79988098144531</td><td>-73.94465637207031</td></tr><tr><td>Queens</td><td>2014-04-11 21:40:02</td><td>40.75797653198242</td><td>-73.9166030883789</td></tr><tr><td>Queens</td><td>2014-04-11 21:40:17</td><td>40.7351188659668</td><td>-73.87416076660156</td></tr><tr><td>Queens</td><td>2014-04-11 21:41:18</td><td>40.74491882324219</td><td>-73.93199920654297</td></tr><tr><td>Brooklyn</td><td>2014-04-11 21:41:56</td><td>40.70286178588867</td><td>-73.99418640136719</td></tr><tr><td>Manhattan</td><td>2014-04-11 21:42:37</td><td>40.84384536743164</td><td>-73.93905639648438</td></tr><tr><td>Manhattan</td><td>2014-04-11 21:43:22</td><td>40.84123611450195</td><td>-73.93977355957031</td></tr><tr><td>Queens</td><td>2014-04-11 21:43:35</td><td>40.762420654296875</td><td>-73.9161605834961</td></tr><tr><td>Brooklyn</td><td>2014-04-11 21:44:26</td><td>40.69027328491211</td><td>-73.98772430419922</td></tr><tr><td>Queens</td><td>2014-04-11 21:47:52</td><td>40.75527572631836</td><td>-73.92245483398438</td></tr><tr><td>Queens</td><td>2014-04-11 21:48:07</td><td>40.75409698486328</td><td>-73.94221496582031</td></tr><tr><td>Brooklyn</td><td>2014-04-11 21:52:01</td><td>40.71402359008789</td><td>-73.95965576171875</td></tr><tr><td>Manhattan</td><td>2014-04-11 21:52:50</td><td>40.840938568115234</td><td>-73.94002532958984</td></tr><tr><td>Brooklyn</td><td>2014-04-11 21:53:03</td><td>40.70299530029297</td><td>-73.99446868896484</td></tr><tr><td>Brooklyn</td><td>2014-04-11 21:53:48</td><td>40.681373596191406</td><td>-73.9653091430664</td></tr><tr><td>Brooklyn</td><td>2014-04-11 21:54:01</td><td>40.708858489990234</td><td>-73.95951080322266</td></tr><tr><td>Brooklyn</td><td>2014-04-11 21:56:52</td><td>40.72161102294922</td><td>-73.95079040527344</td></tr><tr><td>Queens</td><td>2014-04-11 22:00:06</td><td>40.70011901855469</td><td>-73.80742645263672</td></tr><tr><td>Manhattan</td><td>2014-04-11 22:00:08</td><td>40.80592346191406</td><td>-73.95429229736328</td></tr><tr><td>Manhattan</td><td>2014-04-11 22:01:40</td><td>40.800106048583984</td><td>-73.95093536376953</td></tr><tr><td>Manhattan</td><td>2014-04-11 22:04:45</td><td>40.80707931518555</td><td>-73.96082305908203</td></tr><tr><td>Brooklyn</td><td>2014-04-11 22:06:41</td><td>40.7113037109375</td><td>-73.94804382324219</td></tr><tr><td>Queens</td><td>2014-04-11 22:09:55</td><td>40.699066162109375</td><td>-73.80720520019531</td></tr><tr><td>Brooklyn</td><td>2014-04-11 22:10:06</td><td>40.678314208984375</td><td>-73.97602081298828</td></tr><tr><td>Brooklyn</td><td>2014-04-11 22:10:25</td><td>40.723331451416016</td><td>-73.95178985595703</td></tr><tr><td>Queens</td><td>2014-04-11 22:13:49</td><td>40.76667404174805</td><td>-73.92134857177734</td></tr><tr><td>Manhattan</td><td>2014-04-11 22:14:59</td><td>40.83976364135742</td><td>-73.94092559814453</td></tr><tr><td>Queens</td><td>2014-04-11 22:15:44</td><td>40.763370513916016</td><td>-73.92852783203125</td></tr><tr><td>Manhattan</td><td>2014-04-11 22:16:03</td><td>40.812530517578125</td><td>-73.95687866210938</td></tr><tr><td>Queens</td><td>2014-04-11 22:21:09</td><td>40.77204513549805</td><td>-73.92244720458984</td></tr><tr><td>Queens</td><td>2014-04-11 22:21:17</td><td>40.742897033691406</td><td>-73.91800689697266</td></tr><tr><td>Manhattan</td><td>2014-04-11 22:23:35</td><td>40.805484771728516</td><td>-73.9393310546875</td></tr><tr><td>Manhattan</td><td>2014-04-11 22:29:56</td><td>40.7971076965332</td><td>-73.93773651123047</td></tr><tr><td>Queens</td><td>2014-04-11 22:32:14</td><td>40.756900787353516</td><td>-73.92562866210938</td></tr><tr><td>Queens</td><td>2014-04-11 22:33:06</td><td>40.70041275024414</td><td>-73.80811309814453</td></tr><tr><td>Manhattan</td><td>2014-04-11 22:40:43</td><td>40.806758880615234</td><td>-73.9611587524414</td></tr><tr><td>Brooklyn</td><td>2014-04-11 22:42:48</td><td>40.702362060546875</td><td>-73.9875259399414</td></tr><tr><td>Manhattan</td><td>2014-04-11 22:44:18</td><td>40.804325103759766</td><td>-73.95506286621094</td></tr><tr><td>Queens</td><td>2014-04-11 22:45:12</td><td>40.7589111328125</td><td>-73.91915130615234</td></tr><tr><td>Brooklyn</td><td>2014-04-11 22:45:23</td><td>40.67650604248047</td><td>-73.9803695678711</td></tr><tr><td>Brooklyn</td><td>2014-04-11 22:51:40</td><td>40.67244338989258</td><td>-73.97699737548828</td></tr><tr><td>Manhattan</td><td>2014-04-11 22:52:49</td><td>40.811256408691406</td><td>-73.950439453125</td></tr><tr><td>Bronx</td><td>2014-04-11 22:54:11</td><td>40.80730438232422</td><td>-73.92435455322266</td></tr><tr><td>Queens</td><td>2014-04-11 22:54:22</td><td>40.766273498535156</td><td>-73.919677734375</td></tr><tr><td>Manhattan</td><td>2014-04-11 22:55:43</td><td>40.79823684692383</td><td>-73.93380737304688</td></tr><tr><td>Queens</td><td>2014-04-11 22:57:40</td><td>40.77293014526367</td><td>-73.90613555908203</td></tr><tr><td>Queens</td><td>2014-04-11 23:01:17</td><td>40.72969055175781</td><td>-73.855224609375</td></tr><tr><td>Manhattan</td><td>2014-04-11 23:05:32</td><td>40.82344055175781</td><td>-73.93769073486328</td></tr><tr><td>Manhattan</td><td>2014-04-11 23:07:40</td><td>40.80760955810547</td><td>-73.94552612304688</td></tr><tr><td>Brooklyn</td><td>2014-04-11 23:10:03</td><td>40.710365295410156</td><td>-73.96306610107422</td></tr><tr><td>Manhattan</td><td>2014-04-11 23:12:26</td><td>40.79328536987305</td><td>-73.95182037353516</td></tr><tr><td>Brooklyn</td><td>2014-04-11 23:12:26</td><td>40.736698150634766</td><td>-73.95536804199219</td></tr><tr><td>Brooklyn</td><td>2014-04-11 23:14:26</td><td>40.692142486572266</td><td>-73.96373748779297</td></tr><tr><td>Brooklyn</td><td>2014-04-11 23:15:28</td><td>40.68101119995117</td><td>-73.99433135986328</td></tr><tr><td>Brooklyn</td><td>2014-04-11 23:18:59</td><td>40.72338104248047</td><td>-73.95156860351562</td></tr><tr><td>Brooklyn</td><td>2014-04-11 23:24:04</td><td>40.71199035644531</td><td>-73.96363830566406</td></tr><tr><td>Queens</td><td>2014-04-11 23:25:46</td><td>40.71947479248047</td><td>-73.84515380859375</td></tr><tr><td>Brooklyn</td><td>2014-04-11 23:25:48</td><td>40.71803283691406</td><td>-73.9596939086914</td></tr><tr><td>Queens</td><td>2014-04-11 23:26:29</td><td>40.721046447753906</td><td>-73.84414672851562</td></tr><tr><td>Brooklyn</td><td>2014-04-11 23:27:01</td><td>40.706993103027344</td><td>-73.95377349853516</td></tr><tr><td>Queens</td><td>2014-04-11 23:29:06</td><td>40.77018356323242</td><td>-73.91829681396484</td></tr><tr><td>Brooklyn</td><td>2014-04-11 23:31:37</td><td>40.714599609375</td><td>-73.96136474609375</td></tr><tr><td>Manhattan</td><td>2014-04-11 23:34:53</td><td>40.809356689453125</td><td>-73.95304870605469</td></tr><tr><td>Bronx</td><td>2014-04-11 23:36:08</td><td>40.830055236816406</td><td>-73.92475891113281</td></tr><tr><td>Bronx</td><td>2014-04-11 23:37:24</td><td>40.83442687988281</td><td>-73.82914733886719</td></tr><tr><td>Manhattan</td><td>2014-04-11 23:38:14</td><td>40.80928039550781</td><td>-73.95907592773438</td></tr><tr><td>Manhattan</td><td>2014-04-11 23:42:33</td><td>40.80769729614258</td><td>-73.94572448730469</td></tr><tr><td>Queens</td><td>2014-04-11 23:43:39</td><td>40.75343322753906</td><td>-73.90657806396484</td></tr><tr><td>Brooklyn</td><td>2014-04-11 23:45:11</td><td>40.674072265625</td><td>-73.982177734375</td></tr><tr><td>Queens</td><td>2014-04-11 23:46:30</td><td>40.76304626464844</td><td>-73.92764282226562</td></tr><tr><td>Brooklyn</td><td>2014-04-11 23:48:27</td><td>40.680946350097656</td><td>-73.95563507080078</td></tr><tr><td>Brooklyn</td><td>2014-04-11 23:51:20</td><td>40.67166519165039</td><td>-73.98416900634766</td></tr><tr><td>Brooklyn</td><td>2014-04-11 23:51:43</td><td>40.71428680419922</td><td>-73.95162963867188</td></tr><tr><td>Bronx</td><td>2014-04-11 23:54:05</td><td>40.84017562866211</td><td>-73.91751098632812</td></tr><tr><td>Manhattan</td><td>2014-04-11 23:54:49</td><td>40.86751174926758</td><td>-73.92156219482422</td></tr><tr><td>Queens</td><td>2014-04-11 23:59:20</td><td>40.74533462524414</td><td>-73.90351867675781</td></tr><tr><td>Queens</td><td>2014-04-11 23:59:42</td><td>40.74176025390625</td><td>-73.90467834472656</td></tr><tr><td>Brooklyn</td><td>2014-04-12 00:02:44</td><td>40.69724655151367</td><td>-73.99177551269531</td></tr><tr><td>Queens</td><td>2014-04-12 00:06:26</td><td>40.71359634399414</td><td>-73.83023071289062</td></tr><tr><td>Brooklyn</td><td>2014-04-12 00:07:04</td><td>40.6341552734375</td><td>-74.01482391357422</td></tr><tr><td>Manhattan</td><td>2014-04-12 00:14:21</td><td>40.830810546875</td><td>-73.94745635986328</td></tr><tr><td>Brooklyn</td><td>2014-04-12 00:19:08</td><td>40.71310043334961</td><td>-73.96206665039062</td></tr><tr><td>Queens</td><td>2014-04-12 00:22:46</td><td>40.74665069580078</td><td>-73.89138793945312</td></tr><tr><td>Brooklyn</td><td>2014-04-12 00:25:40</td><td>40.68108367919922</td><td>-73.95510864257812</td></tr><tr><td>Manhattan</td><td>2014-04-12 00:26:19</td><td>40.78507614135742</td><td>-73.94344329833984</td></tr><tr><td>Brooklyn</td><td>2014-04-12 00:27:04</td><td>40.71710205078125</td><td>-73.96087646484375</td></tr><tr><td>Bronx</td><td>2014-04-12 00:28:31</td><td>40.85301208496094</td><td>-73.90484619140625</td></tr><tr><td>Brooklyn</td><td>2014-04-12 00:29:35</td><td>40.71526336669922</td><td>-73.96051788330078</td></tr><tr><td>Manhattan</td><td>2014-04-12 00:29:52</td><td>40.796844482421875</td><td>-73.93473052978516</td></tr><tr><td>Queens</td><td>2014-04-12 00:30:37</td><td>40.75950241088867</td><td>-73.83036041259766</td></tr><tr><td>Queens</td><td>2014-04-12 00:33:45</td><td>40.754337310791016</td><td>-73.8963394165039</td></tr><tr><td>Queens</td><td>2014-04-12 00:35:44</td><td>40.72099685668945</td><td>-73.84407806396484</td></tr><tr><td>Queens</td><td>2014-04-12 00:38:26</td><td>40.746971130371094</td><td>-73.8912582397461</td></tr><tr><td>Brooklyn</td><td>2014-04-12 00:38:50</td><td>40.72096252441406</td><td>-73.95669555664062</td></tr><tr><td>Manhattan</td><td>2014-04-12 00:39:26</td><td>40.79315185546875</td><td>-73.94574737548828</td></tr><tr><td>Queens</td><td>2014-04-12 00:41:45</td><td>40.76178741455078</td><td>-73.9149398803711</td></tr><tr><td>Queens</td><td>2014-04-12 00:42:34</td><td>40.74114227294922</td><td>-73.87995910644531</td></tr><tr><td>Brooklyn</td><td>2014-04-12 00:48:32</td><td>40.72184753417969</td><td>-73.95801544189453</td></tr><tr><td>Brooklyn</td><td>2014-04-12 00:51:05</td><td>40.690818786621094</td><td>-73.9959716796875</td></tr><tr><td>Brooklyn</td><td>2014-04-12 00:52:35</td><td>40.71443176269531</td><td>-73.96501922607422</td></tr><tr><td>Brooklyn</td><td>2014-04-12 00:54:23</td><td>40.692138671875</td><td>-73.9696044921875</td></tr><tr><td>Bronx</td><td>2014-04-12 00:56:40</td><td>40.85777282714844</td><td>-73.85426330566406</td></tr><tr><td>Queens</td><td>2014-04-12 00:57:14</td><td>40.70661544799805</td><td>-73.9168701171875</td></tr><tr><td>Manhattan</td><td>2014-04-12 00:57:21</td><td>40.80400848388672</td><td>-73.93656158447266</td></tr><tr><td>Queens</td><td>2014-04-12 00:58:27</td><td>40.764896392822266</td><td>-73.91700744628906</td></tr><tr><td>Brooklyn</td><td>2014-04-12 00:59:25</td><td>40.71908950805664</td><td>-73.9609603881836</td></tr><tr><td>Brooklyn</td><td>2014-04-12 01:00:22</td><td>40.575958251953125</td><td>-73.99984741210938</td></tr><tr><td>Brooklyn</td><td>2014-04-12 01:01:23</td><td>40.7169075012207</td><td>-73.95868682861328</td></tr><tr><td>Brooklyn</td><td>2014-04-12 01:03:48</td><td>40.68013000488281</td><td>-73.94328308105469</td></tr><tr><td>Queens</td><td>2014-04-12 01:04:35</td><td>40.76681137084961</td><td>-73.9212875366211</td></tr><tr><td>Brooklyn</td><td>2014-04-12 01:10:46</td><td>40.72373962402344</td><td>-73.95082092285156</td></tr><tr><td>Brooklyn</td><td>2014-04-12 01:10:46</td><td>40.71714782714844</td><td>-73.9606704711914</td></tr><tr><td>Brooklyn</td><td>2014-04-12 01:10:58</td><td>40.71468734741211</td><td>-73.95170593261719</td></tr><tr><td>Brooklyn</td><td>2014-04-12 01:12:52</td><td>40.71187210083008</td><td>-73.94058990478516</td></tr><tr><td>Queens</td><td>2014-04-12 01:13:46</td><td>40.749359130859375</td><td>-73.8690185546875</td></tr><tr><td>Bronx</td><td>2014-04-12 01:15:36</td><td>40.81873321533203</td><td>-73.84788513183594</td></tr><tr><td>Queens</td><td>2014-04-12 01:19:22</td><td>40.71623229980469</td><td>-73.83325958251953</td></tr><tr><td>Brooklyn</td><td>2014-04-12 01:25:04</td><td>40.68406677246094</td><td>-73.99225616455078</td></tr><tr><td>Brooklyn</td><td>2014-04-12 01:29:11</td><td>40.68450164794922</td><td>-73.97821044921875</td></tr><tr><td>Queens</td><td>2014-04-12 01:30:59</td><td>40.755821228027344</td><td>-73.93033599853516</td></tr><tr><td>Queens</td><td>2014-04-12 01:31:01</td><td>40.74900436401367</td><td>-73.86959075927734</td></tr><tr><td>Queens</td><td>2014-04-12 01:31:58</td><td>40.74974060058594</td><td>-73.88419342041016</td></tr><tr><td>Brooklyn</td><td>2014-04-12 01:32:02</td><td>40.701873779296875</td><td>-73.9896240234375</td></tr><tr><td>Queens</td><td>2014-04-12 01:36:28</td><td>40.74830627441406</td><td>-73.8773193359375</td></tr><tr><td>Queens</td><td>2014-04-12 01:37:53</td><td>40.75714874267578</td><td>-73.86097717285156</td></tr><tr><td>Queens</td><td>2014-04-12 01:38:56</td><td>40.74695587158203</td><td>-73.89093017578125</td></tr><tr><td>Brooklyn</td><td>2014-04-12 01:46:08</td><td>40.690860748291016</td><td>-73.9893569946289</td></tr><tr><td>Brooklyn</td><td>2014-04-12 01:46:58</td><td>40.693241119384766</td><td>-73.97168731689453</td></tr><tr><td>Manhattan</td><td>2014-04-12 01:49:52</td><td>40.80461883544922</td><td>-73.95526885986328</td></tr><tr><td>Brooklyn</td><td>2014-04-12 01:51:59</td><td>40.721961975097656</td><td>-73.95777130126953</td></tr><tr><td>Brooklyn</td><td>2014-04-12 01:54:20</td><td>40.70665740966797</td><td>-73.92302703857422</td></tr><tr><td>Brooklyn</td><td>2014-04-12 01:54:28</td><td>40.70761489868164</td><td>-73.92921447753906</td></tr><tr><td>Manhattan</td><td>2014-04-12 01:54:47</td><td>40.80510711669922</td><td>-73.93893432617188</td></tr><tr><td>Brooklyn</td><td>2014-04-12 01:56:55</td><td>40.687400817871094</td><td>-73.9732894897461</td></tr><tr><td>Bronx</td><td>2014-04-12 01:57:53</td><td>40.82701873779297</td><td>-73.82245635986328</td></tr><tr><td>Brooklyn</td><td>2014-04-12 01:58:43</td><td>40.680816650390625</td><td>-73.96236419677734</td></tr><tr><td>Brooklyn</td><td>2014-04-12 02:02:33</td><td>40.58737564086914</td><td>-73.9540786743164</td></tr><tr><td>Queens</td><td>2014-04-12 02:04:20</td><td>40.748958587646484</td><td>-73.87155151367188</td></tr><tr><td>Brooklyn</td><td>2014-04-12 02:05:13</td><td>40.72246170043945</td><td>-73.95490264892578</td></tr><tr><td>Brooklyn</td><td>2014-04-12 02:06:31</td><td>40.676292419433594</td><td>-73.98065948486328</td></tr><tr><td>Brooklyn</td><td>2014-04-12 02:06:37</td><td>40.664188385009766</td><td>-73.99047088623047</td></tr><tr><td>Queens</td><td>2014-04-12 02:09:41</td><td>40.755916595458984</td><td>-73.88272094726562</td></tr><tr><td>Manhattan</td><td>2014-04-12 02:11:58</td><td>40.80175018310547</td><td>-73.93717956542969</td></tr><tr><td>Queens</td><td>2014-04-12 02:22:57</td><td>40.74219512939453</td><td>-73.91900634765625</td></tr><tr><td>Brooklyn</td><td>2014-04-12 02:28:03</td><td>40.71318054199219</td><td>-73.96211242675781</td></tr><tr><td>Queens</td><td>2014-04-12 02:29:39</td><td>40.76184844970703</td><td>-73.9256362915039</td></tr><tr><td>Manhattan</td><td>2014-04-12 02:35:43</td><td>40.86576461791992</td><td>-73.92664337158203</td></tr><tr><td>Queens</td><td>2014-04-12 02:37:50</td><td>40.76222229003906</td><td>-73.92575073242188</td></tr><tr><td>Queens</td><td>2014-04-12 02:39:48</td><td>40.761985778808594</td><td>-73.92538452148438</td></tr><tr><td>Brooklyn</td><td>2014-04-12 02:50:53</td><td>40.7109260559082</td><td>-73.96348571777344</td></tr><tr><td>Brooklyn</td><td>2014-04-12 02:54:34</td><td>40.72986602783203</td><td>-73.9574966430664</td></tr><tr><td>Brooklyn</td><td>2014-04-12 02:55:39</td><td>40.68534851074219</td><td>-73.9809341430664</td></tr><tr><td>Manhattan</td><td>2014-04-12 02:58:58</td><td>40.84722137451172</td><td>-73.93521118164062</td></tr><tr><td>Brooklyn</td><td>2014-04-12 03:00:12</td><td>40.71452331542969</td><td>-73.9460220336914</td></tr><tr><td>Queens</td><td>2014-04-12 03:02:23</td><td>40.72027587890625</td><td>-73.84490203857422</td></tr><tr><td>Manhattan</td><td>2014-04-12 03:04:43</td><td>40.821712493896484</td><td>-73.95756530761719</td></tr><tr><td>Brooklyn</td><td>2014-04-12 03:05:01</td><td>40.70746994018555</td><td>-73.94231414794922</td></tr><tr><td>Queens</td><td>2014-04-12 03:07:13</td><td>40.77035140991211</td><td>-73.91798400878906</td></tr><tr><td>Brooklyn</td><td>2014-04-12 03:08:20</td><td>40.722007751464844</td><td>-73.95785522460938</td></tr><tr><td>Queens</td><td>2014-04-12 03:08:21</td><td>40.725528717041016</td><td>-73.85114288330078</td></tr><tr><td>Queens</td><td>2014-04-12 03:09:32</td><td>40.746849060058594</td><td>-73.89227294921875</td></tr><tr><td>Manhattan</td><td>2014-04-12 03:10:48</td><td>40.807701110839844</td><td>-73.96399688720703</td></tr><tr><td>Queens</td><td>2014-04-12 03:17:24</td><td>40.755401611328125</td><td>-73.92529296875</td></tr><tr><td>Brooklyn</td><td>2014-04-12 03:24:52</td><td>40.710235595703125</td><td>-73.96355438232422</td></tr><tr><td>Queens</td><td>2014-04-12 03:31:50</td><td>40.7618408203125</td><td>-73.9254150390625</td></tr><tr><td>Queens</td><td>2014-04-12 03:35:08</td><td>40.77577209472656</td><td>-73.90239715576172</td></tr><tr><td>Queens</td><td>2014-04-12 03:36:17</td><td>40.76563262939453</td><td>-73.91348266601562</td></tr><tr><td>Queens</td><td>2014-04-12 03:42:59</td><td>40.75722885131836</td><td>-73.92031860351562</td></tr><tr><td>Queens</td><td>2014-04-12 03:45:51</td><td>40.737525939941406</td><td>-73.88248443603516</td></tr><tr><td>Manhattan</td><td>2014-04-12 03:45:52</td><td>40.829044342041016</td><td>-73.94842529296875</td></tr><tr><td>Brooklyn</td><td>2014-04-12 03:54:07</td><td>40.71403503417969</td><td>-73.95503234863281</td></tr><tr><td>Queens</td><td>2014-04-12 03:54:47</td><td>40.775543212890625</td><td>-73.90971374511719</td></tr><tr><td>Brooklyn</td><td>2014-04-12 03:57:12</td><td>40.69430923461914</td><td>-73.98956298828125</td></tr><tr><td>Brooklyn</td><td>2014-04-12 03:58:46</td><td>40.690460205078125</td><td>-73.98780822753906</td></tr><tr><td>Manhattan</td><td>2014-04-12 04:02:39</td><td>40.84722137451172</td><td>-73.93521118164062</td></tr><tr><td>Brooklyn</td><td>2014-04-12 04:03:34</td><td>40.67870330810547</td><td>-73.95885467529297</td></tr><tr><td>Brooklyn</td><td>2014-04-12 04:08:47</td><td>40.71936798095703</td><td>-73.95614624023438</td></tr><tr><td>Queens</td><td>2014-04-12 04:11:31</td><td>40.700111389160156</td><td>-73.80735778808594</td></tr><tr><td>Bronx</td><td>2014-04-12 04:12:17</td><td>40.812225341796875</td><td>-73.90837860107422</td></tr><tr><td>Queens</td><td>2014-04-12 04:13:54</td><td>40.70064163208008</td><td>-73.81591796875</td></tr><tr><td>Brooklyn</td><td>2014-04-12 04:14:06</td><td>40.72216033935547</td><td>-73.95764923095703</td></tr><tr><td>Brooklyn</td><td>2014-04-12 04:14:20</td><td>40.70651626586914</td><td>-73.9227523803711</td></tr><tr><td>Brooklyn</td><td>2014-04-12 04:16:49</td><td>40.71950149536133</td><td>-73.95579528808594</td></tr><tr><td>Brooklyn</td><td>2014-04-12 04:25:47</td><td>40.71681594848633</td><td>-73.96109771728516</td></tr><tr><td>Queens</td><td>2014-04-12 04:26:13</td><td>40.761539459228516</td><td>-73.92427062988281</td></tr><tr><td>Brooklyn</td><td>2014-04-12 04:33:08</td><td>40.674808502197266</td><td>-73.98143005371094</td></tr><tr><td>Manhattan</td><td>2014-04-12 04:34:41</td><td>40.80594253540039</td><td>-73.95413970947266</td></tr><tr><td>Queens</td><td>2014-04-12 04:39:07</td><td>40.76106643676758</td><td>-73.92363739013672</td></tr><tr><td>Bronx</td><td>2014-04-12 04:41:15</td><td>40.82340621948242</td><td>-73.9090576171875</td></tr><tr><td>Queens</td><td>2014-04-12 04:49:59</td><td>40.7497673034668</td><td>-73.89873504638672</td></tr><tr><td>Brooklyn</td><td>2014-04-12 05:08:41</td><td>40.692325592041016</td><td>-73.98725128173828</td></tr><tr><td>Queens</td><td>2014-04-12 05:13:54</td><td>40.75667190551758</td><td>-73.91436767578125</td></tr><tr><td>Queens</td><td>2014-04-12 05:24:47</td><td>40.75958251953125</td><td>-73.83039093017578</td></tr><tr><td>Queens</td><td>2014-04-12 05:27:18</td><td>40.747413635253906</td><td>-73.88651275634766</td></tr><tr><td>Bronx</td><td>2014-04-12 05:44:34</td><td>40.87971496582031</td><td>-73.91778564453125</td></tr><tr><td>Bronx</td><td>2014-04-12 05:49:05</td><td>40.84516525268555</td><td>-73.91083526611328</td></tr><tr><td>Bronx</td><td>2014-04-12 05:49:40</td><td>40.8564338684082</td><td>-73.86763763427734</td></tr><tr><td>Bronx</td><td>2014-04-12 06:09:47</td><td>40.81787872314453</td><td>-73.9250717163086</td></tr><tr><td>Manhattan</td><td>2014-04-12 06:10:24</td><td>40.7904167175293</td><td>-73.95183563232422</td></tr><tr><td>Queens</td><td>2014-04-12 06:10:24</td><td>40.75662612915039</td><td>-73.92646026611328</td></tr><tr><td>Queens</td><td>2014-04-12 06:22:00</td><td>40.73930740356445</td><td>-73.88938903808594</td></tr><tr><td>Brooklyn</td><td>2014-04-12 06:25:44</td><td>40.587547302246094</td><td>-73.95435333251953</td></tr><tr><td>Queens</td><td>2014-04-12 06:49:46</td><td>40.759700775146484</td><td>-73.82988739013672</td></tr><tr><td>Manhattan</td><td>2014-04-12 06:56:10</td><td>40.80743408203125</td><td>-73.9458236694336</td></tr><tr><td>Brooklyn</td><td>2014-04-12 06:58:09</td><td>40.691688537597656</td><td>-73.91393280029297</td></tr><tr><td>Brooklyn</td><td>2014-04-12 07:02:28</td><td>40.66988754272461</td><td>-73.95861053466797</td></tr><tr><td>Queens</td><td>2014-04-12 07:09:21</td><td>40.7255859375</td><td>-73.85066223144531</td></tr><tr><td>Manhattan</td><td>2014-04-12 07:19:15</td><td>40.820526123046875</td><td>-73.93655395507812</td></tr><tr><td>Manhattan</td><td>2014-04-12 07:40:50</td><td>40.809818267822266</td><td>-73.9439926147461</td></tr><tr><td>Queens</td><td>2014-04-12 07:42:02</td><td>40.72140121459961</td><td>-73.84427642822266</td></tr><tr><td>Brooklyn</td><td>2014-04-12 07:47:40</td><td>40.70237350463867</td><td>-73.98979187011719</td></tr><tr><td>Queens</td><td>2014-04-12 07:48:55</td><td>40.73002243041992</td><td>-73.82366180419922</td></tr><tr><td>Bronx</td><td>2014-04-12 07:51:44</td><td>40.833961486816406</td><td>-73.91561889648438</td></tr><tr><td>Queens</td><td>2014-04-12 08:11:17</td><td>40.75434875488281</td><td>-73.94210815429688</td></tr><tr><td>Bronx</td><td>2014-04-12 08:11:35</td><td>40.850914001464844</td><td>-73.9148941040039</td></tr><tr><td>Queens</td><td>2014-04-12 08:18:24</td><td>40.73551940917969</td><td>-73.92257690429688</td></tr><tr><td>Bronx</td><td>2014-04-12 08:22:37</td><td>40.82450485229492</td><td>-73.91015625</td></tr><tr><td>Brooklyn</td><td>2014-04-12 08:23:41</td><td>40.685489654541016</td><td>-73.98088073730469</td></tr><tr><td>Manhattan</td><td>2014-04-12 08:28:56</td><td>40.79646682739258</td><td>-73.93206024169922</td></tr><tr><td>Queens</td><td>2014-04-12 08:30:13</td><td>40.74812316894531</td><td>-73.88123321533203</td></tr><tr><td>Manhattan</td><td>2014-04-12 08:34:50</td><td>40.798492431640625</td><td>-73.9417953491211</td></tr><tr><td>Queens</td><td>2014-04-12 08:35:22</td><td>40.74474334716797</td><td>-73.95674133300781</td></tr><tr><td>Queens</td><td>2014-04-12 08:38:55</td><td>40.71767044067383</td><td>-73.80368041992188</td></tr><tr><td>Queens</td><td>2014-04-12 08:43:37</td><td>40.76587677001953</td><td>-73.91905212402344</td></tr><tr><td>Queens</td><td>2014-04-12 08:43:50</td><td>40.744834899902344</td><td>-73.94952392578125</td></tr><tr><td>Manhattan</td><td>2014-04-12 08:45:48</td><td>40.805885314941406</td><td>-73.94082641601562</td></tr><tr><td>Manhattan</td><td>2014-04-12 08:52:05</td><td>40.841773986816406</td><td>-73.9415512084961</td></tr><tr><td>Manhattan</td><td>2014-04-12 09:03:16</td><td>40.83112716674805</td><td>-73.9358901977539</td></tr><tr><td>Brooklyn</td><td>2014-04-12 09:09:16</td><td>40.7144660949707</td><td>-73.95758819580078</td></tr><tr><td>Manhattan</td><td>2014-04-12 09:10:03</td><td>40.85747146606445</td><td>-73.93534088134766</td></tr><tr><td>Manhattan</td><td>2014-04-12 09:46:14</td><td>40.84067153930664</td><td>-73.93702697753906</td></tr><tr><td>Queens</td><td>2014-04-12 09:49:28</td><td>40.759521484375</td><td>-73.83063507080078</td></tr><tr><td>Bronx</td><td>2014-04-12 09:49:37</td><td>40.82626724243164</td><td>-73.9205093383789</td></tr><tr><td>Brooklyn</td><td>2014-04-12 09:53:09</td><td>40.70234680175781</td><td>-73.98974609375</td></tr><tr><td>Brooklyn</td><td>2014-04-12 09:54:01</td><td>40.69369125366211</td><td>-73.96391296386719</td></tr><tr><td>Manhattan</td><td>2014-04-12 09:55:33</td><td>40.788917541503906</td><td>-73.9486312866211</td></tr><tr><td>Queens</td><td>2014-04-12 09:57:19</td><td>40.74878692626953</td><td>-73.93739318847656</td></tr><tr><td>Manhattan</td><td>2014-04-12 10:03:18</td><td>40.823238372802734</td><td>-73.94306182861328</td></tr><tr><td>Queens</td><td>2014-04-12 10:05:29</td><td>40.74159240722656</td><td>-73.88057708740234</td></tr><tr><td>Queens</td><td>2014-04-12 10:06:34</td><td>40.74994659423828</td><td>-73.8624496459961</td></tr><tr><td>Queens</td><td>2014-04-12 10:19:32</td><td>40.757625579833984</td><td>-73.86099243164062</td></tr><tr><td>Queens</td><td>2014-04-12 10:19:47</td><td>40.754608154296875</td><td>-73.89430236816406</td></tr><tr><td>Queens</td><td>2014-04-12 10:20:57</td><td>40.766780853271484</td><td>-73.92143249511719</td></tr><tr><td>Brooklyn</td><td>2014-04-12 10:25:34</td><td>40.70247268676758</td><td>-73.98677062988281</td></tr><tr><td>Queens</td><td>2014-04-12 10:27:18</td><td>40.75885772705078</td><td>-73.9190444946289</td></tr><tr><td>Brooklyn</td><td>2014-04-12 10:29:27</td><td>40.67196273803711</td><td>-74.01043701171875</td></tr><tr><td>Manhattan</td><td>2014-04-12 10:32:21</td><td>40.824527740478516</td><td>-73.94580078125</td></tr><tr><td>Queens</td><td>2014-04-12 10:34:08</td><td>40.74545669555664</td><td>-73.90337371826172</td></tr><tr><td>Manhattan</td><td>2014-04-12 10:35:41</td><td>40.805023193359375</td><td>-73.93892669677734</td></tr><tr><td>Manhattan</td><td>2014-04-12 10:36:18</td><td>40.81507873535156</td><td>-73.95885467529297</td></tr><tr><td>Manhattan</td><td>2014-04-12 10:38:27</td><td>40.805320739746094</td><td>-73.93875885009766</td></tr><tr><td>Manhattan</td><td>2014-04-12 10:40:20</td><td>40.80110168457031</td><td>-73.9399185180664</td></tr><tr><td>Manhattan</td><td>2014-04-12 10:40:21</td><td>40.78999328613281</td><td>-73.95441436767578</td></tr><tr><td>Bronx</td><td>2014-04-12 10:40:47</td><td>40.82307815551758</td><td>-73.92849731445312</td></tr><tr><td>Manhattan</td><td>2014-04-12 10:43:59</td><td>40.79812240600586</td><td>-73.93988800048828</td></tr><tr><td>Manhattan</td><td>2014-04-12 10:45:04</td><td>40.78535079956055</td><td>-73.94947814941406</td></tr><tr><td>Queens</td><td>2014-04-12 10:51:00</td><td>40.74407958984375</td><td>-73.95372772216797</td></tr><tr><td>Manhattan</td><td>2014-04-12 10:53:12</td><td>40.80771255493164</td><td>-73.94523620605469</td></tr><tr><td>Brooklyn</td><td>2014-04-12 10:54:17</td><td>40.692726135253906</td><td>-73.9909439086914</td></tr><tr><td>Queens</td><td>2014-04-12 10:56:14</td><td>40.755836486816406</td><td>-73.92366027832031</td></tr><tr><td>Queens</td><td>2014-04-12 11:00:55</td><td>40.74656677246094</td><td>-73.89098358154297</td></tr><tr><td>Manhattan</td><td>2014-04-12 11:04:06</td><td>40.80033874511719</td><td>-73.94677734375</td></tr><tr><td>Brooklyn</td><td>2014-04-12 11:06:53</td><td>40.70357894897461</td><td>-73.98037719726562</td></tr><tr><td>Manhattan</td><td>2014-04-12 11:07:13</td><td>40.786346435546875</td><td>-73.94843292236328</td></tr><tr><td>Manhattan</td><td>2014-04-12 11:07:27</td><td>40.78609848022461</td><td>-73.9511947631836</td></tr><tr><td>Bronx</td><td>2014-04-12 11:11:47</td><td>40.83147048950195</td><td>-73.90552520751953</td></tr><tr><td>Manhattan</td><td>2014-04-12 11:12:05</td><td>40.807735443115234</td><td>-73.95948028564453</td></tr><tr><td>Brooklyn</td><td>2014-04-12 11:17:25</td><td>40.71257400512695</td><td>-73.96243286132812</td></tr><tr><td>Queens</td><td>2014-04-12 11:18:09</td><td>40.77226638793945</td><td>-73.91561126708984</td></tr><tr><td>Manhattan</td><td>2014-04-12 11:18:12</td><td>40.81895065307617</td><td>-73.95246887207031</td></tr><tr><td>Brooklyn</td><td>2014-04-12 11:23:10</td><td>40.71662139892578</td><td>-73.95906829833984</td></tr><tr><td>Bronx</td><td>2014-04-12 11:29:33</td><td>40.81755065917969</td><td>-73.92312622070312</td></tr><tr><td>Manhattan</td><td>2014-04-12 11:30:05</td><td>40.808860778808594</td><td>-73.94811248779297</td></tr><tr><td>Queens</td><td>2014-04-12 11:30:18</td><td>40.74846649169922</td><td>-73.9386215209961</td></tr><tr><td>Manhattan</td><td>2014-04-12 11:31:17</td><td>40.80434799194336</td><td>-73.96697235107422</td></tr><tr><td>Bronx</td><td>2014-04-12 11:43:48</td><td>40.85272979736328</td><td>-73.82726287841797</td></tr><tr><td>Bronx</td><td>2014-04-12 11:45:43</td><td>40.82249069213867</td><td>-73.91964721679688</td></tr><tr><td>Bronx</td><td>2014-04-12 11:56:53</td><td>40.815673828125</td><td>-73.92369079589844</td></tr><tr><td>Queens</td><td>2014-04-12 12:00:42</td><td>40.74616622924805</td><td>-73.89717102050781</td></tr><tr><td>Brooklyn</td><td>2014-04-12 12:08:44</td><td>40.688018798828125</td><td>-73.99319458007812</td></tr><tr><td>Queens</td><td>2014-04-12 12:13:54</td><td>40.761043548583984</td><td>-73.91748046875</td></tr><tr><td>Manhattan</td><td>2014-04-12 12:17:38</td><td>40.79258346557617</td><td>-73.95026397705078</td></tr><tr><td>Manhattan</td><td>2014-04-12 12:17:52</td><td>40.82030487060547</td><td>-73.94373321533203</td></tr><tr><td>Manhattan</td><td>2014-04-12 12:20:21</td><td>40.809226989746094</td><td>-73.95197296142578</td></tr><tr><td>Bronx</td><td>2014-04-12 12:22:33</td><td>40.8155517578125</td><td>-73.92601013183594</td></tr><tr><td>Manhattan</td><td>2014-04-12 12:22:38</td><td>40.78718948364258</td><td>-73.95182800292969</td></tr><tr><td>Queens</td><td>2014-04-12 12:26:18</td><td>40.76617431640625</td><td>-73.91996002197266</td></tr><tr><td>Brooklyn</td><td>2014-04-12 12:35:33</td><td>40.684661865234375</td><td>-73.97815704345703</td></tr><tr><td>Manhattan</td><td>2014-04-12 12:37:52</td><td>40.85767364501953</td><td>-73.93199157714844</td></tr><tr><td>Queens</td><td>2014-04-12 12:38:01</td><td>40.74214553833008</td><td>-73.95587158203125</td></tr><tr><td>Bronx</td><td>2014-04-12 12:40:07</td><td>40.862281799316406</td><td>-73.89610290527344</td></tr><tr><td>Manhattan</td><td>2014-04-12 12:44:36</td><td>40.80032730102539</td><td>-73.95806121826172</td></tr><tr><td>Manhattan</td><td>2014-04-12 12:46:42</td><td>40.79079818725586</td><td>-73.95365142822266</td></tr><tr><td>Manhattan</td><td>2014-04-12 12:48:10</td><td>40.843833923339844</td><td>-73.93901824951172</td></tr><tr><td>Manhattan</td><td>2014-04-12 12:48:26</td><td>40.79351043701172</td><td>-73.93711853027344</td></tr><tr><td>Manhattan</td><td>2014-04-12 12:51:03</td><td>40.787353515625</td><td>-73.95410919189453</td></tr><tr><td>Manhattan</td><td>2014-04-12 12:55:12</td><td>40.809654235839844</td><td>-73.95928955078125</td></tr><tr><td>Manhattan</td><td>2014-04-12 13:00:10</td><td>40.8486328125</td><td>-73.93748474121094</td></tr><tr><td>Manhattan</td><td>2014-04-12 13:00:10</td><td>40.804534912109375</td><td>-73.93975067138672</td></tr><tr><td>Manhattan</td><td>2014-04-12 13:02:32</td><td>40.839324951171875</td><td>-73.94123077392578</td></tr><tr><td>Brooklyn</td><td>2014-04-12 13:03:16</td><td>40.67294692993164</td><td>-73.98639678955078</td></tr><tr><td>Queens</td><td>2014-04-12 13:05:29</td><td>40.76734161376953</td><td>-73.88229370117188</td></tr><tr><td>Brooklyn</td><td>2014-04-12 13:11:48</td><td>40.6979866027832</td><td>-73.99268341064453</td></tr><tr><td>Bronx</td><td>2014-04-12 13:13:14</td><td>40.83481216430664</td><td>-73.8671875</td></tr><tr><td>Queens</td><td>2014-04-12 13:25:32</td><td>40.72982406616211</td><td>-73.86217498779297</td></tr><tr><td>Queens</td><td>2014-04-12 13:27:15</td><td>40.74440383911133</td><td>-73.94916534423828</td></tr><tr><td>Brooklyn</td><td>2014-04-12 13:29:58</td><td>40.68974304199219</td><td>-73.99217987060547</td></tr><tr><td>Queens</td><td>2014-04-12 13:31:09</td><td>40.755035400390625</td><td>-73.92219543457031</td></tr><tr><td>Queens</td><td>2014-04-12 13:33:18</td><td>40.746952056884766</td><td>-73.8906478881836</td></tr><tr><td>Manhattan</td><td>2014-04-12 13:36:13</td><td>40.80559539794922</td><td>-73.9400634765625</td></tr><tr><td>Manhattan</td><td>2014-04-12 13:36:49</td><td>40.82020950317383</td><td>-73.93572235107422</td></tr><tr><td>Bronx</td><td>2014-04-12 13:41:32</td><td>40.82292175292969</td><td>-73.86870574951172</td></tr><tr><td>Manhattan</td><td>2014-04-12 13:42:01</td><td>40.80795669555664</td><td>-73.9451904296875</td></tr><tr><td>Brooklyn</td><td>2014-04-12 13:45:22</td><td>40.6960334777832</td><td>-73.99116516113281</td></tr><tr><td>Queens</td><td>2014-04-12 13:50:12</td><td>40.775997161865234</td><td>-73.91056060791016</td></tr><tr><td>Brooklyn</td><td>2014-04-12 13:52:14</td><td>40.71588134765625</td><td>-73.95974731445312</td></tr><tr><td>Manhattan</td><td>2014-04-12 13:54:50</td><td>40.79051208496094</td><td>-73.95149230957031</td></tr><tr><td>Manhattan</td><td>2014-04-12 13:55:12</td><td>40.8106689453125</td><td>-73.95838928222656</td></tr><tr><td>Brooklyn</td><td>2014-04-12 13:57:30</td><td>40.67863845825195</td><td>-73.96839141845703</td></tr><tr><td>Brooklyn</td><td>2014-04-12 14:01:26</td><td>40.716129302978516</td><td>-73.95942687988281</td></tr><tr><td>Queens</td><td>2014-04-12 14:04:02</td><td>40.735252380371094</td><td>-73.86532592773438</td></tr><tr><td>Brooklyn</td><td>2014-04-12 14:06:20</td><td>40.68974304199219</td><td>-73.98119354248047</td></tr><tr><td>Manhattan</td><td>2014-04-12 14:12:31</td><td>40.84101867675781</td><td>-73.93997192382812</td></tr><tr><td>Brooklyn</td><td>2014-04-12 14:13:22</td><td>40.70016098022461</td><td>-73.99478912353516</td></tr><tr><td>Manhattan</td><td>2014-04-12 14:14:08</td><td>40.8661003112793</td><td>-73.92236328125</td></tr><tr><td>Manhattan</td><td>2014-04-12 14:14:25</td><td>40.80103302001953</td><td>-73.95784759521484</td></tr><tr><td>Manhattan</td><td>2014-04-12 14:15:10</td><td>40.80398178100586</td><td>-73.95568084716797</td></tr><tr><td>Queens</td><td>2014-04-12 14:15:37</td><td>40.7209587097168</td><td>-73.84406280517578</td></tr><tr><td>Queens</td><td>2014-04-12 14:22:31</td><td>40.721031188964844</td><td>-73.84417724609375</td></tr><tr><td>Manhattan</td><td>2014-04-12 14:26:04</td><td>40.80341339111328</td><td>-73.96491241455078</td></tr><tr><td>Manhattan</td><td>2014-04-12 14:29:12</td><td>40.79546356201172</td><td>-73.93207550048828</td></tr><tr><td>Brooklyn</td><td>2014-04-12 14:29:22</td><td>40.689491271972656</td><td>-73.95140075683594</td></tr><tr><td>Manhattan</td><td>2014-04-12 14:32:07</td><td>40.805503845214844</td><td>-73.9390640258789</td></tr><tr><td>Manhattan</td><td>2014-04-12 14:36:41</td><td>40.808773040771484</td><td>-73.9485092163086</td></tr><tr><td>Manhattan</td><td>2014-04-12 14:38:45</td><td>40.80784225463867</td><td>-73.96427154541016</td></tr><tr><td>Brooklyn</td><td>2014-04-12 14:42:00</td><td>40.69209289550781</td><td>-73.98751068115234</td></tr><tr><td>Bronx</td><td>2014-04-12 14:42:39</td><td>40.840816497802734</td><td>-73.9283676147461</td></tr><tr><td>Manhattan</td><td>2014-04-12 14:45:19</td><td>40.814212799072266</td><td>-73.9411849975586</td></tr><tr><td>Queens</td><td>2014-04-12 14:47:34</td><td>40.766754150390625</td><td>-73.92127227783203</td></tr><tr><td>Manhattan</td><td>2014-04-12 14:47:41</td><td>40.81345748901367</td><td>-73.94127655029297</td></tr><tr><td>Manhattan</td><td>2014-04-12 14:48:14</td><td>40.8060417175293</td><td>-73.93609619140625</td></tr><tr><td>Queens</td><td>2014-04-12 14:50:58</td><td>40.75691604614258</td><td>-73.9295654296875</td></tr><tr><td>Manhattan</td><td>2014-04-12 14:51:54</td><td>40.83760452270508</td><td>-73.94265747070312</td></tr><tr><td>Bronx</td><td>2014-04-12 14:55:44</td><td>40.87421798706055</td><td>-73.88682556152344</td></tr><tr><td>Manhattan</td><td>2014-04-12 14:57:41</td><td>40.80799865722656</td><td>-73.94589233398438</td></tr><tr><td>Manhattan</td><td>2014-04-12 14:59:37</td><td>40.80729293823242</td><td>-73.95333099365234</td></tr><tr><td>Bronx</td><td>2014-04-12 15:00:58</td><td>40.83550262451172</td><td>-73.86128234863281</td></tr><tr><td>Brooklyn</td><td>2014-04-12 15:06:31</td><td>40.673885345458984</td><td>-73.97586059570312</td></tr><tr><td>Manhattan</td><td>2014-04-12 15:08:24</td><td>40.810302734375</td><td>-73.95242309570312</td></tr><tr><td>Queens</td><td>2014-04-12 15:09:19</td><td>40.72140884399414</td><td>-73.84420013427734</td></tr><tr><td>Manhattan</td><td>2014-04-12 15:15:02</td><td>40.80820083618164</td><td>-73.96343994140625</td></tr><tr><td>Brooklyn</td><td>2014-04-12 15:17:15</td><td>40.69961929321289</td><td>-73.92146301269531</td></tr><tr><td>Manhattan</td><td>2014-04-12 15:22:14</td><td>40.84860610961914</td><td>-73.93724822998047</td></tr><tr><td>Queens</td><td>2014-04-12 15:30:04</td><td>40.75214385986328</td><td>-73.92679595947266</td></tr><tr><td>Manhattan</td><td>2014-04-12 15:30:36</td><td>40.78679275512695</td><td>-73.95280456542969</td></tr><tr><td>Manhattan</td><td>2014-04-12 15:41:58</td><td>40.86351013183594</td><td>-73.92610168457031</td></tr><tr><td>Bronx</td><td>2014-04-12 15:43:10</td><td>40.8291130065918</td><td>-73.87572479248047</td></tr><tr><td>Queens</td><td>2014-04-12 15:49:58</td><td>40.77286911010742</td><td>-73.92171478271484</td></tr><tr><td>Brooklyn</td><td>2014-04-12 15:52:24</td><td>40.71393966674805</td><td>-73.96161651611328</td></tr><tr><td>Manhattan</td><td>2014-04-12 15:52:54</td><td>40.80892562866211</td><td>-73.95240783691406</td></tr><tr><td>Brooklyn</td><td>2014-04-12 15:53:16</td><td>40.684654235839844</td><td>-73.97880554199219</td></tr><tr><td>Queens</td><td>2014-04-12 15:59:27</td><td>40.75922775268555</td><td>-73.91873931884766</td></tr><tr><td>Brooklyn</td><td>2014-04-12 16:01:23</td><td>40.70298767089844</td><td>-73.99444580078125</td></tr><tr><td>Queens</td><td>2014-04-12 16:02:07</td><td>40.74839782714844</td><td>-73.93858337402344</td></tr><tr><td>Queens</td><td>2014-04-12 16:03:31</td><td>40.73515701293945</td><td>-73.87421417236328</td></tr><tr><td>Manhattan</td><td>2014-04-12 16:03:41</td><td>40.847015380859375</td><td>-73.93826293945312</td></tr><tr><td>Brooklyn</td><td>2014-04-12 16:04:41</td><td>40.67280578613281</td><td>-74.00860595703125</td></tr><tr><td>Brooklyn</td><td>2014-04-12 16:05:52</td><td>40.684818267822266</td><td>-73.99467468261719</td></tr><tr><td>Brooklyn</td><td>2014-04-12 16:09:41</td><td>40.7238655090332</td><td>-73.95043182373047</td></tr><tr><td>Manhattan</td><td>2014-04-12 16:12:12</td><td>40.795265197753906</td><td>-73.93321228027344</td></tr><tr><td>Manhattan</td><td>2014-04-12 16:14:13</td><td>40.840118408203125</td><td>-73.9406967163086</td></tr><tr><td>Queens</td><td>2014-04-12 16:14:54</td><td>40.755775451660156</td><td>-73.92807006835938</td></tr><tr><td>Queens</td><td>2014-04-12 16:18:53</td><td>40.72145080566406</td><td>-73.84423065185547</td></tr><tr><td>Manhattan</td><td>2014-04-12 16:20:35</td><td>40.80465316772461</td><td>-73.93739318847656</td></tr><tr><td>Queens</td><td>2014-04-12 16:23:30</td><td>40.73395538330078</td><td>-73.87091827392578</td></tr><tr><td>Bronx</td><td>2014-04-12 16:27:36</td><td>40.84160232543945</td><td>-73.87203216552734</td></tr><tr><td>Brooklyn</td><td>2014-04-12 16:30:17</td><td>40.68988800048828</td><td>-73.97836303710938</td></tr><tr><td>Brooklyn</td><td>2014-04-12 16:30:59</td><td>40.70279312133789</td><td>-73.99006652832031</td></tr><tr><td>Queens</td><td>2014-04-12 16:35:29</td><td>40.74831008911133</td><td>-73.94731903076172</td></tr><tr><td>Manhattan</td><td>2014-04-12 16:36:23</td><td>40.80242156982422</td><td>-73.9494400024414</td></tr><tr><td>Brooklyn</td><td>2014-04-12 16:37:30</td><td>40.64503479003906</td><td>-74.01415252685547</td></tr><tr><td>Brooklyn</td><td>2014-04-12 16:38:29</td><td>40.72079849243164</td><td>-73.95690155029297</td></tr><tr><td>Queens</td><td>2014-04-12 16:42:47</td><td>40.74238586425781</td><td>-73.88189697265625</td></tr><tr><td>Queens</td><td>2014-04-12 16:43:34</td><td>40.7753791809082</td><td>-73.91217803955078</td></tr><tr><td>Manhattan</td><td>2014-04-12 16:44:58</td><td>40.790367126464844</td><td>-73.94760131835938</td></tr><tr><td>Queens</td><td>2014-04-12 16:45:34</td><td>40.755489349365234</td><td>-73.8871078491211</td></tr><tr><td>Brooklyn</td><td>2014-04-12 16:46:31</td><td>40.68459701538086</td><td>-73.97767639160156</td></tr><tr><td>Queens</td><td>2014-04-12 16:46:59</td><td>40.73729705810547</td><td>-73.87752532958984</td></tr><tr><td>Queens</td><td>2014-04-12 16:47:19</td><td>40.74699020385742</td><td>-73.956298828125</td></tr><tr><td>Manhattan</td><td>2014-04-12 16:48:12</td><td>40.80477523803711</td><td>-73.96253204345703</td></tr><tr><td>Manhattan</td><td>2014-04-12 16:48:21</td><td>40.786407470703125</td><td>-73.95233917236328</td></tr><tr><td>Brooklyn</td><td>2014-04-12 16:49:03</td><td>40.68457794189453</td><td>-73.9786376953125</td></tr><tr><td>Brooklyn</td><td>2014-04-12 16:51:54</td><td>40.68889617919922</td><td>-73.98770141601562</td></tr><tr><td>Brooklyn</td><td>2014-04-12 16:53:26</td><td>40.68484115600586</td><td>-73.97803497314453</td></tr><tr><td>Bronx</td><td>2014-04-12 16:55:41</td><td>40.83550262451172</td><td>-73.86128234863281</td></tr><tr><td>Queens</td><td>2014-04-12 16:56:04</td><td>40.73279571533203</td><td>-73.8639144897461</td></tr><tr><td>Manhattan</td><td>2014-04-12 17:01:01</td><td>40.80348205566406</td><td>-73.95616149902344</td></tr><tr><td>Brooklyn</td><td>2014-04-12 17:02:46</td><td>40.71508026123047</td><td>-73.96273803710938</td></tr><tr><td>Manhattan</td><td>2014-04-12 17:05:08</td><td>40.80870056152344</td><td>-73.93755340576172</td></tr><tr><td>Manhattan</td><td>2014-04-12 17:05:53</td><td>40.8049201965332</td><td>-73.93860626220703</td></tr><tr><td>Brooklyn</td><td>2014-04-12 17:09:37</td><td>40.67376708984375</td><td>-73.98258972167969</td></tr><tr><td>Queens</td><td>2014-04-12 17:09:39</td><td>40.76871871948242</td><td>-73.9253158569336</td></tr><tr><td>Brooklyn</td><td>2014-04-12 17:17:11</td><td>40.68876647949219</td><td>-73.98902130126953</td></tr><tr><td>Brooklyn</td><td>2014-04-12 17:17:17</td><td>40.71887969970703</td><td>-73.96112823486328</td></tr><tr><td>Brooklyn</td><td>2014-04-12 17:18:07</td><td>40.69065856933594</td><td>-73.99552917480469</td></tr><tr><td>Manhattan</td><td>2014-04-12 17:19:02</td><td>40.80830001831055</td><td>-73.9639892578125</td></tr><tr><td>Queens</td><td>2014-04-12 17:21:13</td><td>40.75533676147461</td><td>-73.92207336425781</td></tr><tr><td>Queens</td><td>2014-04-12 17:23:47</td><td>40.766822814941406</td><td>-73.92125701904297</td></tr><tr><td>Queens</td><td>2014-04-12 17:25:08</td><td>40.720638275146484</td><td>-73.84441375732422</td></tr><tr><td>Manhattan</td><td>2014-04-12 17:31:11</td><td>40.790767669677734</td><td>-73.95130157470703</td></tr><tr><td>Queens</td><td>2014-04-12 17:33:33</td><td>40.74650192260742</td><td>-73.89061737060547</td></tr><tr><td>Queens</td><td>2014-04-12 17:34:46</td><td>40.7080078125</td><td>-73.81779479980469</td></tr><tr><td>Manhattan</td><td>2014-04-12 17:39:59</td><td>40.7901611328125</td><td>-73.95186614990234</td></tr><tr><td>Queens</td><td>2014-04-12 17:41:17</td><td>40.752540588378906</td><td>-73.91494750976562</td></tr><tr><td>Brooklyn</td><td>2014-04-12 17:45:47</td><td>40.713111877441406</td><td>-73.96216583251953</td></tr><tr><td>Manhattan</td><td>2014-04-12 17:45:58</td><td>40.80213928222656</td><td>-73.94998931884766</td></tr><tr><td>Queens</td><td>2014-04-12 17:46:02</td><td>40.733978271484375</td><td>-73.8709716796875</td></tr><tr><td>Brooklyn</td><td>2014-04-12 17:46:56</td><td>40.66977310180664</td><td>-73.96229553222656</td></tr><tr><td>Manhattan</td><td>2014-04-12 17:47:23</td><td>40.859073638916016</td><td>-73.93096160888672</td></tr><tr><td>Brooklyn</td><td>2014-04-12 17:53:13</td><td>40.70310974121094</td><td>-73.99430084228516</td></tr><tr><td>Queens</td><td>2014-04-12 17:53:56</td><td>40.766197204589844</td><td>-73.92623138427734</td></tr><tr><td>Bronx</td><td>2014-04-12 17:54:08</td><td>40.827632904052734</td><td>-73.9246826171875</td></tr><tr><td>Queens</td><td>2014-04-12 17:54:37</td><td>40.762760162353516</td><td>-73.92716979980469</td></tr><tr><td>Bronx</td><td>2014-04-12 17:56:30</td><td>40.8537712097168</td><td>-73.9071273803711</td></tr><tr><td>Queens</td><td>2014-04-12 17:56:51</td><td>40.74461364746094</td><td>-73.90234375</td></tr><tr><td>Bronx</td><td>2014-04-12 17:57:20</td><td>40.841087341308594</td><td>-73.85173034667969</td></tr><tr><td>Queens</td><td>2014-04-12 17:58:24</td><td>40.721275329589844</td><td>-73.84426879882812</td></tr><tr><td>Queens</td><td>2014-04-12 17:58:46</td><td>40.76080322265625</td><td>-73.93603515625</td></tr><tr><td>Bronx</td><td>2014-04-12 18:00:19</td><td>40.84865188598633</td><td>-73.88375091552734</td></tr><tr><td>Brooklyn</td><td>2014-04-12 18:01:17</td><td>40.67442321777344</td><td>-73.97545623779297</td></tr><tr><td>Brooklyn</td><td>2014-04-12 18:03:04</td><td>40.71812057495117</td><td>-73.95948028564453</td></tr><tr><td>Manhattan</td><td>2014-04-12 18:05:06</td><td>40.80552291870117</td><td>-73.93924713134766</td></tr><tr><td>Manhattan</td><td>2014-04-12 18:05:15</td><td>40.80558776855469</td><td>-73.93939208984375</td></tr><tr><td>Brooklyn</td><td>2014-04-12 18:12:24</td><td>40.68273162841797</td><td>-73.99307250976562</td></tr><tr><td>Bronx</td><td>2014-04-12 18:13:19</td><td>40.84001541137695</td><td>-73.87704467773438</td></tr><tr><td>Brooklyn</td><td>2014-04-12 18:13:27</td><td>40.72736358642578</td><td>-73.95291137695312</td></tr><tr><td>Manhattan</td><td>2014-04-12 18:14:33</td><td>40.834835052490234</td><td>-73.94438934326172</td></tr><tr><td>Manhattan</td><td>2014-04-12 18:19:31</td><td>40.810646057128906</td><td>-73.94319915771484</td></tr><tr><td>Manhattan</td><td>2014-04-12 18:26:13</td><td>40.79922103881836</td><td>-73.95488739013672</td></tr><tr><td>Queens</td><td>2014-04-12 18:28:31</td><td>40.76871871948242</td><td>-73.92515563964844</td></tr><tr><td>Brooklyn</td><td>2014-04-12 18:28:46</td><td>40.72537612915039</td><td>-73.95468139648438</td></tr><tr><td>Brooklyn</td><td>2014-04-12 18:31:30</td><td>40.62303161621094</td><td>-74.0286865234375</td></tr><tr><td>Manhattan</td><td>2014-04-12 18:34:43</td><td>40.804779052734375</td><td>-73.95510864257812</td></tr><tr><td>null</td><td>2014-04-12 18:36:33</td><td>40.712547302246094</td><td>-73.96937561035156</td></tr><tr><td>Manhattan</td><td>2014-04-12 18:37:06</td><td>40.80400848388672</td><td>-73.96632385253906</td></tr><tr><td>Brooklyn</td><td>2014-04-12 18:37:16</td><td>40.72902297973633</td><td>-73.95748138427734</td></tr><tr><td>Bronx</td><td>2014-04-12 18:46:24</td><td>40.80448913574219</td><td>-73.92166137695312</td></tr><tr><td>Queens</td><td>2014-04-12 18:46:37</td><td>40.767494201660156</td><td>-73.91069793701172</td></tr><tr><td>Queens</td><td>2014-04-12 18:50:31</td><td>40.705299377441406</td><td>-73.79540252685547</td></tr><tr><td>Manhattan</td><td>2014-04-12 18:52:54</td><td>40.82461929321289</td><td>-73.94611358642578</td></tr><tr><td>Bronx</td><td>2014-04-12 18:54:54</td><td>40.83708572387695</td><td>-73.8884506225586</td></tr><tr><td>Queens</td><td>2014-04-12 18:54:54</td><td>40.70846176147461</td><td>-73.8184814453125</td></tr><tr><td>Queens</td><td>2014-04-12 18:55:06</td><td>40.75611877441406</td><td>-73.91292572021484</td></tr><tr><td>Manhattan</td><td>2014-04-12 18:56:14</td><td>40.79050064086914</td><td>-73.95172119140625</td></tr><tr><td>Manhattan</td><td>2014-04-12 18:56:32</td><td>40.793426513671875</td><td>-73.94967651367188</td></tr><tr><td>Brooklyn</td><td>2014-04-12 18:58:03</td><td>40.684505462646484</td><td>-73.97843170166016</td></tr><tr><td>Queens</td><td>2014-04-12 18:59:06</td><td>40.75943374633789</td><td>-73.83072662353516</td></tr><tr><td>Brooklyn</td><td>2014-04-12 19:00:55</td><td>40.71654510498047</td><td>-73.96165466308594</td></tr><tr><td>Queens</td><td>2014-04-12 19:01:48</td><td>40.76382064819336</td><td>-73.91471099853516</td></tr><tr><td>Manhattan</td><td>2014-04-12 19:02:10</td><td>40.847225189208984</td><td>-73.93536376953125</td></tr><tr><td>Manhattan</td><td>2014-04-12 19:02:18</td><td>40.785274505615234</td><td>-73.94920349121094</td></tr><tr><td>Brooklyn</td><td>2014-04-12 19:02:23</td><td>40.691436767578125</td><td>-73.95182800292969</td></tr><tr><td>Bronx</td><td>2014-04-12 19:03:02</td><td>40.85273361206055</td><td>-73.8272933959961</td></tr><tr><td>Manhattan</td><td>2014-04-12 19:03:49</td><td>40.78727722167969</td><td>-73.94168090820312</td></tr><tr><td>Manhattan</td><td>2014-04-12 19:06:07</td><td>40.806060791015625</td><td>-73.96549224853516</td></tr><tr><td>Brooklyn</td><td>2014-04-12 19:07:48</td><td>40.675411224365234</td><td>-73.9576644897461</td></tr><tr><td>Brooklyn</td><td>2014-04-12 19:08:08</td><td>40.68281173706055</td><td>-73.99310302734375</td></tr><tr><td>Queens</td><td>2014-04-12 19:08:10</td><td>40.746578216552734</td><td>-73.89122772216797</td></tr><tr><td>Manhattan</td><td>2014-04-12 19:08:58</td><td>40.803096771240234</td><td>-73.94469451904297</td></tr><tr><td>Bronx</td><td>2014-04-12 19:10:31</td><td>40.86247634887695</td><td>-73.8969955444336</td></tr><tr><td>Manhattan</td><td>2014-04-12 19:11:03</td><td>40.83933639526367</td><td>-73.94094848632812</td></tr><tr><td>Brooklyn</td><td>2014-04-12 19:11:20</td><td>40.713932037353516</td><td>-73.96168518066406</td></tr><tr><td>Brooklyn</td><td>2014-04-12 19:20:42</td><td>40.68954849243164</td><td>-73.98824310302734</td></tr><tr><td>Brooklyn</td><td>2014-04-12 19:24:22</td><td>40.7224235534668</td><td>-73.95941162109375</td></tr><tr><td>Manhattan</td><td>2014-04-12 19:24:25</td><td>40.80656814575195</td><td>-73.94640350341797</td></tr><tr><td>Brooklyn</td><td>2014-04-12 19:27:49</td><td>40.721832275390625</td><td>-73.95794677734375</td></tr><tr><td>Bronx</td><td>2014-04-12 19:29:07</td><td>40.812095642089844</td><td>-73.93032836914062</td></tr><tr><td>Brooklyn</td><td>2014-04-12 19:30:11</td><td>40.71700668334961</td><td>-73.9565200805664</td></tr><tr><td>Manhattan</td><td>2014-04-12 19:31:10</td><td>40.79534149169922</td><td>-73.94823455810547</td></tr><tr><td>Brooklyn</td><td>2014-04-12 19:31:26</td><td>40.66164016723633</td><td>-73.99304962158203</td></tr><tr><td>Manhattan</td><td>2014-04-12 19:31:44</td><td>40.79576873779297</td><td>-73.93252563476562</td></tr><tr><td>Manhattan</td><td>2014-04-12 19:32:59</td><td>40.81559371948242</td><td>-73.94723510742188</td></tr><tr><td>Queens</td><td>2014-04-12 19:33:02</td><td>40.74442672729492</td><td>-73.95574951171875</td></tr><tr><td>Bronx</td><td>2014-04-12 19:33:07</td><td>40.84687042236328</td><td>-73.9089584350586</td></tr><tr><td>Manhattan</td><td>2014-04-12 19:33:12</td><td>40.817893981933594</td><td>-73.93791198730469</td></tr><tr><td>Brooklyn</td><td>2014-04-12 19:33:41</td><td>40.674217224121094</td><td>-73.98201751708984</td></tr><tr><td>Brooklyn</td><td>2014-04-12 19:34:12</td><td>40.67812728881836</td><td>-73.9791030883789</td></tr><tr><td>Queens</td><td>2014-04-12 19:36:38</td><td>40.7415657043457</td><td>-73.8685073852539</td></tr><tr><td>Brooklyn</td><td>2014-04-12 19:37:45</td><td>40.71520233154297</td><td>-73.96037292480469</td></tr><tr><td>Bronx</td><td>2014-04-12 19:39:24</td><td>40.820228576660156</td><td>-73.92088317871094</td></tr><tr><td>Bronx</td><td>2014-04-12 19:39:29</td><td>40.83976364135742</td><td>-73.85375213623047</td></tr><tr><td>Manhattan</td><td>2014-04-12 19:41:11</td><td>40.84777069091797</td><td>-73.93797302246094</td></tr><tr><td>Brooklyn</td><td>2014-04-12 19:44:10</td><td>40.69963836669922</td><td>-73.98039245605469</td></tr><tr><td>Manhattan</td><td>2014-04-12 19:44:48</td><td>40.80997848510742</td><td>-73.9507064819336</td></tr><tr><td>Bronx</td><td>2014-04-12 19:46:52</td><td>40.86286544799805</td><td>-73.9014663696289</td></tr><tr><td>Brooklyn</td><td>2014-04-12 19:46:55</td><td>40.6798210144043</td><td>-73.9892349243164</td></tr><tr><td>Queens</td><td>2014-04-12 19:50:40</td><td>40.73040771484375</td><td>-73.86247253417969</td></tr><tr><td>Brooklyn</td><td>2014-04-12 19:50:59</td><td>40.67047882080078</td><td>-73.98888397216797</td></tr><tr><td>Brooklyn</td><td>2014-04-12 19:52:21</td><td>40.71662139892578</td><td>-73.96175384521484</td></tr><tr><td>Brooklyn</td><td>2014-04-12 19:52:25</td><td>40.680057525634766</td><td>-73.97802734375</td></tr><tr><td>Queens</td><td>2014-04-12 19:52:54</td><td>40.745872497558594</td><td>-73.90118408203125</td></tr><tr><td>Queens</td><td>2014-04-12 19:57:17</td><td>40.747406005859375</td><td>-73.8852767944336</td></tr><tr><td>Queens</td><td>2014-04-12 19:57:45</td><td>40.74993133544922</td><td>-73.8619155883789</td></tr><tr><td>Queens</td><td>2014-04-12 20:00:09</td><td>40.74892807006836</td><td>-73.8724136352539</td></tr><tr><td>Bronx</td><td>2014-04-12 20:01:25</td><td>40.8624153137207</td><td>-73.89649963378906</td></tr><tr><td>Manhattan</td><td>2014-04-12 20:01:43</td><td>40.810096740722656</td><td>-73.95858764648438</td></tr><tr><td>Queens</td><td>2014-04-12 20:02:07</td><td>40.71221923828125</td><td>-73.82554626464844</td></tr><tr><td>Brooklyn</td><td>2014-04-12 20:03:43</td><td>40.71037292480469</td><td>-73.96408081054688</td></tr><tr><td>Queens</td><td>2014-04-12 20:07:29</td><td>40.746055603027344</td><td>-73.88984680175781</td></tr><tr><td>Brooklyn</td><td>2014-04-12 20:08:47</td><td>40.696311950683594</td><td>-73.99020385742188</td></tr><tr><td>Queens</td><td>2014-04-12 20:08:58</td><td>40.76631164550781</td><td>-73.92076873779297</td></tr><tr><td>Brooklyn</td><td>2014-04-12 20:09:23</td><td>40.68465805053711</td><td>-73.99176788330078</td></tr><tr><td>Queens</td><td>2014-04-12 20:10:48</td><td>40.75342559814453</td><td>-73.90647888183594</td></tr><tr><td>Manhattan</td><td>2014-04-12 20:12:03</td><td>40.86574172973633</td><td>-73.9266586303711</td></tr><tr><td>Queens</td><td>2014-04-12 20:12:48</td><td>40.7685432434082</td><td>-73.9249496459961</td></tr><tr><td>Brooklyn</td><td>2014-04-12 20:13:42</td><td>40.62806701660156</td><td>-73.95698547363281</td></tr><tr><td>Queens</td><td>2014-04-12 20:14:58</td><td>40.7752571105957</td><td>-73.91165924072266</td></tr><tr><td>Queens</td><td>2014-04-12 20:17:35</td><td>40.74202346801758</td><td>-73.9070053100586</td></tr><tr><td>Bronx</td><td>2014-04-12 20:17:54</td><td>40.819557189941406</td><td>-73.90140533447266</td></tr><tr><td>Brooklyn</td><td>2014-04-12 20:18:00</td><td>40.73028564453125</td><td>-73.95419311523438</td></tr><tr><td>Bronx</td><td>2014-04-12 20:20:14</td><td>40.86148452758789</td><td>-73.89153289794922</td></tr><tr><td>Bronx</td><td>2014-04-12 20:20:47</td><td>40.83363342285156</td><td>-73.9188461303711</td></tr><tr><td>Brooklyn</td><td>2014-04-12 20:22:39</td><td>40.67620086669922</td><td>-73.96131134033203</td></tr><tr><td>Brooklyn</td><td>2014-04-12 20:25:13</td><td>40.69051742553711</td><td>-73.99801635742188</td></tr><tr><td>Brooklyn</td><td>2014-04-12 20:27:39</td><td>40.71194839477539</td><td>-73.9661865234375</td></tr><tr><td>Queens</td><td>2014-04-12 20:28:55</td><td>40.74692916870117</td><td>-73.890625</td></tr><tr><td>Manhattan</td><td>2014-04-12 20:30:34</td><td>40.81422424316406</td><td>-73.95940399169922</td></tr><tr><td>Queens</td><td>2014-04-12 20:31:34</td><td>40.76237487792969</td><td>-73.92517852783203</td></tr><tr><td>Queens</td><td>2014-04-12 20:31:39</td><td>40.749263763427734</td><td>-73.88916778564453</td></tr><tr><td>Bronx</td><td>2014-04-12 20:36:03</td><td>40.85893249511719</td><td>-73.89930725097656</td></tr><tr><td>Brooklyn</td><td>2014-04-12 20:40:28</td><td>40.693260192871094</td><td>-73.97216033935547</td></tr><tr><td>Queens</td><td>2014-04-12 20:46:46</td><td>40.764217376708984</td><td>-73.90927124023438</td></tr><tr><td>Manhattan</td><td>2014-04-12 20:46:54</td><td>40.8090705871582</td><td>-73.94864654541016</td></tr><tr><td>Brooklyn</td><td>2014-04-12 20:46:59</td><td>40.71445083618164</td><td>-73.96121215820312</td></tr><tr><td>Queens</td><td>2014-04-12 20:54:54</td><td>40.715335845947266</td><td>-73.83197784423828</td></tr><tr><td>Brooklyn</td><td>2014-04-12 20:59:07</td><td>40.682533264160156</td><td>-73.96240234375</td></tr><tr><td>Manhattan</td><td>2014-04-12 20:59:34</td><td>40.823951721191406</td><td>-73.94462585449219</td></tr></tbody></table>Showing the first 1000 rows.</div>"
      ]
     },
     "metadata": {
      "application/vnd.databricks.v1+output": {
       "addedWidgets": {},
       "aggData": [],
       "aggError": "",
       "aggOverflow": false,
       "aggSchema": [],
       "aggSeriesLimitReached": false,
       "aggType": "",
       "arguments": {},
       "columnCustomDisplayInfos": {},
       "data": [
        [
         "Brooklyn",
         "2014-04-10 21:39:08",
         40.68616485595703,
         -73.99085235595703
        ],
        [
         "Manhattan",
         "2014-04-10 21:40:00",
         40.8574104309082,
         -73.93215942382812
        ],
        [
         "Brooklyn",
         "2014-04-10 21:40:19",
         40.681095123291016,
         -73.95547485351562
        ],
        [
         "Brooklyn",
         "2014-04-10 21:46:54",
         40.679954528808594,
         -73.94032287597656
        ],
        [
         "Queens",
         "2014-04-10 21:48:25",
         40.72090530395508,
         -73.84422302246094
        ],
        [
         "Brooklyn",
         "2014-04-10 21:49:10",
         40.70438003540039,
         -73.98664093017578
        ],
        [
         "Brooklyn",
         "2014-04-10 21:49:43",
         40.68617248535156,
         -73.97416687011719
        ],
        [
         "Queens",
         "2014-04-10 21:50:50",
         40.75352096557617,
         -73.91926574707031
        ],
        [
         "Queens",
         "2014-04-10 21:53:11",
         40.72126007080078,
         -73.84423828125
        ],
        [
         "Brooklyn",
         "2014-04-10 21:53:21",
         40.654842376708984,
         -73.92778015136719
        ],
        [
         "Brooklyn",
         "2014-04-10 21:55:15",
         40.68479537963867,
         -73.97791290283203
        ],
        [
         "Queens",
         "2014-04-10 21:57:48",
         40.74650573730469,
         -73.89091491699219
        ],
        [
         "Manhattan",
         "2014-04-10 21:59:52",
         40.78993606567383,
         -73.9519271850586
        ],
        [
         "Brooklyn",
         "2014-04-10 22:00:17",
         40.71430969238281,
         -73.95659637451172
        ],
        [
         "Brooklyn",
         "2014-04-10 22:05:59",
         40.683162689208984,
         -73.97459411621094
        ],
        [
         "Brooklyn",
         "2014-04-10 22:07:36",
         40.71405792236328,
         -73.95962524414062
        ],
        [
         "Manhattan",
         "2014-04-10 22:11:11",
         40.84480285644531,
         -73.93511962890625
        ],
        [
         "Brooklyn",
         "2014-04-10 22:12:29",
         40.67552185058594,
         -73.96336364746094
        ],
        [
         "Manhattan",
         "2014-04-10 22:16:33",
         40.80434799194336,
         -73.93757629394531
        ],
        [
         "Manhattan",
         "2014-04-10 22:19:24",
         40.81023025512695,
         -73.95144653320312
        ],
        [
         "Manhattan",
         "2014-04-10 22:19:48",
         40.82326889038086,
         -73.95269012451172
        ],
        [
         "Queens",
         "2014-04-10 22:20:46",
         40.7458381652832,
         -73.90234375
        ],
        [
         "Brooklyn",
         "2014-04-10 22:21:22",
         40.691993713378906,
         -73.99132537841797
        ],
        [
         "Brooklyn",
         "2014-04-10 22:23:38",
         40.6871337890625,
         -73.9596176147461
        ],
        [
         "Manhattan",
         "2014-04-10 22:23:54",
         40.80698013305664,
         -73.95344543457031
        ],
        [
         "Queens",
         "2014-04-10 22:24:38",
         40.77024841308594,
         -73.91879272460938
        ],
        [
         "Brooklyn",
         "2014-04-10 22:25:02",
         40.7182731628418,
         -73.95721435546875
        ],
        [
         "Queens",
         "2014-04-10 22:27:08",
         40.74726104736328,
         -73.9561767578125
        ],
        [
         "Brooklyn",
         "2014-04-10 22:27:29",
         40.68767166137695,
         -73.98640441894531
        ],
        [
         "Manhattan",
         "2014-04-10 22:34:28",
         40.815940856933594,
         -73.94329833984375
        ],
        [
         "Manhattan",
         "2014-04-10 22:34:48",
         40.78987503051758,
         -73.95195007324219
        ],
        [
         "Manhattan",
         "2014-04-10 22:41:02",
         40.807186126708984,
         -73.96442413330078
        ],
        [
         "Queens",
         "2014-04-10 22:42:05",
         40.74656295776367,
         -73.89144134521484
        ],
        [
         "Manhattan",
         "2014-04-10 22:46:34",
         40.83838653564453,
         -73.94510650634766
        ],
        [
         "Brooklyn",
         "2014-04-10 22:48:49",
         40.71392059326172,
         -73.95149993896484
        ],
        [
         "Manhattan",
         "2014-04-10 22:49:33",
         40.81894302368164,
         -73.93744659423828
        ],
        [
         "Bronx",
         "2014-04-10 22:57:40",
         40.83549499511719,
         -73.927978515625
        ],
        [
         "Brooklyn",
         "2014-04-10 22:59:36",
         40.725502014160156,
         -73.95176696777344
        ],
        [
         "Manhattan",
         "2014-04-10 22:59:43",
         40.8130989074707,
         -73.95616149902344
        ],
        [
         "Manhattan",
         "2014-04-10 23:01:13",
         40.81283950805664,
         -73.93771362304688
        ],
        [
         "Brooklyn",
         "2014-04-10 23:03:33",
         40.68536376953125,
         -73.99141693115234
        ],
        [
         "Bronx",
         "2014-04-10 23:07:33",
         40.87887191772461,
         -73.90478515625
        ],
        [
         "Brooklyn",
         "2014-04-10 23:10:43",
         40.66548156738281,
         -73.95697021484375
        ],
        [
         "Queens",
         "2014-04-10 23:13:56",
         40.72114181518555,
         -73.84416198730469
        ],
        [
         "Brooklyn",
         "2014-04-10 23:14:25",
         40.677764892578125,
         -73.99810028076172
        ],
        [
         "Bronx",
         "2014-04-10 23:14:36",
         40.86115646362305,
         -73.89767456054688
        ],
        [
         "Queens",
         "2014-04-10 23:14:58",
         40.74985885620117,
         -73.93912506103516
        ],
        [
         "Queens",
         "2014-04-10 23:18:19",
         40.713722229003906,
         -73.83018493652344
        ],
        [
         "Brooklyn",
         "2014-04-10 23:21:16",
         40.737648010253906,
         -73.95611572265625
        ],
        [
         "Brooklyn",
         "2014-04-10 23:23:36",
         40.689781188964844,
         -73.98794555664062
        ],
        [
         null,
         "2014-04-10 23:23:52",
         40.8140754699707,
         -73.93331146240234
        ],
        [
         "Brooklyn",
         "2014-04-10 23:24:20",
         40.68528366088867,
         -73.92635345458984
        ],
        [
         "Brooklyn",
         "2014-04-10 23:26:06",
         40.71408462524414,
         -73.95543670654297
        ],
        [
         "Brooklyn",
         "2014-04-10 23:26:20",
         40.58735275268555,
         -73.95437622070312
        ],
        [
         "Brooklyn",
         "2014-04-10 23:28:17",
         40.71544647216797,
         -73.96035766601562
        ],
        [
         "Queens",
         "2014-04-10 23:29:41",
         40.77015686035156,
         -73.91775512695312
        ],
        [
         "Brooklyn",
         "2014-04-10 23:32:50",
         40.72093200683594,
         -73.95686340332031
        ],
        [
         "Queens",
         "2014-04-10 23:33:33",
         40.74674606323242,
         -73.89086151123047
        ],
        [
         "Manhattan",
         "2014-04-10 23:36:55",
         40.806907653808594,
         -73.95353698730469
        ],
        [
         "Brooklyn",
         "2014-04-10 23:37:59",
         40.72473907470703,
         -73.95150756835938
        ],
        [
         "Brooklyn",
         "2014-04-10 23:38:05",
         40.713966369628906,
         -73.9516372680664
        ],
        [
         "Brooklyn",
         "2014-04-10 23:43:14",
         40.7216682434082,
         -73.95814514160156
        ],
        [
         "Queens",
         "2014-04-10 23:54:35",
         40.7435302734375,
         -73.92035675048828
        ],
        [
         "Brooklyn",
         "2014-04-10 23:58:10",
         40.70011901855469,
         -73.92463684082031
        ],
        [
         "Brooklyn",
         "2014-04-10 23:58:31",
         40.70317459106445,
         -73.9327163696289
        ],
        [
         "Bronx",
         "2014-04-11 00:11:07",
         40.88223648071289,
         -73.88040161132812
        ],
        [
         "Brooklyn",
         "2014-04-11 00:13:13",
         40.716407775878906,
         -73.9592056274414
        ],
        [
         "Manhattan",
         "2014-04-11 00:17:20",
         40.80679702758789,
         -73.94609832763672
        ],
        [
         null,
         "2014-04-11 00:22:30",
         40.712825775146484,
         -73.96985626220703
        ],
        [
         "Manhattan",
         "2014-04-11 00:24:20",
         40.82559585571289,
         -73.94727325439453
        ],
        [
         "Brooklyn",
         "2014-04-11 00:25:17",
         40.68977355957031,
         -73.99230194091797
        ],
        [
         "Manhattan",
         "2014-04-11 00:27:58",
         40.80424880981445,
         -73.95542907714844
        ],
        [
         "Queens",
         "2014-04-11 00:35:28",
         40.7474250793457,
         -73.88609313964844
        ],
        [
         "Queens",
         "2014-04-11 00:36:33",
         40.73670959472656,
         -73.86568450927734
        ],
        [
         "Queens",
         "2014-04-11 00:38:11",
         40.7215461730957,
         -73.84362030029297
        ],
        [
         "Brooklyn",
         "2014-04-11 00:40:13",
         40.71140670776367,
         -73.94902801513672
        ],
        [
         "Queens",
         "2014-04-11 00:49:14",
         40.749202728271484,
         -73.86959075927734
        ],
        [
         "Queens",
         "2014-04-11 00:51:43",
         40.74551010131836,
         -73.90350341796875
        ],
        [
         "Brooklyn",
         "2014-04-11 00:53:30",
         40.70698547363281,
         -73.92344665527344
        ],
        [
         "Brooklyn",
         "2014-04-11 00:55:39",
         40.69114685058594,
         -73.9915542602539
        ],
        [
         "Queens",
         "2014-04-11 00:57:23",
         40.757320404052734,
         -73.9156494140625
        ],
        [
         "Queens",
         "2014-04-11 01:04:04",
         40.699607849121094,
         -73.81067657470703
        ],
        [
         "Manhattan",
         "2014-04-11 01:05:50",
         40.83973693847656,
         -73.94078063964844
        ],
        [
         "Bronx",
         "2014-04-11 01:09:50",
         40.8653450012207,
         -73.87095642089844
        ],
        [
         "Manhattan",
         "2014-04-11 01:15:05",
         40.804893493652344,
         -73.93885803222656
        ],
        [
         "Queens",
         "2014-04-11 01:16:50",
         40.74757766723633,
         -73.88459014892578
        ],
        [
         "Queens",
         "2014-04-11 01:22:29",
         40.74984359741211,
         -73.86266326904297
        ],
        [
         "Queens",
         "2014-04-11 01:27:46",
         40.72107696533203,
         -73.8441390991211
        ],
        [
         "Manhattan",
         "2014-04-11 01:43:06",
         40.82283020019531,
         -73.9420166015625
        ],
        [
         "Queens",
         "2014-04-11 01:50:35",
         40.576908111572266,
         -73.83964538574219
        ],
        [
         "Bronx",
         "2014-04-11 02:03:50",
         40.81159210205078,
         -73.92609405517578
        ],
        [
         "Brooklyn",
         "2014-04-11 02:08:35",
         40.715579986572266,
         -73.96015167236328
        ],
        [
         "Brooklyn",
         "2014-04-11 02:12:05",
         40.6921272277832,
         -73.98628997802734
        ],
        [
         "Manhattan",
         "2014-04-11 02:20:30",
         40.86735153198242,
         -73.9209976196289
        ],
        [
         "Brooklyn",
         "2014-04-11 02:30:07",
         40.712921142578125,
         -73.96605682373047
        ],
        [
         "Queens",
         "2014-04-11 02:33:45",
         40.70044708251953,
         -73.80763244628906
        ],
        [
         "Manhattan",
         "2014-04-11 02:41:52",
         40.82191848754883,
         -73.94828796386719
        ],
        [
         "Brooklyn",
         "2014-04-11 02:51:16",
         40.70896530151367,
         -73.95925903320312
        ],
        [
         "Brooklyn",
         "2014-04-11 02:58:05",
         40.71400451660156,
         -73.9505844116211
        ],
        [
         "Queens",
         "2014-04-11 03:01:33",
         40.77056884765625,
         -73.91755676269531
        ],
        [
         "Brooklyn",
         "2014-04-11 03:01:49",
         40.70927810668945,
         -73.93714904785156
        ],
        [
         "Queens",
         "2014-04-11 03:14:46",
         40.7465934753418,
         -73.89149475097656
        ],
        [
         "Brooklyn",
         "2014-04-11 03:22:18",
         40.5872688293457,
         -73.95359802246094
        ],
        [
         "Queens",
         "2014-04-11 03:25:36",
         40.74631881713867,
         -73.89508819580078
        ],
        [
         "Brooklyn",
         "2014-04-11 03:25:36",
         40.73249053955078,
         -73.95465850830078
        ],
        [
         "Brooklyn",
         "2014-04-11 03:47:30",
         40.67050552368164,
         -73.98860931396484
        ],
        [
         "Queens",
         "2014-04-11 04:17:12",
         40.74776840209961,
         -73.8843002319336
        ],
        [
         "Queens",
         "2014-04-11 04:22:12",
         40.74736785888672,
         -73.88712310791016
        ],
        [
         "Queens",
         "2014-04-11 04:23:20",
         40.747013092041016,
         -73.8895492553711
        ],
        [
         "Brooklyn",
         "2014-04-11 04:26:27",
         40.70372772216797,
         -73.9310302734375
        ],
        [
         "Queens",
         "2014-04-11 04:39:15",
         40.7496452331543,
         -73.86280059814453
        ],
        [
         "Queens",
         "2014-04-11 04:51:21",
         40.74671173095703,
         -73.89151000976562
        ],
        [
         "Brooklyn",
         "2014-04-11 04:52:40",
         40.69117736816406,
         -73.9894790649414
        ],
        [
         "Brooklyn",
         "2014-04-11 04:53:50",
         40.72225570678711,
         -73.95753479003906
        ],
        [
         "Manhattan",
         "2014-04-11 05:10:40",
         40.79952621459961,
         -73.95508575439453
        ],
        [
         "Manhattan",
         "2014-04-11 05:22:00",
         40.81407928466797,
         -73.95683288574219
        ],
        [
         "Queens",
         "2014-04-11 05:27:11",
         40.64568328857422,
         -73.77631378173828
        ],
        [
         "Brooklyn",
         "2014-04-11 05:37:31",
         40.707698822021484,
         -73.93933868408203
        ],
        [
         "Manhattan",
         "2014-04-11 05:37:35",
         40.852169036865234,
         -73.94153594970703
        ],
        [
         "Queens",
         "2014-04-11 06:04:25",
         40.74769973754883,
         -73.88481903076172
        ],
        [
         "Manhattan",
         "2014-04-11 06:08:28",
         40.81829071044922,
         -73.95260620117188
        ],
        [
         "Queens",
         "2014-04-11 06:10:11",
         40.74043655395508,
         -73.89546966552734
        ],
        [
         "Bronx",
         "2014-04-11 06:17:28",
         40.8624382019043,
         -73.90519714355469
        ],
        [
         "Brooklyn",
         "2014-04-11 06:20:10",
         40.69298553466797,
         -73.96207427978516
        ],
        [
         "Manhattan",
         "2014-04-11 06:27:33",
         40.78516387939453,
         -73.9465560913086
        ],
        [
         "Manhattan",
         "2014-04-11 06:40:47",
         40.81217956542969,
         -73.93816375732422
        ],
        [
         "Queens",
         "2014-04-11 06:41:16",
         40.7481803894043,
         -73.87699127197266
        ],
        [
         "Manhattan",
         "2014-04-11 06:43:31",
         40.86430358886719,
         -73.92926788330078
        ],
        [
         "Queens",
         "2014-04-11 07:11:17",
         40.7294921875,
         -73.85175323486328
        ],
        [
         "Queens",
         "2014-04-11 07:11:40",
         40.751991271972656,
         -73.86918640136719
        ],
        [
         "Bronx",
         "2014-04-11 07:18:49",
         40.822364807128906,
         -73.8731689453125
        ],
        [
         "Brooklyn",
         "2014-04-11 07:20:16",
         40.6873893737793,
         -73.99201965332031
        ],
        [
         "Brooklyn",
         "2014-04-11 07:40:32",
         40.707496643066406,
         -73.9499282836914
        ],
        [
         "Manhattan",
         "2014-04-11 07:41:18",
         40.82509994506836,
         -73.95153045654297
        ],
        [
         "Manhattan",
         "2014-04-11 07:46:50",
         40.81086349487305,
         -73.96304321289062
        ],
        [
         "Brooklyn",
         "2014-04-11 07:57:16",
         40.587223052978516,
         -73.9539566040039
        ],
        [
         "Queens",
         "2014-04-11 07:58:26",
         40.75455093383789,
         -73.90966796875
        ],
        [
         "Manhattan",
         "2014-04-11 08:01:05",
         40.824058532714844,
         -73.95222473144531
        ],
        [
         "Manhattan",
         "2014-04-11 08:09:27",
         40.84233093261719,
         -73.939208984375
        ],
        [
         "Queens",
         "2014-04-11 08:11:29",
         40.76665115356445,
         -73.92129516601562
        ],
        [
         "Bronx",
         "2014-04-11 08:11:47",
         40.81425476074219,
         -73.92488861083984
        ],
        [
         "Manhattan",
         "2014-04-11 08:12:31",
         40.82252502441406,
         -73.95316314697266
        ],
        [
         "Brooklyn",
         "2014-04-11 08:14:04",
         40.67996597290039,
         -73.9991455078125
        ],
        [
         "Manhattan",
         "2014-04-11 08:18:10",
         40.80604934692383,
         -73.94261169433594
        ],
        [
         "Queens",
         "2014-04-11 08:19:55",
         40.74911117553711,
         -73.89043426513672
        ],
        [
         "Manhattan",
         "2014-04-11 08:20:04",
         40.812931060791016,
         -73.9531478881836
        ],
        [
         "Manhattan",
         "2014-04-11 08:21:14",
         40.818504333496094,
         -73.93789672851562
        ],
        [
         "Manhattan",
         "2014-04-11 08:22:26",
         40.83235549926758,
         -73.94266510009766
        ],
        [
         "Bronx",
         "2014-04-11 08:22:28",
         40.83613204956055,
         -73.90269470214844
        ],
        [
         "Queens",
         "2014-04-11 08:23:30",
         40.756046295166016,
         -73.8818130493164
        ],
        [
         "Manhattan",
         "2014-04-11 08:23:34",
         40.82725143432617,
         -73.9500503540039
        ],
        [
         "Queens",
         "2014-04-11 08:25:16",
         40.721397399902344,
         -73.84440612792969
        ],
        [
         "Bronx",
         "2014-04-11 08:25:22",
         40.8331184387207,
         -73.89017486572266
        ],
        [
         "Queens",
         "2014-04-11 08:25:24",
         40.76179504394531,
         -73.92533874511719
        ],
        [
         "Queens",
         "2014-04-11 08:25:32",
         40.74888610839844,
         -73.87032318115234
        ],
        [
         "Manhattan",
         "2014-04-11 08:25:57",
         40.79787826538086,
         -73.94839477539062
        ],
        [
         "Manhattan",
         "2014-04-11 08:28:45",
         40.81985855102539,
         -73.95165252685547
        ],
        [
         "Bronx",
         "2014-04-11 08:28:54",
         40.846981048583984,
         -73.90885162353516
        ],
        [
         "Brooklyn",
         "2014-04-11 08:29:44",
         40.693782806396484,
         -73.98370361328125
        ],
        [
         "Queens",
         "2014-04-11 08:30:59",
         40.72142791748047,
         -73.84423828125
        ],
        [
         null,
         "2014-04-11 08:34:33",
         0.0,
         0.0
        ],
        [
         "Queens",
         "2014-04-11 08:46:46",
         40.749027252197266,
         -73.86927032470703
        ],
        [
         "Manhattan",
         "2014-04-11 08:48:14",
         40.80221939086914,
         -73.94979858398438
        ],
        [
         "Queens",
         "2014-04-11 08:50:57",
         40.744895935058594,
         -73.94856262207031
        ],
        [
         "Brooklyn",
         "2014-04-11 08:51:03",
         40.687320709228516,
         -73.98363494873047
        ],
        [
         "Manhattan",
         "2014-04-11 08:53:42",
         40.79154968261719,
         -73.94683074951172
        ],
        [
         "Brooklyn",
         "2014-04-11 08:56:49",
         40.64677810668945,
         -74.02285766601562
        ],
        [
         "Bronx",
         "2014-04-11 09:01:00",
         40.8089714050293,
         -73.92243194580078
        ],
        [
         "Queens",
         "2014-04-11 09:04:05",
         40.7669563293457,
         -73.92344665527344
        ],
        [
         "Brooklyn",
         "2014-04-11 09:07:37",
         40.66712188720703,
         -73.97505187988281
        ],
        [
         "Queens",
         "2014-04-11 09:12:40",
         40.75954055786133,
         -73.82972717285156
        ],
        [
         "Manhattan",
         "2014-04-11 09:23:10",
         40.80499267578125,
         -73.93917846679688
        ],
        [
         "Queens",
         "2014-04-11 09:27:05",
         40.745853424072266,
         -73.90318298339844
        ],
        [
         "Bronx",
         "2014-04-11 09:29:52",
         40.852603912353516,
         -73.8819808959961
        ],
        [
         "Queens",
         "2014-04-11 09:35:33",
         40.74420928955078,
         -73.88902282714844
        ],
        [
         "Bronx",
         "2014-04-11 09:37:17",
         40.82636642456055,
         -73.89672088623047
        ],
        [
         "Manhattan",
         "2014-04-11 09:37:24",
         40.83655548095703,
         -73.9429931640625
        ],
        [
         "Queens",
         "2014-04-11 09:48:33",
         40.76677322387695,
         -73.9216537475586
        ],
        [
         "Manhattan",
         "2014-04-11 09:50:57",
         40.791351318359375,
         -73.9446792602539
        ],
        [
         "Queens",
         "2014-04-11 10:03:24",
         40.73690414428711,
         -73.8533706665039
        ],
        [
         "Manhattan",
         "2014-04-11 10:08:51",
         40.80556869506836,
         -73.9388656616211
        ],
        [
         "Manhattan",
         "2014-04-11 10:09:22",
         40.80620193481445,
         -73.94397735595703
        ],
        [
         "Queens",
         "2014-04-11 10:12:47",
         40.75537872314453,
         -73.92744445800781
        ],
        [
         "Brooklyn",
         "2014-04-11 10:18:23",
         40.6897087097168,
         -73.97294616699219
        ],
        [
         "Queens",
         "2014-04-11 10:19:49",
         40.76308059692383,
         -73.9157485961914
        ],
        [
         "Manhattan",
         "2014-04-11 10:19:51",
         40.785831451416016,
         -73.9427490234375
        ],
        [
         "Queens",
         "2014-04-11 10:26:40",
         40.76748275756836,
         -73.91217041015625
        ],
        [
         "Manhattan",
         "2014-04-11 10:30:20",
         40.80500411987305,
         -73.93926239013672
        ],
        [
         "Manhattan",
         "2014-04-11 10:31:36",
         40.804771423339844,
         -73.93975067138672
        ],
        [
         "Manhattan",
         "2014-04-11 10:33:16",
         40.790016174316406,
         -73.95220947265625
        ],
        [
         "Brooklyn",
         "2014-04-11 10:43:00",
         40.7208366394043,
         -73.95516967773438
        ],
        [
         "Bronx",
         "2014-04-11 10:46:53",
         40.86118698120117,
         -73.89754486083984
        ],
        [
         "Bronx",
         "2014-04-11 10:48:23",
         40.82747268676758,
         -73.92412567138672
        ],
        [
         "Bronx",
         "2014-04-11 10:49:35",
         40.85579299926758,
         -73.90570831298828
        ],
        [
         "Queens",
         "2014-04-11 10:52:36",
         40.7454948425293,
         -73.88809204101562
        ],
        [
         "Manhattan",
         "2014-04-11 10:52:36",
         40.805580139160156,
         -73.9400405883789
        ],
        [
         "Brooklyn",
         "2014-04-11 10:52:53",
         40.71445083618164,
         -73.96119689941406
        ],
        [
         "Queens",
         "2014-04-11 10:54:36",
         40.76425552368164,
         -73.90204620361328
        ],
        [
         "Queens",
         "2014-04-11 10:56:10",
         40.76060104370117,
         -73.91778564453125
        ],
        [
         "Queens",
         "2014-04-11 11:00:20",
         40.766719818115234,
         -73.92168426513672
        ],
        [
         "Manhattan",
         "2014-04-11 11:02:34",
         40.81100082397461,
         -73.9432144165039
        ],
        [
         "Brooklyn",
         "2014-04-11 11:03:36",
         40.688541412353516,
         -73.99282836914062
        ],
        [
         "Queens",
         "2014-04-11 11:10:50",
         40.74776077270508,
         -73.88404083251953
        ],
        [
         "Bronx",
         "2014-04-11 11:16:58",
         40.82015609741211,
         -73.8674545288086
        ],
        [
         "Queens",
         "2014-04-11 11:18:10",
         40.75251770019531,
         -73.8861083984375
        ],
        [
         "Bronx",
         "2014-04-11 11:18:52",
         40.81619644165039,
         -73.9178237915039
        ],
        [
         "Brooklyn",
         "2014-04-11 11:19:24",
         40.6906623840332,
         -73.93787384033203
        ],
        [
         "Brooklyn",
         "2014-04-11 11:19:57",
         40.65957260131836,
         -73.96273803710938
        ],
        [
         "Manhattan",
         "2014-04-11 11:20:25",
         40.80677032470703,
         -73.96064758300781
        ],
        [
         "Manhattan",
         "2014-04-11 11:22:06",
         40.815181732177734,
         -73.93946838378906
        ],
        [
         "Bronx",
         "2014-04-11 11:30:28",
         40.870059967041016,
         -73.8852310180664
        ],
        [
         "Queens",
         "2014-04-11 11:31:38",
         40.74903106689453,
         -73.86990356445312
        ],
        [
         "Queens",
         "2014-04-11 11:38:26",
         40.736690521240234,
         -73.8653564453125
        ],
        [
         "Manhattan",
         "2014-04-11 11:40:11",
         40.81684112548828,
         -73.94817352294922
        ],
        [
         "Manhattan",
         "2014-04-11 11:53:17",
         40.8725700378418,
         -73.91282653808594
        ],
        [
         "Queens",
         "2014-04-11 11:55:59",
         40.76262664794922,
         -73.91824340820312
        ],
        [
         "Bronx",
         "2014-04-11 11:56:22",
         40.82286071777344,
         -73.92943572998047
        ],
        [
         "Bronx",
         "2014-04-11 11:57:04",
         40.843135833740234,
         -73.9110107421875
        ],
        [
         "Manhattan",
         "2014-04-11 12:06:16",
         40.80713653564453,
         -73.93382263183594
        ],
        [
         "Manhattan",
         "2014-04-11 12:13:48",
         40.81684112548828,
         -73.94817352294922
        ],
        [
         "Bronx",
         "2014-04-11 12:16:43",
         40.83934783935547,
         -73.91349792480469
        ],
        [
         "Queens",
         "2014-04-11 12:21:08",
         40.74380111694336,
         -73.92597961425781
        ],
        [
         "Brooklyn",
         "2014-04-11 12:23:16",
         40.69097137451172,
         -73.99398040771484
        ],
        [
         "Queens",
         "2014-04-11 12:23:56",
         40.75414276123047,
         -73.94222259521484
        ],
        [
         "Manhattan",
         "2014-04-11 12:25:52",
         40.82713317871094,
         -73.9501724243164
        ],
        [
         "Queens",
         "2014-04-11 12:40:57",
         40.68184280395508,
         -73.76615905761719
        ],
        [
         "Manhattan",
         "2014-04-11 12:54:39",
         40.83440399169922,
         -73.94450378417969
        ],
        [
         "Manhattan",
         "2014-04-11 12:57:13",
         40.791587829589844,
         -73.93861389160156
        ],
        [
         "Manhattan",
         "2014-04-11 13:02:07",
         40.75609588623047,
         -74.00546264648438
        ],
        [
         "Manhattan",
         "2014-04-11 13:07:21",
         40.79057693481445,
         -73.93933868408203
        ],
        [
         "Manhattan",
         "2014-04-11 13:12:04",
         40.82115936279297,
         -73.93938446044922
        ],
        [
         "Manhattan",
         "2014-04-11 13:13:27",
         40.84629440307617,
         -73.93856048583984
        ],
        [
         "Manhattan",
         "2014-04-11 13:18:00",
         40.78525161743164,
         -73.94945526123047
        ],
        [
         "Bronx",
         "2014-04-11 13:19:54",
         40.81648635864258,
         -73.90840911865234
        ],
        [
         "Manhattan",
         "2014-04-11 13:35:27",
         40.85418701171875,
         -73.93385314941406
        ],
        [
         "Bronx",
         "2014-04-11 13:35:47",
         40.84358215332031,
         -73.90312194824219
        ],
        [
         "Manhattan",
         "2014-04-11 13:36:27",
         40.86793899536133,
         -73.92069244384766
        ],
        [
         "Bronx",
         "2014-04-11 13:37:21",
         40.843196868896484,
         -73.9248275756836
        ],
        [
         "Bronx",
         "2014-04-11 13:38:09",
         40.840736389160156,
         -73.84146881103516
        ],
        [
         "Queens",
         "2014-04-11 13:47:14",
         40.700401306152344,
         -73.80742645263672
        ],
        [
         "Manhattan",
         "2014-04-11 13:49:46",
         40.8398323059082,
         -73.94042205810547
        ],
        [
         "Queens",
         "2014-04-11 13:51:10",
         40.75658416748047,
         -73.92100524902344
        ],
        [
         "Brooklyn",
         "2014-04-11 14:03:37",
         40.692256927490234,
         -73.99104309082031
        ],
        [
         "Bronx",
         "2014-04-11 14:14:53",
         40.86621856689453,
         -73.82646942138672
        ],
        [
         "Bronx",
         "2014-04-11 14:15:32",
         40.879791259765625,
         -73.87984466552734
        ],
        [
         "Queens",
         "2014-04-11 14:16:12",
         40.735111236572266,
         -73.87413024902344
        ],
        [
         "Manhattan",
         "2014-04-11 14:16:25",
         40.811866760253906,
         -73.963623046875
        ],
        [
         "Manhattan",
         "2014-04-11 14:20:48",
         40.849853515625,
         -73.93376922607422
        ],
        [
         "Manhattan",
         "2014-04-11 14:23:27",
         40.806846618652344,
         -73.96090698242188
        ],
        [
         "Manhattan",
         "2014-04-11 14:28:59",
         40.80537796020508,
         -73.96577453613281
        ],
        [
         "Brooklyn",
         "2014-04-11 14:30:33",
         40.68311309814453,
         -73.99773406982422
        ],
        [
         "Manhattan",
         "2014-04-11 14:30:58",
         40.79456329345703,
         -73.9447021484375
        ],
        [
         "Brooklyn",
         "2014-04-11 14:36:39",
         40.71577835083008,
         -73.94615936279297
        ],
        [
         "Manhattan",
         "2014-04-11 14:40:27",
         40.79838562011719,
         -73.93358612060547
        ],
        [
         "Brooklyn",
         "2014-04-11 14:40:47",
         40.68852615356445,
         -73.96585083007812
        ],
        [
         "Queens",
         "2014-04-11 14:42:17",
         40.733917236328125,
         -73.86956787109375
        ],
        [
         "Queens",
         "2014-04-11 14:47:19",
         40.746376037597656,
         -73.90303039550781
        ],
        [
         "Brooklyn",
         "2014-04-11 14:49:10",
         40.68471145629883,
         -73.97042846679688
        ],
        [
         "Manhattan",
         "2014-04-11 14:49:45",
         40.81682586669922,
         -73.95732116699219
        ],
        [
         "Brooklyn",
         "2014-04-11 14:51:46",
         40.687721252441406,
         -73.98700714111328
        ],
        [
         "Queens",
         "2014-04-11 14:52:55",
         40.74032974243164,
         -73.89747619628906
        ],
        [
         "Bronx",
         "2014-04-11 14:55:08",
         40.879371643066406,
         -73.9045181274414
        ],
        [
         "Queens",
         "2014-04-11 15:04:30",
         40.758323669433594,
         -73.93325805664062
        ],
        [
         "Manhattan",
         "2014-04-11 15:07:29",
         40.78921890258789,
         -73.9403305053711
        ],
        [
         "Manhattan",
         "2014-04-11 15:08:35",
         40.819820404052734,
         -73.96004486083984
        ],
        [
         "Queens",
         "2014-04-11 15:12:03",
         40.745853424072266,
         -73.88553619384766
        ],
        [
         "Manhattan",
         "2014-04-11 15:12:06",
         40.813133239746094,
         -73.95085906982422
        ],
        [
         "Bronx",
         "2014-04-11 15:15:47",
         40.812198638916016,
         -73.9038314819336
        ],
        [
         "Manhattan",
         "2014-04-11 15:16:47",
         40.80843734741211,
         -73.94845581054688
        ],
        [
         "Queens",
         "2014-04-11 15:20:40",
         40.75309371948242,
         -73.90995788574219
        ],
        [
         "Queens",
         "2014-04-11 15:23:19",
         40.75947189331055,
         -73.83049774169922
        ],
        [
         "Brooklyn",
         "2014-04-11 15:25:09",
         40.67294692993164,
         -73.95421600341797
        ],
        [
         "Queens",
         "2014-04-11 15:26:55",
         40.759376525878906,
         -73.91871643066406
        ],
        [
         "Manhattan",
         "2014-04-11 15:28:51",
         40.78981018066406,
         -73.95173645019531
        ],
        [
         "Queens",
         "2014-04-11 15:31:12",
         40.75954055786133,
         -73.82972717285156
        ],
        [
         "Queens",
         "2014-04-11 15:35:46",
         40.745357513427734,
         -73.9033203125
        ],
        [
         "Manhattan",
         "2014-04-11 15:38:00",
         40.85504150390625,
         -73.92951965332031
        ],
        [
         "Brooklyn",
         "2014-04-11 15:43:19",
         40.654457092285156,
         -74.0045394897461
        ],
        [
         "Manhattan",
         "2014-04-11 15:44:12",
         40.80125045776367,
         -73.95750427246094
        ],
        [
         "Manhattan",
         "2014-04-11 15:49:10",
         40.80915069580078,
         -73.94841766357422
        ],
        [
         "Manhattan",
         "2014-04-11 15:50:55",
         40.819881439208984,
         -73.9552993774414
        ],
        [
         "Queens",
         "2014-04-11 16:04:21",
         40.72134780883789,
         -73.84429168701172
        ],
        [
         "Queens",
         "2014-04-11 16:04:25",
         40.77193069458008,
         -73.92618560791016
        ],
        [
         "Queens",
         "2014-04-11 16:05:29",
         40.74445724487305,
         -73.8861083984375
        ],
        [
         "Manhattan",
         "2014-04-11 16:05:49",
         40.81491470336914,
         -73.94293212890625
        ],
        [
         "Brooklyn",
         "2014-04-11 16:07:57",
         40.688846588134766,
         -73.98896789550781
        ],
        [
         "Manhattan",
         "2014-04-11 16:08:50",
         40.80591583251953,
         -73.95433044433594
        ],
        [
         "Manhattan",
         "2014-04-11 16:10:36",
         40.78911209106445,
         -73.95419311523438
        ],
        [
         "Manhattan",
         "2014-04-11 16:11:08",
         40.805484771728516,
         -73.96189880371094
        ],
        [
         "Manhattan",
         "2014-04-11 16:17:22",
         40.80221176147461,
         -73.9494857788086
        ],
        [
         "Queens",
         "2014-04-11 16:23:21",
         40.700477600097656,
         -73.80776977539062
        ],
        [
         "Bronx",
         "2014-04-11 16:25:19",
         40.816429138183594,
         -73.91960906982422
        ],
        [
         "Brooklyn",
         "2014-04-11 16:36:51",
         40.686180114746094,
         -73.9963607788086
        ],
        [
         "Manhattan",
         "2014-04-11 16:38:09",
         40.82194137573242,
         -73.95368194580078
        ],
        [
         "Brooklyn",
         "2014-04-11 16:43:03",
         40.703758239746094,
         -73.98783874511719
        ],
        [
         "Bronx",
         "2014-04-11 16:43:42",
         40.85287857055664,
         -73.9046859741211
        ],
        [
         "Manhattan",
         "2014-04-11 16:45:21",
         40.83704376220703,
         -73.94251251220703
        ],
        [
         "Brooklyn",
         "2014-04-11 16:45:33",
         40.64307403564453,
         -73.99443054199219
        ],
        [
         "Bronx",
         "2014-04-11 16:46:35",
         40.859580993652344,
         -73.90335845947266
        ],
        [
         "Manhattan",
         "2014-04-11 16:46:38",
         40.84370422363281,
         -73.93778991699219
        ],
        [
         "Manhattan",
         "2014-04-11 16:54:21",
         40.81256103515625,
         -73.95629119873047
        ],
        [
         "Manhattan",
         "2014-04-11 16:55:07",
         40.87445068359375,
         -73.91018676757812
        ],
        [
         "Manhattan",
         "2014-04-11 16:56:08",
         40.84587860107422,
         -73.93628692626953
        ],
        [
         "Queens",
         "2014-04-11 16:57:41",
         40.745704650878906,
         -73.90287017822266
        ],
        [
         "Bronx",
         "2014-04-11 16:57:51",
         40.834232330322266,
         -73.85201263427734
        ],
        [
         "Brooklyn",
         "2014-04-11 16:58:37",
         40.58750915527344,
         -73.95426177978516
        ],
        [
         "Brooklyn",
         "2014-04-11 17:00:00",
         40.68596649169922,
         -73.99950408935547
        ],
        [
         "Queens",
         "2014-04-11 17:04:16",
         40.7658576965332,
         -73.91925048828125
        ],
        [
         "Manhattan",
         "2014-04-11 17:06:17",
         40.8677978515625,
         -73.92133331298828
        ],
        [
         "Brooklyn",
         "2014-04-11 17:11:38",
         40.68745803833008,
         -73.97257232666016
        ],
        [
         "Manhattan",
         "2014-04-11 17:13:08",
         40.787574768066406,
         -73.95403289794922
        ],
        [
         "Manhattan",
         "2014-04-11 17:13:12",
         40.802947998046875,
         -73.93385314941406
        ],
        [
         "Brooklyn",
         "2014-04-11 17:13:57",
         40.663673400878906,
         -73.9626693725586
        ],
        [
         "Brooklyn",
         "2014-04-11 17:15:06",
         40.67964553833008,
         -73.935546875
        ],
        [
         "Brooklyn",
         "2014-04-11 17:15:10",
         40.58723831176758,
         -73.95384979248047
        ],
        [
         "Bronx",
         "2014-04-11 17:15:33",
         40.84652328491211,
         -73.89424896240234
        ],
        [
         "Manhattan",
         "2014-04-11 17:24:16",
         40.803585052490234,
         -73.95333862304688
        ],
        [
         "Brooklyn",
         "2014-04-11 17:24:25",
         40.67774200439453,
         -73.96880340576172
        ],
        [
         "Manhattan",
         "2014-04-11 17:24:36",
         40.82624053955078,
         -73.95054626464844
        ],
        [
         "Manhattan",
         "2014-04-11 17:27:59",
         40.78891372680664,
         -73.95428466796875
        ],
        [
         "Brooklyn",
         "2014-04-11 17:28:53",
         40.71165084838867,
         -73.94336700439453
        ],
        [
         "Bronx",
         "2014-04-11 17:30:41",
         40.84313201904297,
         -73.9098892211914
        ],
        [
         "Manhattan",
         "2014-04-11 17:32:39",
         40.82977294921875,
         -73.94263458251953
        ],
        [
         "Queens",
         "2014-04-11 17:37:19",
         40.758052825927734,
         -73.91973876953125
        ],
        [
         "Brooklyn",
         "2014-04-11 17:37:42",
         40.693115234375,
         -73.96937561035156
        ],
        [
         "Bronx",
         "2014-04-11 17:40:42",
         40.87065124511719,
         -73.9044189453125
        ],
        [
         "Brooklyn",
         "2014-04-11 17:42:56",
         40.677677154541016,
         -73.97977447509766
        ],
        [
         "Bronx",
         "2014-04-11 17:43:52",
         40.86716079711914,
         -73.89634704589844
        ],
        [
         "Queens",
         "2014-04-11 17:44:15",
         40.73371887207031,
         -73.87029266357422
        ],
        [
         "Queens",
         "2014-04-11 17:45:33",
         40.74651336669922,
         -73.89122009277344
        ],
        [
         "Manhattan",
         "2014-04-11 17:47:10",
         40.789955139160156,
         -73.95188903808594
        ],
        [
         "Bronx",
         "2014-04-11 17:50:00",
         40.835357666015625,
         -73.86127471923828
        ],
        [
         "Bronx",
         "2014-04-11 17:53:25",
         40.8243522644043,
         -73.89183044433594
        ],
        [
         "Bronx",
         "2014-04-11 17:57:26",
         40.849300384521484,
         -73.91743469238281
        ],
        [
         "Queens",
         "2014-04-11 17:58:42",
         40.745704650878906,
         -73.90331268310547
        ],
        [
         "Manhattan",
         "2014-04-11 17:59:51",
         40.80858612060547,
         -73.9449234008789
        ],
        [
         "Manhattan",
         "2014-04-11 18:00:51",
         40.807315826416016,
         -73.96463775634766
        ],
        [
         "Queens",
         "2014-04-11 18:01:06",
         40.76659393310547,
         -73.92141723632812
        ],
        [
         "Manhattan",
         "2014-04-11 18:01:44",
         40.803096771240234,
         -73.96381378173828
        ],
        [
         "Queens",
         "2014-04-11 18:06:27",
         40.73040771484375,
         -73.86241149902344
        ],
        [
         "Manhattan",
         "2014-04-11 18:07:35",
         40.850093841552734,
         -73.9359130859375
        ],
        [
         "Manhattan",
         "2014-04-11 18:13:35",
         40.80552673339844,
         -73.93912506103516
        ],
        [
         "Bronx",
         "2014-04-11 18:14:07",
         40.81403350830078,
         -73.92168426513672
        ],
        [
         "Queens",
         "2014-04-11 18:16:04",
         40.75469207763672,
         -73.94158172607422
        ],
        [
         "Manhattan",
         "2014-04-11 18:17:49",
         40.86835479736328,
         -73.9216537475586
        ],
        [
         "Manhattan",
         "2014-04-11 18:21:59",
         40.80830383300781,
         -73.95965576171875
        ],
        [
         "Brooklyn",
         "2014-04-11 18:23:23",
         40.693687438964844,
         -73.99293518066406
        ],
        [
         "Queens",
         "2014-04-11 18:25:14",
         40.747127532958984,
         -73.89021301269531
        ],
        [
         "Bronx",
         "2014-04-11 18:36:22",
         40.867462158203125,
         -73.87980651855469
        ],
        [
         "Brooklyn",
         "2014-04-11 18:39:23",
         40.716285705566406,
         -73.95935821533203
        ],
        [
         "Queens",
         "2014-04-11 18:40:05",
         40.721107482910156,
         -73.84420013427734
        ],
        [
         "Brooklyn",
         "2014-04-11 18:40:38",
         40.717308044433594,
         -73.958251953125
        ],
        [
         "Brooklyn",
         "2014-04-11 18:40:38",
         40.6815071105957,
         -73.9655532836914
        ],
        [
         "Bronx",
         "2014-04-11 18:40:43",
         40.80787658691406,
         -73.91990661621094
        ],
        [
         "Queens",
         "2014-04-11 18:41:35",
         40.74911117553711,
         -73.8703842163086
        ],
        [
         "Brooklyn",
         "2014-04-11 18:46:08",
         40.68588638305664,
         -73.9735336303711
        ],
        [
         "Queens",
         "2014-04-11 18:47:32",
         40.76272964477539,
         -73.92703247070312
        ],
        [
         "Manhattan",
         "2014-04-11 18:50:51",
         40.84469985961914,
         -73.94071960449219
        ],
        [
         "Queens",
         "2014-04-11 18:52:43",
         40.755226135253906,
         -73.81634521484375
        ],
        [
         "Queens",
         "2014-04-11 18:53:15",
         40.74924087524414,
         -73.86942291259766
        ],
        [
         "Queens",
         "2014-04-11 18:54:55",
         40.75497817993164,
         -73.91036987304688
        ],
        [
         "Bronx",
         "2014-04-11 18:56:16",
         40.84095001220703,
         -73.84239959716797
        ],
        [
         "Brooklyn",
         "2014-04-11 18:56:21",
         40.6905403137207,
         -73.99539947509766
        ],
        [
         "Brooklyn",
         "2014-04-11 18:57:42",
         40.69313430786133,
         -73.98697662353516
        ],
        [
         "Brooklyn",
         "2014-04-11 18:57:57",
         40.6893424987793,
         -73.9813232421875
        ],
        [
         "Brooklyn",
         "2014-04-11 19:03:59",
         40.68849182128906,
         -73.98674774169922
        ],
        [
         "Queens",
         "2014-04-11 19:04:10",
         40.74545669555664,
         -73.90341186523438
        ],
        [
         "Queens",
         "2014-04-11 19:07:20",
         40.762630462646484,
         -73.87529754638672
        ],
        [
         "Brooklyn",
         "2014-04-11 19:08:05",
         40.719154357910156,
         -73.9488525390625
        ],
        [
         "Manhattan",
         "2014-04-11 19:09:33",
         40.789669036865234,
         -73.95188903808594
        ],
        [
         "Manhattan",
         "2014-04-11 19:09:38",
         40.8242073059082,
         -73.94499969482422
        ],
        [
         "Manhattan",
         "2014-04-11 19:11:03",
         40.807403564453125,
         -73.94451141357422
        ],
        [
         "Brooklyn",
         "2014-04-11 19:12:47",
         40.684730529785156,
         -73.97882843017578
        ],
        [
         "Queens",
         "2014-04-11 19:13:23",
         40.747032165527344,
         -73.95637512207031
        ],
        [
         "Manhattan",
         "2014-04-11 19:18:11",
         40.80793380737305,
         -73.96417236328125
        ],
        [
         "Manhattan",
         "2014-04-11 19:18:45",
         40.78986740112305,
         -73.95228576660156
        ],
        [
         "Queens",
         "2014-04-11 19:21:05",
         40.760196685791016,
         -73.84576416015625
        ],
        [
         "Queens",
         "2014-04-11 19:21:09",
         40.745670318603516,
         -73.90362548828125
        ],
        [
         "Manhattan",
         "2014-04-11 19:23:22",
         40.84272384643555,
         -73.9384765625
        ],
        [
         "Bronx",
         "2014-04-11 19:25:04",
         40.839019775390625,
         -73.83597564697266
        ],
        [
         "Brooklyn",
         "2014-04-11 19:27:53",
         40.69358444213867,
         -73.99270629882812
        ],
        [
         "Queens",
         "2014-04-11 19:29:21",
         40.7004508972168,
         -73.80738067626953
        ],
        [
         "Manhattan",
         "2014-04-11 19:31:50",
         40.858150482177734,
         -73.93182373046875
        ],
        [
         "Brooklyn",
         "2014-04-11 19:33:11",
         40.67526626586914,
         -73.9749755859375
        ],
        [
         "Brooklyn",
         "2014-04-11 19:33:22",
         40.70233154296875,
         -73.98651123046875
        ],
        [
         "Queens",
         "2014-04-11 19:36:37",
         40.75954055786133,
         -73.83036041259766
        ],
        [
         "Queens",
         "2014-04-11 19:36:42",
         40.76618576049805,
         -73.91991424560547
        ],
        [
         "Manhattan",
         "2014-04-11 19:39:41",
         40.853946685791016,
         -73.93388366699219
        ],
        [
         "Brooklyn",
         "2014-04-11 19:40:07",
         40.71428298950195,
         -73.9614028930664
        ],
        [
         "Queens",
         "2014-04-11 19:41:42",
         40.74360275268555,
         -73.953857421875
        ],
        [
         "Queens",
         "2014-04-11 19:43:49",
         40.77720260620117,
         -73.90937805175781
        ],
        [
         "Brooklyn",
         "2014-04-11 19:45:58",
         40.68734359741211,
         -73.99576568603516
        ],
        [
         "Brooklyn",
         "2014-04-11 19:46:39",
         40.693336486816406,
         -73.9791259765625
        ],
        [
         "Queens",
         "2014-04-11 19:49:21",
         40.746681213378906,
         -73.8914566040039
        ],
        [
         "Brooklyn",
         "2014-04-11 19:53:32",
         40.71548080444336,
         -73.95803833007812
        ],
        [
         "Queens",
         "2014-04-11 19:54:43",
         40.74849319458008,
         -73.93889617919922
        ],
        [
         "Bronx",
         "2014-04-11 19:56:34",
         40.820316314697266,
         -73.92976379394531
        ],
        [
         "Manhattan",
         "2014-04-11 19:59:00",
         40.806968688964844,
         -73.96099090576172
        ],
        [
         "Brooklyn",
         "2014-04-11 19:59:32",
         40.69363784790039,
         -73.9837875366211
        ],
        [
         "Queens",
         "2014-04-11 20:02:59",
         40.72154235839844,
         -73.84830474853516
        ],
        [
         "Queens",
         "2014-04-11 20:07:37",
         40.72111129760742,
         -73.84395599365234
        ],
        [
         "Queens",
         "2014-04-11 20:07:39",
         40.7496223449707,
         -73.88536071777344
        ],
        [
         "Manhattan",
         "2014-04-11 20:08:38",
         40.803218841552734,
         -73.96427917480469
        ],
        [
         "Queens",
         "2014-04-11 20:08:55",
         40.76144027709961,
         -73.91703033447266
        ],
        [
         "Manhattan",
         "2014-04-11 20:09:31",
         40.805328369140625,
         -73.9393081665039
        ],
        [
         "Manhattan",
         "2014-04-11 20:10:46",
         40.80326843261719,
         -73.93463134765625
        ],
        [
         "Manhattan",
         "2014-04-11 20:11:23",
         40.80510330200195,
         -73.93944549560547
        ],
        [
         "Brooklyn",
         "2014-04-11 20:12:22",
         40.71448516845703,
         -73.95722961425781
        ],
        [
         "Brooklyn",
         "2014-04-11 20:12:32",
         40.71458053588867,
         -73.94453430175781
        ],
        [
         "Manhattan",
         "2014-04-11 20:13:44",
         40.80794906616211,
         -73.94530487060547
        ],
        [
         "Bronx",
         "2014-04-11 20:17:07",
         40.85151672363281,
         -73.9087142944336
        ],
        [
         "Manhattan",
         "2014-04-11 20:18:08",
         40.79967498779297,
         -73.94074249267578
        ],
        [
         "Queens",
         "2014-04-11 20:19:18",
         40.733978271484375,
         -73.86927032470703
        ],
        [
         "Brooklyn",
         "2014-04-11 20:20:21",
         40.702327728271484,
         -73.98676300048828
        ],
        [
         "Manhattan",
         "2014-04-11 20:22:02",
         40.80861282348633,
         -73.94500732421875
        ],
        [
         "Queens",
         "2014-04-11 20:23:13",
         40.769996643066406,
         -73.91797637939453
        ],
        [
         "Manhattan",
         "2014-04-11 20:24:37",
         40.83740997314453,
         -73.94255065917969
        ],
        [
         "Brooklyn",
         "2014-04-11 20:25:20",
         40.70244598388672,
         -73.98670959472656
        ],
        [
         "Queens",
         "2014-04-11 20:26:44",
         40.733890533447266,
         -73.86920166015625
        ],
        [
         "Manhattan",
         "2014-04-11 20:26:50",
         40.80883026123047,
         -73.94825744628906
        ],
        [
         "Bronx",
         "2014-04-11 20:28:32",
         40.84001541137695,
         -73.91714477539062
        ],
        [
         "Queens",
         "2014-04-11 20:29:56",
         40.7688102722168,
         -73.91075897216797
        ],
        [
         "Brooklyn",
         "2014-04-11 20:35:44",
         40.6549072265625,
         -73.95940399169922
        ],
        [
         "Queens",
         "2014-04-11 20:36:03",
         40.75679016113281,
         -73.92071533203125
        ],
        [
         "Manhattan",
         "2014-04-11 20:37:29",
         40.78774642944336,
         -73.94951629638672
        ],
        [
         "Queens",
         "2014-04-11 20:40:20",
         40.756134033203125,
         -73.92424774169922
        ],
        [
         "Manhattan",
         "2014-04-11 20:41:17",
         40.788543701171875,
         -73.95313262939453
        ],
        [
         "Brooklyn",
         "2014-04-11 20:41:49",
         40.65259552001953,
         -73.92131042480469
        ],
        [
         "Bronx",
         "2014-04-11 20:43:03",
         40.83266830444336,
         -73.87342071533203
        ],
        [
         "Queens",
         "2014-04-11 20:45:10",
         40.73394775390625,
         -73.87076568603516
        ],
        [
         "Manhattan",
         "2014-04-11 20:45:19",
         40.79591369628906,
         -73.94772338867188
        ],
        [
         "Manhattan",
         "2014-04-11 20:49:59",
         40.802860260009766,
         -73.9637451171875
        ],
        [
         "Manhattan",
         "2014-04-11 20:51:09",
         40.80813980102539,
         -73.9451675415039
        ],
        [
         "Manhattan",
         "2014-04-11 20:52:24",
         40.8040657043457,
         -73.96661376953125
        ],
        [
         "Brooklyn",
         "2014-04-11 20:52:56",
         40.68663024902344,
         -73.99056243896484
        ],
        [
         "Manhattan",
         "2014-04-11 20:53:04",
         40.80787658691406,
         -73.9452896118164
        ],
        [
         "Brooklyn",
         "2014-04-11 20:57:15",
         40.71553039550781,
         -73.9601821899414
        ],
        [
         "Brooklyn",
         "2014-04-11 20:58:09",
         40.717987060546875,
         -73.95752716064453
        ],
        [
         "Brooklyn",
         "2014-04-11 21:03:08",
         40.68217086791992,
         -73.99357604980469
        ],
        [
         "Brooklyn",
         "2014-04-11 21:07:47",
         40.672950744628906,
         -73.97578430175781
        ],
        [
         "Brooklyn",
         "2014-04-11 21:08:39",
         40.72048568725586,
         -73.95469665527344
        ],
        [
         "Manhattan",
         "2014-04-11 21:12:01",
         40.80805587768555,
         -73.94536590576172
        ],
        [
         "Brooklyn",
         "2014-04-11 21:12:24",
         40.686222076416016,
         -73.97421264648438
        ],
        [
         "Brooklyn",
         "2014-04-11 21:14:02",
         40.68886947631836,
         -73.9888916015625
        ],
        [
         "Brooklyn",
         "2014-04-11 21:14:27",
         40.703880310058594,
         -73.9866714477539
        ],
        [
         "Brooklyn",
         "2014-04-11 21:15:39",
         40.69437026977539,
         -73.96112060546875
        ],
        [
         "Queens",
         "2014-04-11 21:17:00",
         40.7210807800293,
         -73.8441390991211
        ],
        [
         "Queens",
         "2014-04-11 21:17:38",
         40.74872589111328,
         -73.94223022460938
        ],
        [
         "Manhattan",
         "2014-04-11 21:18:30",
         40.80967712402344,
         -73.95161437988281
        ],
        [
         "Brooklyn",
         "2014-04-11 21:18:51",
         40.713314056396484,
         -73.96200561523438
        ],
        [
         "Bronx",
         "2014-04-11 21:19:27",
         40.828346252441406,
         -73.92176055908203
        ],
        [
         "Manhattan",
         "2014-04-11 21:20:16",
         40.866676330566406,
         -73.92061614990234
        ],
        [
         "Brooklyn",
         "2014-04-11 21:20:23",
         40.689048767089844,
         -73.95722961425781
        ],
        [
         "Brooklyn",
         "2014-04-11 21:20:24",
         40.71541213989258,
         -73.96033477783203
        ],
        [
         "Bronx",
         "2014-04-11 21:20:28",
         40.80668640136719,
         -73.9171142578125
        ],
        [
         "Queens",
         "2014-04-11 21:26:48",
         40.72148513793945,
         -73.84459686279297
        ],
        [
         "Manhattan",
         "2014-04-11 21:27:54",
         40.82713317871094,
         -73.94636535644531
        ],
        [
         "Queens",
         "2014-04-11 21:27:57",
         40.75779342651367,
         -73.85887145996094
        ],
        [
         "Bronx",
         "2014-04-11 21:29:08",
         40.851951599121094,
         -73.88465881347656
        ],
        [
         "Manhattan",
         "2014-04-11 21:31:09",
         40.80455780029297,
         -73.9377212524414
        ],
        [
         "Brooklyn",
         "2014-04-11 21:33:13",
         40.714664459228516,
         -73.96104431152344
        ],
        [
         "Manhattan",
         "2014-04-11 21:33:47",
         40.80290222167969,
         -73.9637222290039
        ],
        [
         "Brooklyn",
         "2014-04-11 21:35:01",
         40.709693908691406,
         -73.95873260498047
        ],
        [
         "Manhattan",
         "2014-04-11 21:35:56",
         40.79988098144531,
         -73.94465637207031
        ],
        [
         "Queens",
         "2014-04-11 21:40:02",
         40.75797653198242,
         -73.9166030883789
        ],
        [
         "Queens",
         "2014-04-11 21:40:17",
         40.7351188659668,
         -73.87416076660156
        ],
        [
         "Queens",
         "2014-04-11 21:41:18",
         40.74491882324219,
         -73.93199920654297
        ],
        [
         "Brooklyn",
         "2014-04-11 21:41:56",
         40.70286178588867,
         -73.99418640136719
        ],
        [
         "Manhattan",
         "2014-04-11 21:42:37",
         40.84384536743164,
         -73.93905639648438
        ],
        [
         "Manhattan",
         "2014-04-11 21:43:22",
         40.84123611450195,
         -73.93977355957031
        ],
        [
         "Queens",
         "2014-04-11 21:43:35",
         40.762420654296875,
         -73.9161605834961
        ],
        [
         "Brooklyn",
         "2014-04-11 21:44:26",
         40.69027328491211,
         -73.98772430419922
        ],
        [
         "Queens",
         "2014-04-11 21:47:52",
         40.75527572631836,
         -73.92245483398438
        ],
        [
         "Queens",
         "2014-04-11 21:48:07",
         40.75409698486328,
         -73.94221496582031
        ],
        [
         "Brooklyn",
         "2014-04-11 21:52:01",
         40.71402359008789,
         -73.95965576171875
        ],
        [
         "Manhattan",
         "2014-04-11 21:52:50",
         40.840938568115234,
         -73.94002532958984
        ],
        [
         "Brooklyn",
         "2014-04-11 21:53:03",
         40.70299530029297,
         -73.99446868896484
        ],
        [
         "Brooklyn",
         "2014-04-11 21:53:48",
         40.681373596191406,
         -73.9653091430664
        ],
        [
         "Brooklyn",
         "2014-04-11 21:54:01",
         40.708858489990234,
         -73.95951080322266
        ],
        [
         "Brooklyn",
         "2014-04-11 21:56:52",
         40.72161102294922,
         -73.95079040527344
        ],
        [
         "Queens",
         "2014-04-11 22:00:06",
         40.70011901855469,
         -73.80742645263672
        ],
        [
         "Manhattan",
         "2014-04-11 22:00:08",
         40.80592346191406,
         -73.95429229736328
        ],
        [
         "Manhattan",
         "2014-04-11 22:01:40",
         40.800106048583984,
         -73.95093536376953
        ],
        [
         "Manhattan",
         "2014-04-11 22:04:45",
         40.80707931518555,
         -73.96082305908203
        ],
        [
         "Brooklyn",
         "2014-04-11 22:06:41",
         40.7113037109375,
         -73.94804382324219
        ],
        [
         "Queens",
         "2014-04-11 22:09:55",
         40.699066162109375,
         -73.80720520019531
        ],
        [
         "Brooklyn",
         "2014-04-11 22:10:06",
         40.678314208984375,
         -73.97602081298828
        ],
        [
         "Brooklyn",
         "2014-04-11 22:10:25",
         40.723331451416016,
         -73.95178985595703
        ],
        [
         "Queens",
         "2014-04-11 22:13:49",
         40.76667404174805,
         -73.92134857177734
        ],
        [
         "Manhattan",
         "2014-04-11 22:14:59",
         40.83976364135742,
         -73.94092559814453
        ],
        [
         "Queens",
         "2014-04-11 22:15:44",
         40.763370513916016,
         -73.92852783203125
        ],
        [
         "Manhattan",
         "2014-04-11 22:16:03",
         40.812530517578125,
         -73.95687866210938
        ],
        [
         "Queens",
         "2014-04-11 22:21:09",
         40.77204513549805,
         -73.92244720458984
        ],
        [
         "Queens",
         "2014-04-11 22:21:17",
         40.742897033691406,
         -73.91800689697266
        ],
        [
         "Manhattan",
         "2014-04-11 22:23:35",
         40.805484771728516,
         -73.9393310546875
        ],
        [
         "Manhattan",
         "2014-04-11 22:29:56",
         40.7971076965332,
         -73.93773651123047
        ],
        [
         "Queens",
         "2014-04-11 22:32:14",
         40.756900787353516,
         -73.92562866210938
        ],
        [
         "Queens",
         "2014-04-11 22:33:06",
         40.70041275024414,
         -73.80811309814453
        ],
        [
         "Manhattan",
         "2014-04-11 22:40:43",
         40.806758880615234,
         -73.9611587524414
        ],
        [
         "Brooklyn",
         "2014-04-11 22:42:48",
         40.702362060546875,
         -73.9875259399414
        ],
        [
         "Manhattan",
         "2014-04-11 22:44:18",
         40.804325103759766,
         -73.95506286621094
        ],
        [
         "Queens",
         "2014-04-11 22:45:12",
         40.7589111328125,
         -73.91915130615234
        ],
        [
         "Brooklyn",
         "2014-04-11 22:45:23",
         40.67650604248047,
         -73.9803695678711
        ],
        [
         "Brooklyn",
         "2014-04-11 22:51:40",
         40.67244338989258,
         -73.97699737548828
        ],
        [
         "Manhattan",
         "2014-04-11 22:52:49",
         40.811256408691406,
         -73.950439453125
        ],
        [
         "Bronx",
         "2014-04-11 22:54:11",
         40.80730438232422,
         -73.92435455322266
        ],
        [
         "Queens",
         "2014-04-11 22:54:22",
         40.766273498535156,
         -73.919677734375
        ],
        [
         "Manhattan",
         "2014-04-11 22:55:43",
         40.79823684692383,
         -73.93380737304688
        ],
        [
         "Queens",
         "2014-04-11 22:57:40",
         40.77293014526367,
         -73.90613555908203
        ],
        [
         "Queens",
         "2014-04-11 23:01:17",
         40.72969055175781,
         -73.855224609375
        ],
        [
         "Manhattan",
         "2014-04-11 23:05:32",
         40.82344055175781,
         -73.93769073486328
        ],
        [
         "Manhattan",
         "2014-04-11 23:07:40",
         40.80760955810547,
         -73.94552612304688
        ],
        [
         "Brooklyn",
         "2014-04-11 23:10:03",
         40.710365295410156,
         -73.96306610107422
        ],
        [
         "Manhattan",
         "2014-04-11 23:12:26",
         40.79328536987305,
         -73.95182037353516
        ],
        [
         "Brooklyn",
         "2014-04-11 23:12:26",
         40.736698150634766,
         -73.95536804199219
        ],
        [
         "Brooklyn",
         "2014-04-11 23:14:26",
         40.692142486572266,
         -73.96373748779297
        ],
        [
         "Brooklyn",
         "2014-04-11 23:15:28",
         40.68101119995117,
         -73.99433135986328
        ],
        [
         "Brooklyn",
         "2014-04-11 23:18:59",
         40.72338104248047,
         -73.95156860351562
        ],
        [
         "Brooklyn",
         "2014-04-11 23:24:04",
         40.71199035644531,
         -73.96363830566406
        ],
        [
         "Queens",
         "2014-04-11 23:25:46",
         40.71947479248047,
         -73.84515380859375
        ],
        [
         "Brooklyn",
         "2014-04-11 23:25:48",
         40.71803283691406,
         -73.9596939086914
        ],
        [
         "Queens",
         "2014-04-11 23:26:29",
         40.721046447753906,
         -73.84414672851562
        ],
        [
         "Brooklyn",
         "2014-04-11 23:27:01",
         40.706993103027344,
         -73.95377349853516
        ],
        [
         "Queens",
         "2014-04-11 23:29:06",
         40.77018356323242,
         -73.91829681396484
        ],
        [
         "Brooklyn",
         "2014-04-11 23:31:37",
         40.714599609375,
         -73.96136474609375
        ],
        [
         "Manhattan",
         "2014-04-11 23:34:53",
         40.809356689453125,
         -73.95304870605469
        ],
        [
         "Bronx",
         "2014-04-11 23:36:08",
         40.830055236816406,
         -73.92475891113281
        ],
        [
         "Bronx",
         "2014-04-11 23:37:24",
         40.83442687988281,
         -73.82914733886719
        ],
        [
         "Manhattan",
         "2014-04-11 23:38:14",
         40.80928039550781,
         -73.95907592773438
        ],
        [
         "Manhattan",
         "2014-04-11 23:42:33",
         40.80769729614258,
         -73.94572448730469
        ],
        [
         "Queens",
         "2014-04-11 23:43:39",
         40.75343322753906,
         -73.90657806396484
        ],
        [
         "Brooklyn",
         "2014-04-11 23:45:11",
         40.674072265625,
         -73.982177734375
        ],
        [
         "Queens",
         "2014-04-11 23:46:30",
         40.76304626464844,
         -73.92764282226562
        ],
        [
         "Brooklyn",
         "2014-04-11 23:48:27",
         40.680946350097656,
         -73.95563507080078
        ],
        [
         "Brooklyn",
         "2014-04-11 23:51:20",
         40.67166519165039,
         -73.98416900634766
        ],
        [
         "Brooklyn",
         "2014-04-11 23:51:43",
         40.71428680419922,
         -73.95162963867188
        ],
        [
         "Bronx",
         "2014-04-11 23:54:05",
         40.84017562866211,
         -73.91751098632812
        ],
        [
         "Manhattan",
         "2014-04-11 23:54:49",
         40.86751174926758,
         -73.92156219482422
        ],
        [
         "Queens",
         "2014-04-11 23:59:20",
         40.74533462524414,
         -73.90351867675781
        ],
        [
         "Queens",
         "2014-04-11 23:59:42",
         40.74176025390625,
         -73.90467834472656
        ],
        [
         "Brooklyn",
         "2014-04-12 00:02:44",
         40.69724655151367,
         -73.99177551269531
        ],
        [
         "Queens",
         "2014-04-12 00:06:26",
         40.71359634399414,
         -73.83023071289062
        ],
        [
         "Brooklyn",
         "2014-04-12 00:07:04",
         40.6341552734375,
         -74.01482391357422
        ],
        [
         "Manhattan",
         "2014-04-12 00:14:21",
         40.830810546875,
         -73.94745635986328
        ],
        [
         "Brooklyn",
         "2014-04-12 00:19:08",
         40.71310043334961,
         -73.96206665039062
        ],
        [
         "Queens",
         "2014-04-12 00:22:46",
         40.74665069580078,
         -73.89138793945312
        ],
        [
         "Brooklyn",
         "2014-04-12 00:25:40",
         40.68108367919922,
         -73.95510864257812
        ],
        [
         "Manhattan",
         "2014-04-12 00:26:19",
         40.78507614135742,
         -73.94344329833984
        ],
        [
         "Brooklyn",
         "2014-04-12 00:27:04",
         40.71710205078125,
         -73.96087646484375
        ],
        [
         "Bronx",
         "2014-04-12 00:28:31",
         40.85301208496094,
         -73.90484619140625
        ],
        [
         "Brooklyn",
         "2014-04-12 00:29:35",
         40.71526336669922,
         -73.96051788330078
        ],
        [
         "Manhattan",
         "2014-04-12 00:29:52",
         40.796844482421875,
         -73.93473052978516
        ],
        [
         "Queens",
         "2014-04-12 00:30:37",
         40.75950241088867,
         -73.83036041259766
        ],
        [
         "Queens",
         "2014-04-12 00:33:45",
         40.754337310791016,
         -73.8963394165039
        ],
        [
         "Queens",
         "2014-04-12 00:35:44",
         40.72099685668945,
         -73.84407806396484
        ],
        [
         "Queens",
         "2014-04-12 00:38:26",
         40.746971130371094,
         -73.8912582397461
        ],
        [
         "Brooklyn",
         "2014-04-12 00:38:50",
         40.72096252441406,
         -73.95669555664062
        ],
        [
         "Manhattan",
         "2014-04-12 00:39:26",
         40.79315185546875,
         -73.94574737548828
        ],
        [
         "Queens",
         "2014-04-12 00:41:45",
         40.76178741455078,
         -73.9149398803711
        ],
        [
         "Queens",
         "2014-04-12 00:42:34",
         40.74114227294922,
         -73.87995910644531
        ],
        [
         "Brooklyn",
         "2014-04-12 00:48:32",
         40.72184753417969,
         -73.95801544189453
        ],
        [
         "Brooklyn",
         "2014-04-12 00:51:05",
         40.690818786621094,
         -73.9959716796875
        ],
        [
         "Brooklyn",
         "2014-04-12 00:52:35",
         40.71443176269531,
         -73.96501922607422
        ],
        [
         "Brooklyn",
         "2014-04-12 00:54:23",
         40.692138671875,
         -73.9696044921875
        ],
        [
         "Bronx",
         "2014-04-12 00:56:40",
         40.85777282714844,
         -73.85426330566406
        ],
        [
         "Queens",
         "2014-04-12 00:57:14",
         40.70661544799805,
         -73.9168701171875
        ],
        [
         "Manhattan",
         "2014-04-12 00:57:21",
         40.80400848388672,
         -73.93656158447266
        ],
        [
         "Queens",
         "2014-04-12 00:58:27",
         40.764896392822266,
         -73.91700744628906
        ],
        [
         "Brooklyn",
         "2014-04-12 00:59:25",
         40.71908950805664,
         -73.9609603881836
        ],
        [
         "Brooklyn",
         "2014-04-12 01:00:22",
         40.575958251953125,
         -73.99984741210938
        ],
        [
         "Brooklyn",
         "2014-04-12 01:01:23",
         40.7169075012207,
         -73.95868682861328
        ],
        [
         "Brooklyn",
         "2014-04-12 01:03:48",
         40.68013000488281,
         -73.94328308105469
        ],
        [
         "Queens",
         "2014-04-12 01:04:35",
         40.76681137084961,
         -73.9212875366211
        ],
        [
         "Brooklyn",
         "2014-04-12 01:10:46",
         40.72373962402344,
         -73.95082092285156
        ],
        [
         "Brooklyn",
         "2014-04-12 01:10:46",
         40.71714782714844,
         -73.9606704711914
        ],
        [
         "Brooklyn",
         "2014-04-12 01:10:58",
         40.71468734741211,
         -73.95170593261719
        ],
        [
         "Brooklyn",
         "2014-04-12 01:12:52",
         40.71187210083008,
         -73.94058990478516
        ],
        [
         "Queens",
         "2014-04-12 01:13:46",
         40.749359130859375,
         -73.8690185546875
        ],
        [
         "Bronx",
         "2014-04-12 01:15:36",
         40.81873321533203,
         -73.84788513183594
        ],
        [
         "Queens",
         "2014-04-12 01:19:22",
         40.71623229980469,
         -73.83325958251953
        ],
        [
         "Brooklyn",
         "2014-04-12 01:25:04",
         40.68406677246094,
         -73.99225616455078
        ],
        [
         "Brooklyn",
         "2014-04-12 01:29:11",
         40.68450164794922,
         -73.97821044921875
        ],
        [
         "Queens",
         "2014-04-12 01:30:59",
         40.755821228027344,
         -73.93033599853516
        ],
        [
         "Queens",
         "2014-04-12 01:31:01",
         40.74900436401367,
         -73.86959075927734
        ],
        [
         "Queens",
         "2014-04-12 01:31:58",
         40.74974060058594,
         -73.88419342041016
        ],
        [
         "Brooklyn",
         "2014-04-12 01:32:02",
         40.701873779296875,
         -73.9896240234375
        ],
        [
         "Queens",
         "2014-04-12 01:36:28",
         40.74830627441406,
         -73.8773193359375
        ],
        [
         "Queens",
         "2014-04-12 01:37:53",
         40.75714874267578,
         -73.86097717285156
        ],
        [
         "Queens",
         "2014-04-12 01:38:56",
         40.74695587158203,
         -73.89093017578125
        ],
        [
         "Brooklyn",
         "2014-04-12 01:46:08",
         40.690860748291016,
         -73.9893569946289
        ],
        [
         "Brooklyn",
         "2014-04-12 01:46:58",
         40.693241119384766,
         -73.97168731689453
        ],
        [
         "Manhattan",
         "2014-04-12 01:49:52",
         40.80461883544922,
         -73.95526885986328
        ],
        [
         "Brooklyn",
         "2014-04-12 01:51:59",
         40.721961975097656,
         -73.95777130126953
        ],
        [
         "Brooklyn",
         "2014-04-12 01:54:20",
         40.70665740966797,
         -73.92302703857422
        ],
        [
         "Brooklyn",
         "2014-04-12 01:54:28",
         40.70761489868164,
         -73.92921447753906
        ],
        [
         "Manhattan",
         "2014-04-12 01:54:47",
         40.80510711669922,
         -73.93893432617188
        ],
        [
         "Brooklyn",
         "2014-04-12 01:56:55",
         40.687400817871094,
         -73.9732894897461
        ],
        [
         "Bronx",
         "2014-04-12 01:57:53",
         40.82701873779297,
         -73.82245635986328
        ],
        [
         "Brooklyn",
         "2014-04-12 01:58:43",
         40.680816650390625,
         -73.96236419677734
        ],
        [
         "Brooklyn",
         "2014-04-12 02:02:33",
         40.58737564086914,
         -73.9540786743164
        ],
        [
         "Queens",
         "2014-04-12 02:04:20",
         40.748958587646484,
         -73.87155151367188
        ],
        [
         "Brooklyn",
         "2014-04-12 02:05:13",
         40.72246170043945,
         -73.95490264892578
        ],
        [
         "Brooklyn",
         "2014-04-12 02:06:31",
         40.676292419433594,
         -73.98065948486328
        ],
        [
         "Brooklyn",
         "2014-04-12 02:06:37",
         40.664188385009766,
         -73.99047088623047
        ],
        [
         "Queens",
         "2014-04-12 02:09:41",
         40.755916595458984,
         -73.88272094726562
        ],
        [
         "Manhattan",
         "2014-04-12 02:11:58",
         40.80175018310547,
         -73.93717956542969
        ],
        [
         "Queens",
         "2014-04-12 02:22:57",
         40.74219512939453,
         -73.91900634765625
        ],
        [
         "Brooklyn",
         "2014-04-12 02:28:03",
         40.71318054199219,
         -73.96211242675781
        ],
        [
         "Queens",
         "2014-04-12 02:29:39",
         40.76184844970703,
         -73.9256362915039
        ],
        [
         "Manhattan",
         "2014-04-12 02:35:43",
         40.86576461791992,
         -73.92664337158203
        ],
        [
         "Queens",
         "2014-04-12 02:37:50",
         40.76222229003906,
         -73.92575073242188
        ],
        [
         "Queens",
         "2014-04-12 02:39:48",
         40.761985778808594,
         -73.92538452148438
        ],
        [
         "Brooklyn",
         "2014-04-12 02:50:53",
         40.7109260559082,
         -73.96348571777344
        ],
        [
         "Brooklyn",
         "2014-04-12 02:54:34",
         40.72986602783203,
         -73.9574966430664
        ],
        [
         "Brooklyn",
         "2014-04-12 02:55:39",
         40.68534851074219,
         -73.9809341430664
        ],
        [
         "Manhattan",
         "2014-04-12 02:58:58",
         40.84722137451172,
         -73.93521118164062
        ],
        [
         "Brooklyn",
         "2014-04-12 03:00:12",
         40.71452331542969,
         -73.9460220336914
        ],
        [
         "Queens",
         "2014-04-12 03:02:23",
         40.72027587890625,
         -73.84490203857422
        ],
        [
         "Manhattan",
         "2014-04-12 03:04:43",
         40.821712493896484,
         -73.95756530761719
        ],
        [
         "Brooklyn",
         "2014-04-12 03:05:01",
         40.70746994018555,
         -73.94231414794922
        ],
        [
         "Queens",
         "2014-04-12 03:07:13",
         40.77035140991211,
         -73.91798400878906
        ],
        [
         "Brooklyn",
         "2014-04-12 03:08:20",
         40.722007751464844,
         -73.95785522460938
        ],
        [
         "Queens",
         "2014-04-12 03:08:21",
         40.725528717041016,
         -73.85114288330078
        ],
        [
         "Queens",
         "2014-04-12 03:09:32",
         40.746849060058594,
         -73.89227294921875
        ],
        [
         "Manhattan",
         "2014-04-12 03:10:48",
         40.807701110839844,
         -73.96399688720703
        ],
        [
         "Queens",
         "2014-04-12 03:17:24",
         40.755401611328125,
         -73.92529296875
        ],
        [
         "Brooklyn",
         "2014-04-12 03:24:52",
         40.710235595703125,
         -73.96355438232422
        ],
        [
         "Queens",
         "2014-04-12 03:31:50",
         40.7618408203125,
         -73.9254150390625
        ],
        [
         "Queens",
         "2014-04-12 03:35:08",
         40.77577209472656,
         -73.90239715576172
        ],
        [
         "Queens",
         "2014-04-12 03:36:17",
         40.76563262939453,
         -73.91348266601562
        ],
        [
         "Queens",
         "2014-04-12 03:42:59",
         40.75722885131836,
         -73.92031860351562
        ],
        [
         "Queens",
         "2014-04-12 03:45:51",
         40.737525939941406,
         -73.88248443603516
        ],
        [
         "Manhattan",
         "2014-04-12 03:45:52",
         40.829044342041016,
         -73.94842529296875
        ],
        [
         "Brooklyn",
         "2014-04-12 03:54:07",
         40.71403503417969,
         -73.95503234863281
        ],
        [
         "Queens",
         "2014-04-12 03:54:47",
         40.775543212890625,
         -73.90971374511719
        ],
        [
         "Brooklyn",
         "2014-04-12 03:57:12",
         40.69430923461914,
         -73.98956298828125
        ],
        [
         "Brooklyn",
         "2014-04-12 03:58:46",
         40.690460205078125,
         -73.98780822753906
        ],
        [
         "Manhattan",
         "2014-04-12 04:02:39",
         40.84722137451172,
         -73.93521118164062
        ],
        [
         "Brooklyn",
         "2014-04-12 04:03:34",
         40.67870330810547,
         -73.95885467529297
        ],
        [
         "Brooklyn",
         "2014-04-12 04:08:47",
         40.71936798095703,
         -73.95614624023438
        ],
        [
         "Queens",
         "2014-04-12 04:11:31",
         40.700111389160156,
         -73.80735778808594
        ],
        [
         "Bronx",
         "2014-04-12 04:12:17",
         40.812225341796875,
         -73.90837860107422
        ],
        [
         "Queens",
         "2014-04-12 04:13:54",
         40.70064163208008,
         -73.81591796875
        ],
        [
         "Brooklyn",
         "2014-04-12 04:14:06",
         40.72216033935547,
         -73.95764923095703
        ],
        [
         "Brooklyn",
         "2014-04-12 04:14:20",
         40.70651626586914,
         -73.9227523803711
        ],
        [
         "Brooklyn",
         "2014-04-12 04:16:49",
         40.71950149536133,
         -73.95579528808594
        ],
        [
         "Brooklyn",
         "2014-04-12 04:25:47",
         40.71681594848633,
         -73.96109771728516
        ],
        [
         "Queens",
         "2014-04-12 04:26:13",
         40.761539459228516,
         -73.92427062988281
        ],
        [
         "Brooklyn",
         "2014-04-12 04:33:08",
         40.674808502197266,
         -73.98143005371094
        ],
        [
         "Manhattan",
         "2014-04-12 04:34:41",
         40.80594253540039,
         -73.95413970947266
        ],
        [
         "Queens",
         "2014-04-12 04:39:07",
         40.76106643676758,
         -73.92363739013672
        ],
        [
         "Bronx",
         "2014-04-12 04:41:15",
         40.82340621948242,
         -73.9090576171875
        ],
        [
         "Queens",
         "2014-04-12 04:49:59",
         40.7497673034668,
         -73.89873504638672
        ],
        [
         "Brooklyn",
         "2014-04-12 05:08:41",
         40.692325592041016,
         -73.98725128173828
        ],
        [
         "Queens",
         "2014-04-12 05:13:54",
         40.75667190551758,
         -73.91436767578125
        ],
        [
         "Queens",
         "2014-04-12 05:24:47",
         40.75958251953125,
         -73.83039093017578
        ],
        [
         "Queens",
         "2014-04-12 05:27:18",
         40.747413635253906,
         -73.88651275634766
        ],
        [
         "Bronx",
         "2014-04-12 05:44:34",
         40.87971496582031,
         -73.91778564453125
        ],
        [
         "Bronx",
         "2014-04-12 05:49:05",
         40.84516525268555,
         -73.91083526611328
        ],
        [
         "Bronx",
         "2014-04-12 05:49:40",
         40.8564338684082,
         -73.86763763427734
        ],
        [
         "Bronx",
         "2014-04-12 06:09:47",
         40.81787872314453,
         -73.9250717163086
        ],
        [
         "Manhattan",
         "2014-04-12 06:10:24",
         40.7904167175293,
         -73.95183563232422
        ],
        [
         "Queens",
         "2014-04-12 06:10:24",
         40.75662612915039,
         -73.92646026611328
        ],
        [
         "Queens",
         "2014-04-12 06:22:00",
         40.73930740356445,
         -73.88938903808594
        ],
        [
         "Brooklyn",
         "2014-04-12 06:25:44",
         40.587547302246094,
         -73.95435333251953
        ],
        [
         "Queens",
         "2014-04-12 06:49:46",
         40.759700775146484,
         -73.82988739013672
        ],
        [
         "Manhattan",
         "2014-04-12 06:56:10",
         40.80743408203125,
         -73.9458236694336
        ],
        [
         "Brooklyn",
         "2014-04-12 06:58:09",
         40.691688537597656,
         -73.91393280029297
        ],
        [
         "Brooklyn",
         "2014-04-12 07:02:28",
         40.66988754272461,
         -73.95861053466797
        ],
        [
         "Queens",
         "2014-04-12 07:09:21",
         40.7255859375,
         -73.85066223144531
        ],
        [
         "Manhattan",
         "2014-04-12 07:19:15",
         40.820526123046875,
         -73.93655395507812
        ],
        [
         "Manhattan",
         "2014-04-12 07:40:50",
         40.809818267822266,
         -73.9439926147461
        ],
        [
         "Queens",
         "2014-04-12 07:42:02",
         40.72140121459961,
         -73.84427642822266
        ],
        [
         "Brooklyn",
         "2014-04-12 07:47:40",
         40.70237350463867,
         -73.98979187011719
        ],
        [
         "Queens",
         "2014-04-12 07:48:55",
         40.73002243041992,
         -73.82366180419922
        ],
        [
         "Bronx",
         "2014-04-12 07:51:44",
         40.833961486816406,
         -73.91561889648438
        ],
        [
         "Queens",
         "2014-04-12 08:11:17",
         40.75434875488281,
         -73.94210815429688
        ],
        [
         "Bronx",
         "2014-04-12 08:11:35",
         40.850914001464844,
         -73.9148941040039
        ],
        [
         "Queens",
         "2014-04-12 08:18:24",
         40.73551940917969,
         -73.92257690429688
        ],
        [
         "Bronx",
         "2014-04-12 08:22:37",
         40.82450485229492,
         -73.91015625
        ],
        [
         "Brooklyn",
         "2014-04-12 08:23:41",
         40.685489654541016,
         -73.98088073730469
        ],
        [
         "Manhattan",
         "2014-04-12 08:28:56",
         40.79646682739258,
         -73.93206024169922
        ],
        [
         "Queens",
         "2014-04-12 08:30:13",
         40.74812316894531,
         -73.88123321533203
        ],
        [
         "Manhattan",
         "2014-04-12 08:34:50",
         40.798492431640625,
         -73.9417953491211
        ],
        [
         "Queens",
         "2014-04-12 08:35:22",
         40.74474334716797,
         -73.95674133300781
        ],
        [
         "Queens",
         "2014-04-12 08:38:55",
         40.71767044067383,
         -73.80368041992188
        ],
        [
         "Queens",
         "2014-04-12 08:43:37",
         40.76587677001953,
         -73.91905212402344
        ],
        [
         "Queens",
         "2014-04-12 08:43:50",
         40.744834899902344,
         -73.94952392578125
        ],
        [
         "Manhattan",
         "2014-04-12 08:45:48",
         40.805885314941406,
         -73.94082641601562
        ],
        [
         "Manhattan",
         "2014-04-12 08:52:05",
         40.841773986816406,
         -73.9415512084961
        ],
        [
         "Manhattan",
         "2014-04-12 09:03:16",
         40.83112716674805,
         -73.9358901977539
        ],
        [
         "Brooklyn",
         "2014-04-12 09:09:16",
         40.7144660949707,
         -73.95758819580078
        ],
        [
         "Manhattan",
         "2014-04-12 09:10:03",
         40.85747146606445,
         -73.93534088134766
        ],
        [
         "Manhattan",
         "2014-04-12 09:46:14",
         40.84067153930664,
         -73.93702697753906
        ],
        [
         "Queens",
         "2014-04-12 09:49:28",
         40.759521484375,
         -73.83063507080078
        ],
        [
         "Bronx",
         "2014-04-12 09:49:37",
         40.82626724243164,
         -73.9205093383789
        ],
        [
         "Brooklyn",
         "2014-04-12 09:53:09",
         40.70234680175781,
         -73.98974609375
        ],
        [
         "Brooklyn",
         "2014-04-12 09:54:01",
         40.69369125366211,
         -73.96391296386719
        ],
        [
         "Manhattan",
         "2014-04-12 09:55:33",
         40.788917541503906,
         -73.9486312866211
        ],
        [
         "Queens",
         "2014-04-12 09:57:19",
         40.74878692626953,
         -73.93739318847656
        ],
        [
         "Manhattan",
         "2014-04-12 10:03:18",
         40.823238372802734,
         -73.94306182861328
        ],
        [
         "Queens",
         "2014-04-12 10:05:29",
         40.74159240722656,
         -73.88057708740234
        ],
        [
         "Queens",
         "2014-04-12 10:06:34",
         40.74994659423828,
         -73.8624496459961
        ],
        [
         "Queens",
         "2014-04-12 10:19:32",
         40.757625579833984,
         -73.86099243164062
        ],
        [
         "Queens",
         "2014-04-12 10:19:47",
         40.754608154296875,
         -73.89430236816406
        ],
        [
         "Queens",
         "2014-04-12 10:20:57",
         40.766780853271484,
         -73.92143249511719
        ],
        [
         "Brooklyn",
         "2014-04-12 10:25:34",
         40.70247268676758,
         -73.98677062988281
        ],
        [
         "Queens",
         "2014-04-12 10:27:18",
         40.75885772705078,
         -73.9190444946289
        ],
        [
         "Brooklyn",
         "2014-04-12 10:29:27",
         40.67196273803711,
         -74.01043701171875
        ],
        [
         "Manhattan",
         "2014-04-12 10:32:21",
         40.824527740478516,
         -73.94580078125
        ],
        [
         "Queens",
         "2014-04-12 10:34:08",
         40.74545669555664,
         -73.90337371826172
        ],
        [
         "Manhattan",
         "2014-04-12 10:35:41",
         40.805023193359375,
         -73.93892669677734
        ],
        [
         "Manhattan",
         "2014-04-12 10:36:18",
         40.81507873535156,
         -73.95885467529297
        ],
        [
         "Manhattan",
         "2014-04-12 10:38:27",
         40.805320739746094,
         -73.93875885009766
        ],
        [
         "Manhattan",
         "2014-04-12 10:40:20",
         40.80110168457031,
         -73.9399185180664
        ],
        [
         "Manhattan",
         "2014-04-12 10:40:21",
         40.78999328613281,
         -73.95441436767578
        ],
        [
         "Bronx",
         "2014-04-12 10:40:47",
         40.82307815551758,
         -73.92849731445312
        ],
        [
         "Manhattan",
         "2014-04-12 10:43:59",
         40.79812240600586,
         -73.93988800048828
        ],
        [
         "Manhattan",
         "2014-04-12 10:45:04",
         40.78535079956055,
         -73.94947814941406
        ],
        [
         "Queens",
         "2014-04-12 10:51:00",
         40.74407958984375,
         -73.95372772216797
        ],
        [
         "Manhattan",
         "2014-04-12 10:53:12",
         40.80771255493164,
         -73.94523620605469
        ],
        [
         "Brooklyn",
         "2014-04-12 10:54:17",
         40.692726135253906,
         -73.9909439086914
        ],
        [
         "Queens",
         "2014-04-12 10:56:14",
         40.755836486816406,
         -73.92366027832031
        ],
        [
         "Queens",
         "2014-04-12 11:00:55",
         40.74656677246094,
         -73.89098358154297
        ],
        [
         "Manhattan",
         "2014-04-12 11:04:06",
         40.80033874511719,
         -73.94677734375
        ],
        [
         "Brooklyn",
         "2014-04-12 11:06:53",
         40.70357894897461,
         -73.98037719726562
        ],
        [
         "Manhattan",
         "2014-04-12 11:07:13",
         40.786346435546875,
         -73.94843292236328
        ],
        [
         "Manhattan",
         "2014-04-12 11:07:27",
         40.78609848022461,
         -73.9511947631836
        ],
        [
         "Bronx",
         "2014-04-12 11:11:47",
         40.83147048950195,
         -73.90552520751953
        ],
        [
         "Manhattan",
         "2014-04-12 11:12:05",
         40.807735443115234,
         -73.95948028564453
        ],
        [
         "Brooklyn",
         "2014-04-12 11:17:25",
         40.71257400512695,
         -73.96243286132812
        ],
        [
         "Queens",
         "2014-04-12 11:18:09",
         40.77226638793945,
         -73.91561126708984
        ],
        [
         "Manhattan",
         "2014-04-12 11:18:12",
         40.81895065307617,
         -73.95246887207031
        ],
        [
         "Brooklyn",
         "2014-04-12 11:23:10",
         40.71662139892578,
         -73.95906829833984
        ],
        [
         "Bronx",
         "2014-04-12 11:29:33",
         40.81755065917969,
         -73.92312622070312
        ],
        [
         "Manhattan",
         "2014-04-12 11:30:05",
         40.808860778808594,
         -73.94811248779297
        ],
        [
         "Queens",
         "2014-04-12 11:30:18",
         40.74846649169922,
         -73.9386215209961
        ],
        [
         "Manhattan",
         "2014-04-12 11:31:17",
         40.80434799194336,
         -73.96697235107422
        ],
        [
         "Bronx",
         "2014-04-12 11:43:48",
         40.85272979736328,
         -73.82726287841797
        ],
        [
         "Bronx",
         "2014-04-12 11:45:43",
         40.82249069213867,
         -73.91964721679688
        ],
        [
         "Bronx",
         "2014-04-12 11:56:53",
         40.815673828125,
         -73.92369079589844
        ],
        [
         "Queens",
         "2014-04-12 12:00:42",
         40.74616622924805,
         -73.89717102050781
        ],
        [
         "Brooklyn",
         "2014-04-12 12:08:44",
         40.688018798828125,
         -73.99319458007812
        ],
        [
         "Queens",
         "2014-04-12 12:13:54",
         40.761043548583984,
         -73.91748046875
        ],
        [
         "Manhattan",
         "2014-04-12 12:17:38",
         40.79258346557617,
         -73.95026397705078
        ],
        [
         "Manhattan",
         "2014-04-12 12:17:52",
         40.82030487060547,
         -73.94373321533203
        ],
        [
         "Manhattan",
         "2014-04-12 12:20:21",
         40.809226989746094,
         -73.95197296142578
        ],
        [
         "Bronx",
         "2014-04-12 12:22:33",
         40.8155517578125,
         -73.92601013183594
        ],
        [
         "Manhattan",
         "2014-04-12 12:22:38",
         40.78718948364258,
         -73.95182800292969
        ],
        [
         "Queens",
         "2014-04-12 12:26:18",
         40.76617431640625,
         -73.91996002197266
        ],
        [
         "Brooklyn",
         "2014-04-12 12:35:33",
         40.684661865234375,
         -73.97815704345703
        ],
        [
         "Manhattan",
         "2014-04-12 12:37:52",
         40.85767364501953,
         -73.93199157714844
        ],
        [
         "Queens",
         "2014-04-12 12:38:01",
         40.74214553833008,
         -73.95587158203125
        ],
        [
         "Bronx",
         "2014-04-12 12:40:07",
         40.862281799316406,
         -73.89610290527344
        ],
        [
         "Manhattan",
         "2014-04-12 12:44:36",
         40.80032730102539,
         -73.95806121826172
        ],
        [
         "Manhattan",
         "2014-04-12 12:46:42",
         40.79079818725586,
         -73.95365142822266
        ],
        [
         "Manhattan",
         "2014-04-12 12:48:10",
         40.843833923339844,
         -73.93901824951172
        ],
        [
         "Manhattan",
         "2014-04-12 12:48:26",
         40.79351043701172,
         -73.93711853027344
        ],
        [
         "Manhattan",
         "2014-04-12 12:51:03",
         40.787353515625,
         -73.95410919189453
        ],
        [
         "Manhattan",
         "2014-04-12 12:55:12",
         40.809654235839844,
         -73.95928955078125
        ],
        [
         "Manhattan",
         "2014-04-12 13:00:10",
         40.8486328125,
         -73.93748474121094
        ],
        [
         "Manhattan",
         "2014-04-12 13:00:10",
         40.804534912109375,
         -73.93975067138672
        ],
        [
         "Manhattan",
         "2014-04-12 13:02:32",
         40.839324951171875,
         -73.94123077392578
        ],
        [
         "Brooklyn",
         "2014-04-12 13:03:16",
         40.67294692993164,
         -73.98639678955078
        ],
        [
         "Queens",
         "2014-04-12 13:05:29",
         40.76734161376953,
         -73.88229370117188
        ],
        [
         "Brooklyn",
         "2014-04-12 13:11:48",
         40.6979866027832,
         -73.99268341064453
        ],
        [
         "Bronx",
         "2014-04-12 13:13:14",
         40.83481216430664,
         -73.8671875
        ],
        [
         "Queens",
         "2014-04-12 13:25:32",
         40.72982406616211,
         -73.86217498779297
        ],
        [
         "Queens",
         "2014-04-12 13:27:15",
         40.74440383911133,
         -73.94916534423828
        ],
        [
         "Brooklyn",
         "2014-04-12 13:29:58",
         40.68974304199219,
         -73.99217987060547
        ],
        [
         "Queens",
         "2014-04-12 13:31:09",
         40.755035400390625,
         -73.92219543457031
        ],
        [
         "Queens",
         "2014-04-12 13:33:18",
         40.746952056884766,
         -73.8906478881836
        ],
        [
         "Manhattan",
         "2014-04-12 13:36:13",
         40.80559539794922,
         -73.9400634765625
        ],
        [
         "Manhattan",
         "2014-04-12 13:36:49",
         40.82020950317383,
         -73.93572235107422
        ],
        [
         "Bronx",
         "2014-04-12 13:41:32",
         40.82292175292969,
         -73.86870574951172
        ],
        [
         "Manhattan",
         "2014-04-12 13:42:01",
         40.80795669555664,
         -73.9451904296875
        ],
        [
         "Brooklyn",
         "2014-04-12 13:45:22",
         40.6960334777832,
         -73.99116516113281
        ],
        [
         "Queens",
         "2014-04-12 13:50:12",
         40.775997161865234,
         -73.91056060791016
        ],
        [
         "Brooklyn",
         "2014-04-12 13:52:14",
         40.71588134765625,
         -73.95974731445312
        ],
        [
         "Manhattan",
         "2014-04-12 13:54:50",
         40.79051208496094,
         -73.95149230957031
        ],
        [
         "Manhattan",
         "2014-04-12 13:55:12",
         40.8106689453125,
         -73.95838928222656
        ],
        [
         "Brooklyn",
         "2014-04-12 13:57:30",
         40.67863845825195,
         -73.96839141845703
        ],
        [
         "Brooklyn",
         "2014-04-12 14:01:26",
         40.716129302978516,
         -73.95942687988281
        ],
        [
         "Queens",
         "2014-04-12 14:04:02",
         40.735252380371094,
         -73.86532592773438
        ],
        [
         "Brooklyn",
         "2014-04-12 14:06:20",
         40.68974304199219,
         -73.98119354248047
        ],
        [
         "Manhattan",
         "2014-04-12 14:12:31",
         40.84101867675781,
         -73.93997192382812
        ],
        [
         "Brooklyn",
         "2014-04-12 14:13:22",
         40.70016098022461,
         -73.99478912353516
        ],
        [
         "Manhattan",
         "2014-04-12 14:14:08",
         40.8661003112793,
         -73.92236328125
        ],
        [
         "Manhattan",
         "2014-04-12 14:14:25",
         40.80103302001953,
         -73.95784759521484
        ],
        [
         "Manhattan",
         "2014-04-12 14:15:10",
         40.80398178100586,
         -73.95568084716797
        ],
        [
         "Queens",
         "2014-04-12 14:15:37",
         40.7209587097168,
         -73.84406280517578
        ],
        [
         "Queens",
         "2014-04-12 14:22:31",
         40.721031188964844,
         -73.84417724609375
        ],
        [
         "Manhattan",
         "2014-04-12 14:26:04",
         40.80341339111328,
         -73.96491241455078
        ],
        [
         "Manhattan",
         "2014-04-12 14:29:12",
         40.79546356201172,
         -73.93207550048828
        ],
        [
         "Brooklyn",
         "2014-04-12 14:29:22",
         40.689491271972656,
         -73.95140075683594
        ],
        [
         "Manhattan",
         "2014-04-12 14:32:07",
         40.805503845214844,
         -73.9390640258789
        ],
        [
         "Manhattan",
         "2014-04-12 14:36:41",
         40.808773040771484,
         -73.9485092163086
        ],
        [
         "Manhattan",
         "2014-04-12 14:38:45",
         40.80784225463867,
         -73.96427154541016
        ],
        [
         "Brooklyn",
         "2014-04-12 14:42:00",
         40.69209289550781,
         -73.98751068115234
        ],
        [
         "Bronx",
         "2014-04-12 14:42:39",
         40.840816497802734,
         -73.9283676147461
        ],
        [
         "Manhattan",
         "2014-04-12 14:45:19",
         40.814212799072266,
         -73.9411849975586
        ],
        [
         "Queens",
         "2014-04-12 14:47:34",
         40.766754150390625,
         -73.92127227783203
        ],
        [
         "Manhattan",
         "2014-04-12 14:47:41",
         40.81345748901367,
         -73.94127655029297
        ],
        [
         "Manhattan",
         "2014-04-12 14:48:14",
         40.8060417175293,
         -73.93609619140625
        ],
        [
         "Queens",
         "2014-04-12 14:50:58",
         40.75691604614258,
         -73.9295654296875
        ],
        [
         "Manhattan",
         "2014-04-12 14:51:54",
         40.83760452270508,
         -73.94265747070312
        ],
        [
         "Bronx",
         "2014-04-12 14:55:44",
         40.87421798706055,
         -73.88682556152344
        ],
        [
         "Manhattan",
         "2014-04-12 14:57:41",
         40.80799865722656,
         -73.94589233398438
        ],
        [
         "Manhattan",
         "2014-04-12 14:59:37",
         40.80729293823242,
         -73.95333099365234
        ],
        [
         "Bronx",
         "2014-04-12 15:00:58",
         40.83550262451172,
         -73.86128234863281
        ],
        [
         "Brooklyn",
         "2014-04-12 15:06:31",
         40.673885345458984,
         -73.97586059570312
        ],
        [
         "Manhattan",
         "2014-04-12 15:08:24",
         40.810302734375,
         -73.95242309570312
        ],
        [
         "Queens",
         "2014-04-12 15:09:19",
         40.72140884399414,
         -73.84420013427734
        ],
        [
         "Manhattan",
         "2014-04-12 15:15:02",
         40.80820083618164,
         -73.96343994140625
        ],
        [
         "Brooklyn",
         "2014-04-12 15:17:15",
         40.69961929321289,
         -73.92146301269531
        ],
        [
         "Manhattan",
         "2014-04-12 15:22:14",
         40.84860610961914,
         -73.93724822998047
        ],
        [
         "Queens",
         "2014-04-12 15:30:04",
         40.75214385986328,
         -73.92679595947266
        ],
        [
         "Manhattan",
         "2014-04-12 15:30:36",
         40.78679275512695,
         -73.95280456542969
        ],
        [
         "Manhattan",
         "2014-04-12 15:41:58",
         40.86351013183594,
         -73.92610168457031
        ],
        [
         "Bronx",
         "2014-04-12 15:43:10",
         40.8291130065918,
         -73.87572479248047
        ],
        [
         "Queens",
         "2014-04-12 15:49:58",
         40.77286911010742,
         -73.92171478271484
        ],
        [
         "Brooklyn",
         "2014-04-12 15:52:24",
         40.71393966674805,
         -73.96161651611328
        ],
        [
         "Manhattan",
         "2014-04-12 15:52:54",
         40.80892562866211,
         -73.95240783691406
        ],
        [
         "Brooklyn",
         "2014-04-12 15:53:16",
         40.684654235839844,
         -73.97880554199219
        ],
        [
         "Queens",
         "2014-04-12 15:59:27",
         40.75922775268555,
         -73.91873931884766
        ],
        [
         "Brooklyn",
         "2014-04-12 16:01:23",
         40.70298767089844,
         -73.99444580078125
        ],
        [
         "Queens",
         "2014-04-12 16:02:07",
         40.74839782714844,
         -73.93858337402344
        ],
        [
         "Queens",
         "2014-04-12 16:03:31",
         40.73515701293945,
         -73.87421417236328
        ],
        [
         "Manhattan",
         "2014-04-12 16:03:41",
         40.847015380859375,
         -73.93826293945312
        ],
        [
         "Brooklyn",
         "2014-04-12 16:04:41",
         40.67280578613281,
         -74.00860595703125
        ],
        [
         "Brooklyn",
         "2014-04-12 16:05:52",
         40.684818267822266,
         -73.99467468261719
        ],
        [
         "Brooklyn",
         "2014-04-12 16:09:41",
         40.7238655090332,
         -73.95043182373047
        ],
        [
         "Manhattan",
         "2014-04-12 16:12:12",
         40.795265197753906,
         -73.93321228027344
        ],
        [
         "Manhattan",
         "2014-04-12 16:14:13",
         40.840118408203125,
         -73.9406967163086
        ],
        [
         "Queens",
         "2014-04-12 16:14:54",
         40.755775451660156,
         -73.92807006835938
        ],
        [
         "Queens",
         "2014-04-12 16:18:53",
         40.72145080566406,
         -73.84423065185547
        ],
        [
         "Manhattan",
         "2014-04-12 16:20:35",
         40.80465316772461,
         -73.93739318847656
        ],
        [
         "Queens",
         "2014-04-12 16:23:30",
         40.73395538330078,
         -73.87091827392578
        ],
        [
         "Bronx",
         "2014-04-12 16:27:36",
         40.84160232543945,
         -73.87203216552734
        ],
        [
         "Brooklyn",
         "2014-04-12 16:30:17",
         40.68988800048828,
         -73.97836303710938
        ],
        [
         "Brooklyn",
         "2014-04-12 16:30:59",
         40.70279312133789,
         -73.99006652832031
        ],
        [
         "Queens",
         "2014-04-12 16:35:29",
         40.74831008911133,
         -73.94731903076172
        ],
        [
         "Manhattan",
         "2014-04-12 16:36:23",
         40.80242156982422,
         -73.9494400024414
        ],
        [
         "Brooklyn",
         "2014-04-12 16:37:30",
         40.64503479003906,
         -74.01415252685547
        ],
        [
         "Brooklyn",
         "2014-04-12 16:38:29",
         40.72079849243164,
         -73.95690155029297
        ],
        [
         "Queens",
         "2014-04-12 16:42:47",
         40.74238586425781,
         -73.88189697265625
        ],
        [
         "Queens",
         "2014-04-12 16:43:34",
         40.7753791809082,
         -73.91217803955078
        ],
        [
         "Manhattan",
         "2014-04-12 16:44:58",
         40.790367126464844,
         -73.94760131835938
        ],
        [
         "Queens",
         "2014-04-12 16:45:34",
         40.755489349365234,
         -73.8871078491211
        ],
        [
         "Brooklyn",
         "2014-04-12 16:46:31",
         40.68459701538086,
         -73.97767639160156
        ],
        [
         "Queens",
         "2014-04-12 16:46:59",
         40.73729705810547,
         -73.87752532958984
        ],
        [
         "Queens",
         "2014-04-12 16:47:19",
         40.74699020385742,
         -73.956298828125
        ],
        [
         "Manhattan",
         "2014-04-12 16:48:12",
         40.80477523803711,
         -73.96253204345703
        ],
        [
         "Manhattan",
         "2014-04-12 16:48:21",
         40.786407470703125,
         -73.95233917236328
        ],
        [
         "Brooklyn",
         "2014-04-12 16:49:03",
         40.68457794189453,
         -73.9786376953125
        ],
        [
         "Brooklyn",
         "2014-04-12 16:51:54",
         40.68889617919922,
         -73.98770141601562
        ],
        [
         "Brooklyn",
         "2014-04-12 16:53:26",
         40.68484115600586,
         -73.97803497314453
        ],
        [
         "Bronx",
         "2014-04-12 16:55:41",
         40.83550262451172,
         -73.86128234863281
        ],
        [
         "Queens",
         "2014-04-12 16:56:04",
         40.73279571533203,
         -73.8639144897461
        ],
        [
         "Manhattan",
         "2014-04-12 17:01:01",
         40.80348205566406,
         -73.95616149902344
        ],
        [
         "Brooklyn",
         "2014-04-12 17:02:46",
         40.71508026123047,
         -73.96273803710938
        ],
        [
         "Manhattan",
         "2014-04-12 17:05:08",
         40.80870056152344,
         -73.93755340576172
        ],
        [
         "Manhattan",
         "2014-04-12 17:05:53",
         40.8049201965332,
         -73.93860626220703
        ],
        [
         "Brooklyn",
         "2014-04-12 17:09:37",
         40.67376708984375,
         -73.98258972167969
        ],
        [
         "Queens",
         "2014-04-12 17:09:39",
         40.76871871948242,
         -73.9253158569336
        ],
        [
         "Brooklyn",
         "2014-04-12 17:17:11",
         40.68876647949219,
         -73.98902130126953
        ],
        [
         "Brooklyn",
         "2014-04-12 17:17:17",
         40.71887969970703,
         -73.96112823486328
        ],
        [
         "Brooklyn",
         "2014-04-12 17:18:07",
         40.69065856933594,
         -73.99552917480469
        ],
        [
         "Manhattan",
         "2014-04-12 17:19:02",
         40.80830001831055,
         -73.9639892578125
        ],
        [
         "Queens",
         "2014-04-12 17:21:13",
         40.75533676147461,
         -73.92207336425781
        ],
        [
         "Queens",
         "2014-04-12 17:23:47",
         40.766822814941406,
         -73.92125701904297
        ],
        [
         "Queens",
         "2014-04-12 17:25:08",
         40.720638275146484,
         -73.84441375732422
        ],
        [
         "Manhattan",
         "2014-04-12 17:31:11",
         40.790767669677734,
         -73.95130157470703
        ],
        [
         "Queens",
         "2014-04-12 17:33:33",
         40.74650192260742,
         -73.89061737060547
        ],
        [
         "Queens",
         "2014-04-12 17:34:46",
         40.7080078125,
         -73.81779479980469
        ],
        [
         "Manhattan",
         "2014-04-12 17:39:59",
         40.7901611328125,
         -73.95186614990234
        ],
        [
         "Queens",
         "2014-04-12 17:41:17",
         40.752540588378906,
         -73.91494750976562
        ],
        [
         "Brooklyn",
         "2014-04-12 17:45:47",
         40.713111877441406,
         -73.96216583251953
        ],
        [
         "Manhattan",
         "2014-04-12 17:45:58",
         40.80213928222656,
         -73.94998931884766
        ],
        [
         "Queens",
         "2014-04-12 17:46:02",
         40.733978271484375,
         -73.8709716796875
        ],
        [
         "Brooklyn",
         "2014-04-12 17:46:56",
         40.66977310180664,
         -73.96229553222656
        ],
        [
         "Manhattan",
         "2014-04-12 17:47:23",
         40.859073638916016,
         -73.93096160888672
        ],
        [
         "Brooklyn",
         "2014-04-12 17:53:13",
         40.70310974121094,
         -73.99430084228516
        ],
        [
         "Queens",
         "2014-04-12 17:53:56",
         40.766197204589844,
         -73.92623138427734
        ],
        [
         "Bronx",
         "2014-04-12 17:54:08",
         40.827632904052734,
         -73.9246826171875
        ],
        [
         "Queens",
         "2014-04-12 17:54:37",
         40.762760162353516,
         -73.92716979980469
        ],
        [
         "Bronx",
         "2014-04-12 17:56:30",
         40.8537712097168,
         -73.9071273803711
        ],
        [
         "Queens",
         "2014-04-12 17:56:51",
         40.74461364746094,
         -73.90234375
        ],
        [
         "Bronx",
         "2014-04-12 17:57:20",
         40.841087341308594,
         -73.85173034667969
        ],
        [
         "Queens",
         "2014-04-12 17:58:24",
         40.721275329589844,
         -73.84426879882812
        ],
        [
         "Queens",
         "2014-04-12 17:58:46",
         40.76080322265625,
         -73.93603515625
        ],
        [
         "Bronx",
         "2014-04-12 18:00:19",
         40.84865188598633,
         -73.88375091552734
        ],
        [
         "Brooklyn",
         "2014-04-12 18:01:17",
         40.67442321777344,
         -73.97545623779297
        ],
        [
         "Brooklyn",
         "2014-04-12 18:03:04",
         40.71812057495117,
         -73.95948028564453
        ],
        [
         "Manhattan",
         "2014-04-12 18:05:06",
         40.80552291870117,
         -73.93924713134766
        ],
        [
         "Manhattan",
         "2014-04-12 18:05:15",
         40.80558776855469,
         -73.93939208984375
        ],
        [
         "Brooklyn",
         "2014-04-12 18:12:24",
         40.68273162841797,
         -73.99307250976562
        ],
        [
         "Bronx",
         "2014-04-12 18:13:19",
         40.84001541137695,
         -73.87704467773438
        ],
        [
         "Brooklyn",
         "2014-04-12 18:13:27",
         40.72736358642578,
         -73.95291137695312
        ],
        [
         "Manhattan",
         "2014-04-12 18:14:33",
         40.834835052490234,
         -73.94438934326172
        ],
        [
         "Manhattan",
         "2014-04-12 18:19:31",
         40.810646057128906,
         -73.94319915771484
        ],
        [
         "Manhattan",
         "2014-04-12 18:26:13",
         40.79922103881836,
         -73.95488739013672
        ],
        [
         "Queens",
         "2014-04-12 18:28:31",
         40.76871871948242,
         -73.92515563964844
        ],
        [
         "Brooklyn",
         "2014-04-12 18:28:46",
         40.72537612915039,
         -73.95468139648438
        ],
        [
         "Brooklyn",
         "2014-04-12 18:31:30",
         40.62303161621094,
         -74.0286865234375
        ],
        [
         "Manhattan",
         "2014-04-12 18:34:43",
         40.804779052734375,
         -73.95510864257812
        ],
        [
         null,
         "2014-04-12 18:36:33",
         40.712547302246094,
         -73.96937561035156
        ],
        [
         "Manhattan",
         "2014-04-12 18:37:06",
         40.80400848388672,
         -73.96632385253906
        ],
        [
         "Brooklyn",
         "2014-04-12 18:37:16",
         40.72902297973633,
         -73.95748138427734
        ],
        [
         "Bronx",
         "2014-04-12 18:46:24",
         40.80448913574219,
         -73.92166137695312
        ],
        [
         "Queens",
         "2014-04-12 18:46:37",
         40.767494201660156,
         -73.91069793701172
        ],
        [
         "Queens",
         "2014-04-12 18:50:31",
         40.705299377441406,
         -73.79540252685547
        ],
        [
         "Manhattan",
         "2014-04-12 18:52:54",
         40.82461929321289,
         -73.94611358642578
        ],
        [
         "Bronx",
         "2014-04-12 18:54:54",
         40.83708572387695,
         -73.8884506225586
        ],
        [
         "Queens",
         "2014-04-12 18:54:54",
         40.70846176147461,
         -73.8184814453125
        ],
        [
         "Queens",
         "2014-04-12 18:55:06",
         40.75611877441406,
         -73.91292572021484
        ],
        [
         "Manhattan",
         "2014-04-12 18:56:14",
         40.79050064086914,
         -73.95172119140625
        ],
        [
         "Manhattan",
         "2014-04-12 18:56:32",
         40.793426513671875,
         -73.94967651367188
        ],
        [
         "Brooklyn",
         "2014-04-12 18:58:03",
         40.684505462646484,
         -73.97843170166016
        ],
        [
         "Queens",
         "2014-04-12 18:59:06",
         40.75943374633789,
         -73.83072662353516
        ],
        [
         "Brooklyn",
         "2014-04-12 19:00:55",
         40.71654510498047,
         -73.96165466308594
        ],
        [
         "Queens",
         "2014-04-12 19:01:48",
         40.76382064819336,
         -73.91471099853516
        ],
        [
         "Manhattan",
         "2014-04-12 19:02:10",
         40.847225189208984,
         -73.93536376953125
        ],
        [
         "Manhattan",
         "2014-04-12 19:02:18",
         40.785274505615234,
         -73.94920349121094
        ],
        [
         "Brooklyn",
         "2014-04-12 19:02:23",
         40.691436767578125,
         -73.95182800292969
        ],
        [
         "Bronx",
         "2014-04-12 19:03:02",
         40.85273361206055,
         -73.8272933959961
        ],
        [
         "Manhattan",
         "2014-04-12 19:03:49",
         40.78727722167969,
         -73.94168090820312
        ],
        [
         "Manhattan",
         "2014-04-12 19:06:07",
         40.806060791015625,
         -73.96549224853516
        ],
        [
         "Brooklyn",
         "2014-04-12 19:07:48",
         40.675411224365234,
         -73.9576644897461
        ],
        [
         "Brooklyn",
         "2014-04-12 19:08:08",
         40.68281173706055,
         -73.99310302734375
        ],
        [
         "Queens",
         "2014-04-12 19:08:10",
         40.746578216552734,
         -73.89122772216797
        ],
        [
         "Manhattan",
         "2014-04-12 19:08:58",
         40.803096771240234,
         -73.94469451904297
        ],
        [
         "Bronx",
         "2014-04-12 19:10:31",
         40.86247634887695,
         -73.8969955444336
        ],
        [
         "Manhattan",
         "2014-04-12 19:11:03",
         40.83933639526367,
         -73.94094848632812
        ],
        [
         "Brooklyn",
         "2014-04-12 19:11:20",
         40.713932037353516,
         -73.96168518066406
        ],
        [
         "Brooklyn",
         "2014-04-12 19:20:42",
         40.68954849243164,
         -73.98824310302734
        ],
        [
         "Brooklyn",
         "2014-04-12 19:24:22",
         40.7224235534668,
         -73.95941162109375
        ],
        [
         "Manhattan",
         "2014-04-12 19:24:25",
         40.80656814575195,
         -73.94640350341797
        ],
        [
         "Brooklyn",
         "2014-04-12 19:27:49",
         40.721832275390625,
         -73.95794677734375
        ],
        [
         "Bronx",
         "2014-04-12 19:29:07",
         40.812095642089844,
         -73.93032836914062
        ],
        [
         "Brooklyn",
         "2014-04-12 19:30:11",
         40.71700668334961,
         -73.9565200805664
        ],
        [
         "Manhattan",
         "2014-04-12 19:31:10",
         40.79534149169922,
         -73.94823455810547
        ],
        [
         "Brooklyn",
         "2014-04-12 19:31:26",
         40.66164016723633,
         -73.99304962158203
        ],
        [
         "Manhattan",
         "2014-04-12 19:31:44",
         40.79576873779297,
         -73.93252563476562
        ],
        [
         "Manhattan",
         "2014-04-12 19:32:59",
         40.81559371948242,
         -73.94723510742188
        ],
        [
         "Queens",
         "2014-04-12 19:33:02",
         40.74442672729492,
         -73.95574951171875
        ],
        [
         "Bronx",
         "2014-04-12 19:33:07",
         40.84687042236328,
         -73.9089584350586
        ],
        [
         "Manhattan",
         "2014-04-12 19:33:12",
         40.817893981933594,
         -73.93791198730469
        ],
        [
         "Brooklyn",
         "2014-04-12 19:33:41",
         40.674217224121094,
         -73.98201751708984
        ],
        [
         "Brooklyn",
         "2014-04-12 19:34:12",
         40.67812728881836,
         -73.9791030883789
        ],
        [
         "Queens",
         "2014-04-12 19:36:38",
         40.7415657043457,
         -73.8685073852539
        ],
        [
         "Brooklyn",
         "2014-04-12 19:37:45",
         40.71520233154297,
         -73.96037292480469
        ],
        [
         "Bronx",
         "2014-04-12 19:39:24",
         40.820228576660156,
         -73.92088317871094
        ],
        [
         "Bronx",
         "2014-04-12 19:39:29",
         40.83976364135742,
         -73.85375213623047
        ],
        [
         "Manhattan",
         "2014-04-12 19:41:11",
         40.84777069091797,
         -73.93797302246094
        ],
        [
         "Brooklyn",
         "2014-04-12 19:44:10",
         40.69963836669922,
         -73.98039245605469
        ],
        [
         "Manhattan",
         "2014-04-12 19:44:48",
         40.80997848510742,
         -73.9507064819336
        ],
        [
         "Bronx",
         "2014-04-12 19:46:52",
         40.86286544799805,
         -73.9014663696289
        ],
        [
         "Brooklyn",
         "2014-04-12 19:46:55",
         40.6798210144043,
         -73.9892349243164
        ],
        [
         "Queens",
         "2014-04-12 19:50:40",
         40.73040771484375,
         -73.86247253417969
        ],
        [
         "Brooklyn",
         "2014-04-12 19:50:59",
         40.67047882080078,
         -73.98888397216797
        ],
        [
         "Brooklyn",
         "2014-04-12 19:52:21",
         40.71662139892578,
         -73.96175384521484
        ],
        [
         "Brooklyn",
         "2014-04-12 19:52:25",
         40.680057525634766,
         -73.97802734375
        ],
        [
         "Queens",
         "2014-04-12 19:52:54",
         40.745872497558594,
         -73.90118408203125
        ],
        [
         "Queens",
         "2014-04-12 19:57:17",
         40.747406005859375,
         -73.8852767944336
        ],
        [
         "Queens",
         "2014-04-12 19:57:45",
         40.74993133544922,
         -73.8619155883789
        ],
        [
         "Queens",
         "2014-04-12 20:00:09",
         40.74892807006836,
         -73.8724136352539
        ],
        [
         "Bronx",
         "2014-04-12 20:01:25",
         40.8624153137207,
         -73.89649963378906
        ],
        [
         "Manhattan",
         "2014-04-12 20:01:43",
         40.810096740722656,
         -73.95858764648438
        ],
        [
         "Queens",
         "2014-04-12 20:02:07",
         40.71221923828125,
         -73.82554626464844
        ],
        [
         "Brooklyn",
         "2014-04-12 20:03:43",
         40.71037292480469,
         -73.96408081054688
        ],
        [
         "Queens",
         "2014-04-12 20:07:29",
         40.746055603027344,
         -73.88984680175781
        ],
        [
         "Brooklyn",
         "2014-04-12 20:08:47",
         40.696311950683594,
         -73.99020385742188
        ],
        [
         "Queens",
         "2014-04-12 20:08:58",
         40.76631164550781,
         -73.92076873779297
        ],
        [
         "Brooklyn",
         "2014-04-12 20:09:23",
         40.68465805053711,
         -73.99176788330078
        ],
        [
         "Queens",
         "2014-04-12 20:10:48",
         40.75342559814453,
         -73.90647888183594
        ],
        [
         "Manhattan",
         "2014-04-12 20:12:03",
         40.86574172973633,
         -73.9266586303711
        ],
        [
         "Queens",
         "2014-04-12 20:12:48",
         40.7685432434082,
         -73.9249496459961
        ],
        [
         "Brooklyn",
         "2014-04-12 20:13:42",
         40.62806701660156,
         -73.95698547363281
        ],
        [
         "Queens",
         "2014-04-12 20:14:58",
         40.7752571105957,
         -73.91165924072266
        ],
        [
         "Queens",
         "2014-04-12 20:17:35",
         40.74202346801758,
         -73.9070053100586
        ],
        [
         "Bronx",
         "2014-04-12 20:17:54",
         40.819557189941406,
         -73.90140533447266
        ],
        [
         "Brooklyn",
         "2014-04-12 20:18:00",
         40.73028564453125,
         -73.95419311523438
        ],
        [
         "Bronx",
         "2014-04-12 20:20:14",
         40.86148452758789,
         -73.89153289794922
        ],
        [
         "Bronx",
         "2014-04-12 20:20:47",
         40.83363342285156,
         -73.9188461303711
        ],
        [
         "Brooklyn",
         "2014-04-12 20:22:39",
         40.67620086669922,
         -73.96131134033203
        ],
        [
         "Brooklyn",
         "2014-04-12 20:25:13",
         40.69051742553711,
         -73.99801635742188
        ],
        [
         "Brooklyn",
         "2014-04-12 20:27:39",
         40.71194839477539,
         -73.9661865234375
        ],
        [
         "Queens",
         "2014-04-12 20:28:55",
         40.74692916870117,
         -73.890625
        ],
        [
         "Manhattan",
         "2014-04-12 20:30:34",
         40.81422424316406,
         -73.95940399169922
        ],
        [
         "Queens",
         "2014-04-12 20:31:34",
         40.76237487792969,
         -73.92517852783203
        ],
        [
         "Queens",
         "2014-04-12 20:31:39",
         40.749263763427734,
         -73.88916778564453
        ],
        [
         "Bronx",
         "2014-04-12 20:36:03",
         40.85893249511719,
         -73.89930725097656
        ],
        [
         "Brooklyn",
         "2014-04-12 20:40:28",
         40.693260192871094,
         -73.97216033935547
        ],
        [
         "Queens",
         "2014-04-12 20:46:46",
         40.764217376708984,
         -73.90927124023438
        ],
        [
         "Manhattan",
         "2014-04-12 20:46:54",
         40.8090705871582,
         -73.94864654541016
        ],
        [
         "Brooklyn",
         "2014-04-12 20:46:59",
         40.71445083618164,
         -73.96121215820312
        ],
        [
         "Queens",
         "2014-04-12 20:54:54",
         40.715335845947266,
         -73.83197784423828
        ],
        [
         "Brooklyn",
         "2014-04-12 20:59:07",
         40.682533264160156,
         -73.96240234375
        ],
        [
         "Manhattan",
         "2014-04-12 20:59:34",
         40.823951721191406,
         -73.94462585449219
        ]
       ],
       "datasetInfos": [],
       "dbfsResultPath": null,
       "isJsonSchema": true,
       "metadata": {},
       "overflow": true,
       "plotOptions": {
        "customPlotOptions": {},
        "displayType": "table",
        "pivotAggregation": null,
        "pivotColumns": null,
        "xColumns": null,
        "yColumns": null
       },
       "removedWidgets": [],
       "schema": [
        {
         "metadata": "{}",
         "name": "pickup_borough",
         "type": "\"string\""
        },
        {
         "metadata": "{}",
         "name": "pickup_datetime",
         "type": "\"string\""
        },
        {
         "metadata": "{}",
         "name": "pickup_latitude",
         "type": "\"double\""
        },
        {
         "metadata": "{}",
         "name": "pickup_longitude",
         "type": "\"double\""
        }
       ],
       "type": "table"
      }
     },
     "output_type": "display_data"
    }
   ],
   "source": [
    "display(df_raw_borough.select([\"pickup_borough\",\"pickup_datetime\",\"pickup_latitude\",\"pickup_longitude\"]))"
   ]
  }
 ],
 "metadata": {
  "application/vnd.databricks.v1+notebook": {
   "dashboards": [],
   "language": "python",
   "notebookMetadata": {
    "mostRecentlyExecutedCommandWithImplicitDF": {
     "commandId": 1373382088444218,
     "dataframes": [
      "_sqldf"
     ]
    },
    "pythonIndentUnit": 2
   },
   "notebookName": "Demos - Geo - GeoPandas - NYC taxi trips",
   "widgets": {}
  }
 },
 "nbformat": 4,
 "nbformat_minor": 0
}
