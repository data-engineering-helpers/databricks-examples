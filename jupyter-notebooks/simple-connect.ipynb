{
 "cells": [
  {
   "cell_type": "code",
   "execution_count": 1,
   "id": "49996c54-e22f-401a-aa1b-08bd4e97d312",
   "metadata": {},
   "outputs": [],
   "source": [
    "# Import Libraries\n",
    "from pyspark.sql.types import StructType, StructField, FloatType, BooleanType\n",
    "from pyspark.sql.types import DoubleType, IntegerType, StringType\n",
    "from pyspark.sql import SparkSession\n",
    "\n",
    "# Setup the Configuration\n",
    "#conf = pyspark.SparkConf()\n",
    "\n",
    "# Stop the regular Spark session (started without Spark Connect)\n",
    "try:\n",
    "    SparkSession.builder.master(\"local[*]\").getOrCreate().stop()\n",
    "except Exception as err:\n",
    "    print(err)\n",
    "    pass\n",
    "\n",
    "# Initialize the Spark session through Spark Connect\n",
    "spark = SparkSession.builder.remote(\"sc://localhost:15002\").getOrCreate()"
   ]
  },
  {
   "cell_type": "code",
   "execution_count": 2,
   "id": "e9adcf1a-d584-4c92-bf16-81e79b646040",
   "metadata": {},
   "outputs": [],
   "source": [
    "# Setup the Schema\n",
    "schema = StructType([\n",
    "StructField(\"User ID\", IntegerType(),True),\n",
    "StructField(\"Username\", StringType(),True),\n",
    "StructField(\"Browser\", StringType(),True),\n",
    "StructField(\"OS\", StringType(),True),\n",
    "])\n",
    "\n",
    "# Add Data\n",
    "data = ([(1580, \"Barry\", \"FireFox\", \"Windows\" ),\n",
    "(5820, \"Sam\", \"MS Edge\", \"Linux\"),\n",
    "(2340, \"Harry\", \"Vivaldi\", \"Windows\"),\n",
    "(7860, \"Albert\", \"Chrome\", \"Windows\"),\n",
    "(1123, \"May\", \"Safari\", \"macOS\")\n",
    "])\n",
    "\n",
    "# Setup the Data Frame\n",
    "user_data_df = spark.createDataFrame(data,schema=schema)"
   ]
  },
  {
   "cell_type": "code",
   "execution_count": 3,
   "id": "d35cb9a9-537d-43c7-a89d-10bf733eaea5",
   "metadata": {},
   "outputs": [
    {
     "name": "stdout",
     "output_type": "stream",
     "text": [
      "+-------+--------+-------+-------+\n",
      "|User ID|Username|Browser|     OS|\n",
      "+-------+--------+-------+-------+\n",
      "|   1580|   Barry|FireFox|Windows|\n",
      "|   5820|     Sam|MS Edge|  Linux|\n",
      "|   2340|   Harry|Vivaldi|Windows|\n",
      "|   7860|  Albert| Chrome|Windows|\n",
      "|   1123|     May| Safari|  macOS|\n",
      "+-------+--------+-------+-------+\n",
      "\n"
     ]
    }
   ],
   "source": [
    "user_data_df.show()"
   ]
  },
  {
   "cell_type": "code",
   "execution_count": null,
   "id": "5bedd4cf-070c-43c4-94e5-29421994a333",
   "metadata": {},
   "outputs": [],
   "source": []
  }
 ],
 "metadata": {
  "kernelspec": {
   "display_name": "Python 3 (ipykernel)",
   "language": "python",
   "name": "python3"
  },
  "language_info": {
   "codemirror_mode": {
    "name": "ipython",
    "version": 3
   },
   "file_extension": ".py",
   "mimetype": "text/x-python",
   "name": "python",
   "nbconvert_exporter": "python",
   "pygments_lexer": "ipython3",
   "version": "3.10.12"
  }
 },
 "nbformat": 4,
 "nbformat_minor": 5
}
